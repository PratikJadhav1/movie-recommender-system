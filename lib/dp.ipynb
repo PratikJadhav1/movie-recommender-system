{
 "metadata": {
  "language_info": {
   "codemirror_mode": {
    "name": "ipython",
    "version": 3
   },
   "file_extension": ".py",
   "mimetype": "text/x-python",
   "name": "python",
   "nbconvert_exporter": "python",
   "pygments_lexer": "ipython3",
   "version": "3.8.5"
  },
  "orig_nbformat": 4,
  "kernelspec": {
   "name": "python3",
   "display_name": "Python 3.8.5 64-bit ('base': conda)"
  },
  "interpreter": {
   "hash": "73e03da126b73bfff3642ec5261d56fa25c444ea595de51041687efaa60dda41"
  }
 },
 "nbformat": 4,
 "nbformat_minor": 2,
 "cells": [
  {
   "cell_type": "code",
   "execution_count": 1,
   "metadata": {},
   "outputs": [],
   "source": [
    "import pandas as pd"
   ]
  },
  {
   "cell_type": "code",
   "execution_count": 2,
   "metadata": {},
   "outputs": [],
   "source": [
    "data = pd.read_csv(\"../data/uml/Movie csv.csv\")"
   ]
  },
  {
   "cell_type": "code",
   "execution_count": 3,
   "metadata": {},
   "outputs": [
    {
     "output_type": "execute_result",
     "data": {
      "text/plain": [
       "          Movie Name  Genere Language                      Actor  \\\n",
       "0              Radhe  Action    Hindi                Salman khan   \n",
       "1             Flight  Action    Hindi               Mohit Chadda   \n",
       "2         Mumbi Saga  Action    Hindi  John Abraham,Imran Hashmi   \n",
       "3   Vijay The Master  Action    Hindi     Vijay,Vijay Sethupathi   \n",
       "4  Chakra Ka Rakshak  Action    Hindi                     Vishal   \n",
       "\n",
       "            Actress  Rating Comments  \n",
       "0      Disha Patani     4.0     good  \n",
       "1               NaN     3.0     good  \n",
       "2               NaN     5.0     good  \n",
       "3          Malavika     4.0   better  \n",
       "4  Regina Casaandra     4.0   better  "
      ],
      "text/html": "<div>\n<style scoped>\n    .dataframe tbody tr th:only-of-type {\n        vertical-align: middle;\n    }\n\n    .dataframe tbody tr th {\n        vertical-align: top;\n    }\n\n    .dataframe thead th {\n        text-align: right;\n    }\n</style>\n<table border=\"1\" class=\"dataframe\">\n  <thead>\n    <tr style=\"text-align: right;\">\n      <th></th>\n      <th>Movie Name</th>\n      <th>Genere</th>\n      <th>Language</th>\n      <th>Actor</th>\n      <th>Actress</th>\n      <th>Rating</th>\n      <th>Comments</th>\n    </tr>\n  </thead>\n  <tbody>\n    <tr>\n      <th>0</th>\n      <td>Radhe</td>\n      <td>Action</td>\n      <td>Hindi</td>\n      <td>Salman khan</td>\n      <td>Disha Patani</td>\n      <td>4.0</td>\n      <td>good</td>\n    </tr>\n    <tr>\n      <th>1</th>\n      <td>Flight</td>\n      <td>Action</td>\n      <td>Hindi</td>\n      <td>Mohit Chadda</td>\n      <td>NaN</td>\n      <td>3.0</td>\n      <td>good</td>\n    </tr>\n    <tr>\n      <th>2</th>\n      <td>Mumbi Saga</td>\n      <td>Action</td>\n      <td>Hindi</td>\n      <td>John Abraham,Imran Hashmi</td>\n      <td>NaN</td>\n      <td>5.0</td>\n      <td>good</td>\n    </tr>\n    <tr>\n      <th>3</th>\n      <td>Vijay The Master</td>\n      <td>Action</td>\n      <td>Hindi</td>\n      <td>Vijay,Vijay Sethupathi</td>\n      <td>Malavika</td>\n      <td>4.0</td>\n      <td>better</td>\n    </tr>\n    <tr>\n      <th>4</th>\n      <td>Chakra Ka Rakshak</td>\n      <td>Action</td>\n      <td>Hindi</td>\n      <td>Vishal</td>\n      <td>Regina Casaandra</td>\n      <td>4.0</td>\n      <td>better</td>\n    </tr>\n  </tbody>\n</table>\n</div>"
     },
     "metadata": {},
     "execution_count": 3
    }
   ],
   "source": [
    "data.head()"
   ]
  },
  {
   "cell_type": "code",
   "execution_count": 4,
   "metadata": {},
   "outputs": [
    {
     "output_type": "execute_result",
     "data": {
      "text/plain": [
       "          Movie Name  Genere  Rating\n",
       "0              Radhe  Action     4.0\n",
       "1             Flight  Action     3.0\n",
       "2         Mumbi Saga  Action     5.0\n",
       "3   Vijay The Master  Action     4.0\n",
       "4  Chakra Ka Rakshak  Action     4.0"
      ],
      "text/html": "<div>\n<style scoped>\n    .dataframe tbody tr th:only-of-type {\n        vertical-align: middle;\n    }\n\n    .dataframe tbody tr th {\n        vertical-align: top;\n    }\n\n    .dataframe thead th {\n        text-align: right;\n    }\n</style>\n<table border=\"1\" class=\"dataframe\">\n  <thead>\n    <tr style=\"text-align: right;\">\n      <th></th>\n      <th>Movie Name</th>\n      <th>Genere</th>\n      <th>Rating</th>\n    </tr>\n  </thead>\n  <tbody>\n    <tr>\n      <th>0</th>\n      <td>Radhe</td>\n      <td>Action</td>\n      <td>4.0</td>\n    </tr>\n    <tr>\n      <th>1</th>\n      <td>Flight</td>\n      <td>Action</td>\n      <td>3.0</td>\n    </tr>\n    <tr>\n      <th>2</th>\n      <td>Mumbi Saga</td>\n      <td>Action</td>\n      <td>5.0</td>\n    </tr>\n    <tr>\n      <th>3</th>\n      <td>Vijay The Master</td>\n      <td>Action</td>\n      <td>4.0</td>\n    </tr>\n    <tr>\n      <th>4</th>\n      <td>Chakra Ka Rakshak</td>\n      <td>Action</td>\n      <td>4.0</td>\n    </tr>\n  </tbody>\n</table>\n</div>"
     },
     "metadata": {},
     "execution_count": 4
    }
   ],
   "source": [
    "data = data.drop(['Language', 'Actor', 'Actress', 'Comments'], axis=1)\n",
    "data.head()"
   ]
  },
  {
   "cell_type": "code",
   "execution_count": 5,
   "metadata": {},
   "outputs": [
    {
     "output_type": "execute_result",
     "data": {
      "text/plain": [
       "Index(['Movie Name', 'Genere', 'Rating'], dtype='object')"
      ]
     },
     "metadata": {},
     "execution_count": 5
    }
   ],
   "source": [
    "data.columns"
   ]
  },
  {
   "cell_type": "code",
   "execution_count": 6,
   "metadata": {},
   "outputs": [
    {
     "output_type": "execute_result",
     "data": {
      "text/plain": [
       "          Movie Name  Genere  Rating\n",
       "0              Radhe  Action     4.0\n",
       "1             Flight  Action     3.0\n",
       "2         Mumbi Saga  Action     5.0\n",
       "3   Vijay The Master  Action     4.0\n",
       "4  Chakra Ka Rakshak  Action     4.0"
      ],
      "text/html": "<div>\n<style scoped>\n    .dataframe tbody tr th:only-of-type {\n        vertical-align: middle;\n    }\n\n    .dataframe tbody tr th {\n        vertical-align: top;\n    }\n\n    .dataframe thead th {\n        text-align: right;\n    }\n</style>\n<table border=\"1\" class=\"dataframe\">\n  <thead>\n    <tr style=\"text-align: right;\">\n      <th></th>\n      <th>Movie Name</th>\n      <th>Genere</th>\n      <th>Rating</th>\n    </tr>\n  </thead>\n  <tbody>\n    <tr>\n      <th>0</th>\n      <td>Radhe</td>\n      <td>Action</td>\n      <td>4.0</td>\n    </tr>\n    <tr>\n      <th>1</th>\n      <td>Flight</td>\n      <td>Action</td>\n      <td>3.0</td>\n    </tr>\n    <tr>\n      <th>2</th>\n      <td>Mumbi Saga</td>\n      <td>Action</td>\n      <td>5.0</td>\n    </tr>\n    <tr>\n      <th>3</th>\n      <td>Vijay The Master</td>\n      <td>Action</td>\n      <td>4.0</td>\n    </tr>\n    <tr>\n      <th>4</th>\n      <td>Chakra Ka Rakshak</td>\n      <td>Action</td>\n      <td>4.0</td>\n    </tr>\n  </tbody>\n</table>\n</div>"
     },
     "metadata": {},
     "execution_count": 6
    }
   ],
   "source": [
    "data.head()"
   ]
  },
  {
   "cell_type": "code",
   "execution_count": 7,
   "metadata": {},
   "outputs": [
    {
     "output_type": "execute_result",
     "data": {
      "text/plain": [
       "array(['Action', 'Action,Biopic', 'Action,Thriler', ' Action', 'Biopic',\n",
       "       'Story', 'Action,Crime', 'Action ', 'Actoin ', 'Comedy',\n",
       "       'Crime,Drama', 'Comedy,Drama', 'Horoor', 'Drama', 'Comedy,horoor',\n",
       "       'Romance,Drama', 'Story,Drama', 'Story,Romance',\n",
       "       'Action,Romance,Drama', 'Story,Motivation', 'Critics',\n",
       "       'Comedy,Action,Drama', 'Romance,Drama,Action', 'Story,Darama',\n",
       "       'comedy', 'Comedy,Horoor', 'History,Drama', 'Drama,Comedy',\n",
       "       'Drama,Action', 'Drama,Actiom', 'Drama ', 'Biopic,Sports',\n",
       "       'Sports', 'Action,Drama', 'Action,History', 'Drama,Science',\n",
       "       'Drama,Romance'], dtype=object)"
      ]
     },
     "metadata": {},
     "execution_count": 7
    }
   ],
   "source": [
    "data[\"Genere\"].unique()"
   ]
  },
  {
   "cell_type": "code",
   "execution_count": 8,
   "metadata": {},
   "outputs": [],
   "source": [
    "g = ['Action', 'Biopic', 'Thriler',\n",
    "       'Story', 'Crime','Comedy',\n",
    "       'Drama', 'Horoor', \n",
    "       'Romance,', 'Motivation', 'Critics',\n",
    "       'History', 'Drama,Comedy', 'Sports',\n",
    "       'Science',]"
   ]
  },
  {
   "cell_type": "code",
   "execution_count": 9,
   "metadata": {},
   "outputs": [
    {
     "output_type": "execute_result",
     "data": {
      "text/plain": [
       "['Action',\n",
       " 'Biopic',\n",
       " 'Thriler',\n",
       " 'Story',\n",
       " 'Crime',\n",
       " 'Comedy',\n",
       " 'Drama',\n",
       " 'Horoor',\n",
       " 'Romance,',\n",
       " 'Motivation',\n",
       " 'Critics',\n",
       " 'History',\n",
       " 'Drama,Comedy',\n",
       " 'Sports',\n",
       " 'Science']"
      ]
     },
     "metadata": {},
     "execution_count": 9
    }
   ],
   "source": [
    "g"
   ]
  },
  {
   "cell_type": "code",
   "execution_count": 10,
   "metadata": {},
   "outputs": [
    {
     "output_type": "execute_result",
     "data": {
      "text/plain": [
       "            Movie Name  Rating             Genere\n",
       "0                Radhe     4.0           [Action]\n",
       "1               Flight     3.0           [Action]\n",
       "2           Mumbi Saga     5.0           [Action]\n",
       "3     Vijay The Master     4.0           [Action]\n",
       "4    Chakra Ka Rakshak     4.0           [Action]\n",
       "..                 ...     ...                ...\n",
       "120               Veer     4.0  [Action, History]\n",
       "121         Veer Zaara     4.0            [Drama]\n",
       "122     Mission Mangal     5.0   [Drama, Science]\n",
       "123    Half GirlFriend     4.0   [Drama, Romance]\n",
       "124       Jagga jasoos     4.0            [Drama]\n",
       "\n",
       "[125 rows x 3 columns]"
      ],
      "text/html": "<div>\n<style scoped>\n    .dataframe tbody tr th:only-of-type {\n        vertical-align: middle;\n    }\n\n    .dataframe tbody tr th {\n        vertical-align: top;\n    }\n\n    .dataframe thead th {\n        text-align: right;\n    }\n</style>\n<table border=\"1\" class=\"dataframe\">\n  <thead>\n    <tr style=\"text-align: right;\">\n      <th></th>\n      <th>Movie Name</th>\n      <th>Rating</th>\n      <th>Genere</th>\n    </tr>\n  </thead>\n  <tbody>\n    <tr>\n      <th>0</th>\n      <td>Radhe</td>\n      <td>4.0</td>\n      <td>[Action]</td>\n    </tr>\n    <tr>\n      <th>1</th>\n      <td>Flight</td>\n      <td>3.0</td>\n      <td>[Action]</td>\n    </tr>\n    <tr>\n      <th>2</th>\n      <td>Mumbi Saga</td>\n      <td>5.0</td>\n      <td>[Action]</td>\n    </tr>\n    <tr>\n      <th>3</th>\n      <td>Vijay The Master</td>\n      <td>4.0</td>\n      <td>[Action]</td>\n    </tr>\n    <tr>\n      <th>4</th>\n      <td>Chakra Ka Rakshak</td>\n      <td>4.0</td>\n      <td>[Action]</td>\n    </tr>\n    <tr>\n      <th>...</th>\n      <td>...</td>\n      <td>...</td>\n      <td>...</td>\n    </tr>\n    <tr>\n      <th>120</th>\n      <td>Veer</td>\n      <td>4.0</td>\n      <td>[Action, History]</td>\n    </tr>\n    <tr>\n      <th>121</th>\n      <td>Veer Zaara</td>\n      <td>4.0</td>\n      <td>[Drama]</td>\n    </tr>\n    <tr>\n      <th>122</th>\n      <td>Mission Mangal</td>\n      <td>5.0</td>\n      <td>[Drama, Science]</td>\n    </tr>\n    <tr>\n      <th>123</th>\n      <td>Half GirlFriend</td>\n      <td>4.0</td>\n      <td>[Drama, Romance]</td>\n    </tr>\n    <tr>\n      <th>124</th>\n      <td>Jagga jasoos</td>\n      <td>4.0</td>\n      <td>[Drama]</td>\n    </tr>\n  </tbody>\n</table>\n<p>125 rows × 3 columns</p>\n</div>"
     },
     "metadata": {},
     "execution_count": 10
    }
   ],
   "source": [
    "s = data[\"Genere\"].str.split(\",\")\n",
    "gd = data.drop([\"Genere\"], axis=1)\n",
    "pd.concat([gd, s], axis=1)"
   ]
  },
  {
   "cell_type": "code",
   "execution_count": 11,
   "metadata": {},
   "outputs": [
    {
     "output_type": "execute_result",
     "data": {
      "text/plain": [
       "          Movie Name  Genere  Rating\n",
       "0              Radhe  Action     4.0\n",
       "1             Flight  Action     3.0\n",
       "2         Mumbi Saga  Action     5.0\n",
       "3   Vijay The Master  Action     4.0\n",
       "4  Chakra Ka Rakshak  Action     4.0"
      ],
      "text/html": "<div>\n<style scoped>\n    .dataframe tbody tr th:only-of-type {\n        vertical-align: middle;\n    }\n\n    .dataframe tbody tr th {\n        vertical-align: top;\n    }\n\n    .dataframe thead th {\n        text-align: right;\n    }\n</style>\n<table border=\"1\" class=\"dataframe\">\n  <thead>\n    <tr style=\"text-align: right;\">\n      <th></th>\n      <th>Movie Name</th>\n      <th>Genere</th>\n      <th>Rating</th>\n    </tr>\n  </thead>\n  <tbody>\n    <tr>\n      <th>0</th>\n      <td>Radhe</td>\n      <td>Action</td>\n      <td>4.0</td>\n    </tr>\n    <tr>\n      <th>1</th>\n      <td>Flight</td>\n      <td>Action</td>\n      <td>3.0</td>\n    </tr>\n    <tr>\n      <th>2</th>\n      <td>Mumbi Saga</td>\n      <td>Action</td>\n      <td>5.0</td>\n    </tr>\n    <tr>\n      <th>3</th>\n      <td>Vijay The Master</td>\n      <td>Action</td>\n      <td>4.0</td>\n    </tr>\n    <tr>\n      <th>4</th>\n      <td>Chakra Ka Rakshak</td>\n      <td>Action</td>\n      <td>4.0</td>\n    </tr>\n  </tbody>\n</table>\n</div>"
     },
     "metadata": {},
     "execution_count": 11
    }
   ],
   "source": [
    "data.head()"
   ]
  },
  {
   "cell_type": "code",
   "execution_count": 12,
   "metadata": {},
   "outputs": [],
   "source": [
    "from mlxtend.preprocessing import TransactionEncoder\n",
    "\n",
    "# lets split all the Genres into Transactions\n",
    "genres = data['Genere'].str.split('|')\n",
    "te = TransactionEncoder()\n",
    "genres = te.fit_transform(genres)\n",
    "genres = pd.DataFrame(genres, columns = te.columns_)"
   ]
  },
  {
   "cell_type": "code",
   "execution_count": 13,
   "metadata": {},
   "outputs": [],
   "source": [
    "genres = genres.astype('int')\n",
    "genres.insert(0, 'Movie Name', data['Movie Name'])"
   ]
  },
  {
   "cell_type": "code",
   "execution_count": 14,
   "metadata": {},
   "outputs": [
    {
     "output_type": "execute_result",
     "data": {
      "text/plain": [
       "            Movie Name   Action  Action  Action   Action,Biopic  Action,Crime  \\\n",
       "0                Radhe        0       1        0              0             0   \n",
       "1               Flight        0       1        0              0             0   \n",
       "2           Mumbi Saga        0       1        0              0             0   \n",
       "3     Vijay The Master        0       1        0              0             0   \n",
       "4    Chakra Ka Rakshak        0       1        0              0             0   \n",
       "..                 ...      ...     ...      ...            ...           ...   \n",
       "120               Veer        0       0        0              0             0   \n",
       "121         Veer Zaara        0       0        0              0             0   \n",
       "122     Mission Mangal        0       0        0              0             0   \n",
       "123    Half GirlFriend        0       0        0              0             0   \n",
       "124       Jagga jasoos        0       0        0              0             0   \n",
       "\n",
       "     Action,Drama  Action,History  Action,Romance,Drama  Action,Thriler  ...  \\\n",
       "0               0               0                     0               0  ...   \n",
       "1               0               0                     0               0  ...   \n",
       "2               0               0                     0               0  ...   \n",
       "3               0               0                     0               0  ...   \n",
       "4               0               0                     0               0  ...   \n",
       "..            ...             ...                   ...             ...  ...   \n",
       "120             0               1                     0               0  ...   \n",
       "121             0               0                     0               0  ...   \n",
       "122             0               0                     0               0  ...   \n",
       "123             0               0                     0               0  ...   \n",
       "124             0               0                     0               0  ...   \n",
       "\n",
       "     Horoor  Romance,Drama  Romance,Drama,Action  Sports  Story  Story,Darama  \\\n",
       "0         0              0                     0       0      0             0   \n",
       "1         0              0                     0       0      0             0   \n",
       "2         0              0                     0       0      0             0   \n",
       "3         0              0                     0       0      0             0   \n",
       "4         0              0                     0       0      0             0   \n",
       "..      ...            ...                   ...     ...    ...           ...   \n",
       "120       0              0                     0       0      0             0   \n",
       "121       0              0                     0       0      0             0   \n",
       "122       0              0                     0       0      0             0   \n",
       "123       0              0                     0       0      0             0   \n",
       "124       0              0                     0       0      0             0   \n",
       "\n",
       "     Story,Drama  Story,Motivation  Story,Romance  comedy  \n",
       "0              0                 0              0       0  \n",
       "1              0                 0              0       0  \n",
       "2              0                 0              0       0  \n",
       "3              0                 0              0       0  \n",
       "4              0                 0              0       0  \n",
       "..           ...               ...            ...     ...  \n",
       "120            0                 0              0       0  \n",
       "121            0                 0              0       0  \n",
       "122            0                 0              0       0  \n",
       "123            0                 0              0       0  \n",
       "124            0                 0              0       0  \n",
       "\n",
       "[125 rows x 38 columns]"
      ],
      "text/html": "<div>\n<style scoped>\n    .dataframe tbody tr th:only-of-type {\n        vertical-align: middle;\n    }\n\n    .dataframe tbody tr th {\n        vertical-align: top;\n    }\n\n    .dataframe thead th {\n        text-align: right;\n    }\n</style>\n<table border=\"1\" class=\"dataframe\">\n  <thead>\n    <tr style=\"text-align: right;\">\n      <th></th>\n      <th>Movie Name</th>\n      <th>Action</th>\n      <th>Action</th>\n      <th>Action</th>\n      <th>Action,Biopic</th>\n      <th>Action,Crime</th>\n      <th>Action,Drama</th>\n      <th>Action,History</th>\n      <th>Action,Romance,Drama</th>\n      <th>Action,Thriler</th>\n      <th>...</th>\n      <th>Horoor</th>\n      <th>Romance,Drama</th>\n      <th>Romance,Drama,Action</th>\n      <th>Sports</th>\n      <th>Story</th>\n      <th>Story,Darama</th>\n      <th>Story,Drama</th>\n      <th>Story,Motivation</th>\n      <th>Story,Romance</th>\n      <th>comedy</th>\n    </tr>\n  </thead>\n  <tbody>\n    <tr>\n      <th>0</th>\n      <td>Radhe</td>\n      <td>0</td>\n      <td>1</td>\n      <td>0</td>\n      <td>0</td>\n      <td>0</td>\n      <td>0</td>\n      <td>0</td>\n      <td>0</td>\n      <td>0</td>\n      <td>...</td>\n      <td>0</td>\n      <td>0</td>\n      <td>0</td>\n      <td>0</td>\n      <td>0</td>\n      <td>0</td>\n      <td>0</td>\n      <td>0</td>\n      <td>0</td>\n      <td>0</td>\n    </tr>\n    <tr>\n      <th>1</th>\n      <td>Flight</td>\n      <td>0</td>\n      <td>1</td>\n      <td>0</td>\n      <td>0</td>\n      <td>0</td>\n      <td>0</td>\n      <td>0</td>\n      <td>0</td>\n      <td>0</td>\n      <td>...</td>\n      <td>0</td>\n      <td>0</td>\n      <td>0</td>\n      <td>0</td>\n      <td>0</td>\n      <td>0</td>\n      <td>0</td>\n      <td>0</td>\n      <td>0</td>\n      <td>0</td>\n    </tr>\n    <tr>\n      <th>2</th>\n      <td>Mumbi Saga</td>\n      <td>0</td>\n      <td>1</td>\n      <td>0</td>\n      <td>0</td>\n      <td>0</td>\n      <td>0</td>\n      <td>0</td>\n      <td>0</td>\n      <td>0</td>\n      <td>...</td>\n      <td>0</td>\n      <td>0</td>\n      <td>0</td>\n      <td>0</td>\n      <td>0</td>\n      <td>0</td>\n      <td>0</td>\n      <td>0</td>\n      <td>0</td>\n      <td>0</td>\n    </tr>\n    <tr>\n      <th>3</th>\n      <td>Vijay The Master</td>\n      <td>0</td>\n      <td>1</td>\n      <td>0</td>\n      <td>0</td>\n      <td>0</td>\n      <td>0</td>\n      <td>0</td>\n      <td>0</td>\n      <td>0</td>\n      <td>...</td>\n      <td>0</td>\n      <td>0</td>\n      <td>0</td>\n      <td>0</td>\n      <td>0</td>\n      <td>0</td>\n      <td>0</td>\n      <td>0</td>\n      <td>0</td>\n      <td>0</td>\n    </tr>\n    <tr>\n      <th>4</th>\n      <td>Chakra Ka Rakshak</td>\n      <td>0</td>\n      <td>1</td>\n      <td>0</td>\n      <td>0</td>\n      <td>0</td>\n      <td>0</td>\n      <td>0</td>\n      <td>0</td>\n      <td>0</td>\n      <td>...</td>\n      <td>0</td>\n      <td>0</td>\n      <td>0</td>\n      <td>0</td>\n      <td>0</td>\n      <td>0</td>\n      <td>0</td>\n      <td>0</td>\n      <td>0</td>\n      <td>0</td>\n    </tr>\n    <tr>\n      <th>...</th>\n      <td>...</td>\n      <td>...</td>\n      <td>...</td>\n      <td>...</td>\n      <td>...</td>\n      <td>...</td>\n      <td>...</td>\n      <td>...</td>\n      <td>...</td>\n      <td>...</td>\n      <td>...</td>\n      <td>...</td>\n      <td>...</td>\n      <td>...</td>\n      <td>...</td>\n      <td>...</td>\n      <td>...</td>\n      <td>...</td>\n      <td>...</td>\n      <td>...</td>\n      <td>...</td>\n    </tr>\n    <tr>\n      <th>120</th>\n      <td>Veer</td>\n      <td>0</td>\n      <td>0</td>\n      <td>0</td>\n      <td>0</td>\n      <td>0</td>\n      <td>0</td>\n      <td>1</td>\n      <td>0</td>\n      <td>0</td>\n      <td>...</td>\n      <td>0</td>\n      <td>0</td>\n      <td>0</td>\n      <td>0</td>\n      <td>0</td>\n      <td>0</td>\n      <td>0</td>\n      <td>0</td>\n      <td>0</td>\n      <td>0</td>\n    </tr>\n    <tr>\n      <th>121</th>\n      <td>Veer Zaara</td>\n      <td>0</td>\n      <td>0</td>\n      <td>0</td>\n      <td>0</td>\n      <td>0</td>\n      <td>0</td>\n      <td>0</td>\n      <td>0</td>\n      <td>0</td>\n      <td>...</td>\n      <td>0</td>\n      <td>0</td>\n      <td>0</td>\n      <td>0</td>\n      <td>0</td>\n      <td>0</td>\n      <td>0</td>\n      <td>0</td>\n      <td>0</td>\n      <td>0</td>\n    </tr>\n    <tr>\n      <th>122</th>\n      <td>Mission Mangal</td>\n      <td>0</td>\n      <td>0</td>\n      <td>0</td>\n      <td>0</td>\n      <td>0</td>\n      <td>0</td>\n      <td>0</td>\n      <td>0</td>\n      <td>0</td>\n      <td>...</td>\n      <td>0</td>\n      <td>0</td>\n      <td>0</td>\n      <td>0</td>\n      <td>0</td>\n      <td>0</td>\n      <td>0</td>\n      <td>0</td>\n      <td>0</td>\n      <td>0</td>\n    </tr>\n    <tr>\n      <th>123</th>\n      <td>Half GirlFriend</td>\n      <td>0</td>\n      <td>0</td>\n      <td>0</td>\n      <td>0</td>\n      <td>0</td>\n      <td>0</td>\n      <td>0</td>\n      <td>0</td>\n      <td>0</td>\n      <td>...</td>\n      <td>0</td>\n      <td>0</td>\n      <td>0</td>\n      <td>0</td>\n      <td>0</td>\n      <td>0</td>\n      <td>0</td>\n      <td>0</td>\n      <td>0</td>\n      <td>0</td>\n    </tr>\n    <tr>\n      <th>124</th>\n      <td>Jagga jasoos</td>\n      <td>0</td>\n      <td>0</td>\n      <td>0</td>\n      <td>0</td>\n      <td>0</td>\n      <td>0</td>\n      <td>0</td>\n      <td>0</td>\n      <td>0</td>\n      <td>...</td>\n      <td>0</td>\n      <td>0</td>\n      <td>0</td>\n      <td>0</td>\n      <td>0</td>\n      <td>0</td>\n      <td>0</td>\n      <td>0</td>\n      <td>0</td>\n      <td>0</td>\n    </tr>\n  </tbody>\n</table>\n<p>125 rows × 38 columns</p>\n</div>"
     },
     "metadata": {},
     "execution_count": 14
    }
   ],
   "source": [
    "genres"
   ]
  },
  {
   "cell_type": "code",
   "execution_count": 15,
   "metadata": {},
   "outputs": [
    {
     "output_type": "error",
     "ename": "KeyError",
     "evalue": "'veer'",
     "traceback": [
      "\u001b[1;31m---------------------------------------------------------------------------\u001b[0m",
      "\u001b[1;31mKeyError\u001b[0m                                  Traceback (most recent call last)",
      "\u001b[1;32mD:\\ProgramData\\Anaconda3\\lib\\site-packages\\pandas\\core\\indexes\\base.py\u001b[0m in \u001b[0;36mget_loc\u001b[1;34m(self, key, method, tolerance)\u001b[0m\n\u001b[0;32m   2894\u001b[0m             \u001b[1;32mtry\u001b[0m\u001b[1;33m:\u001b[0m\u001b[1;33m\u001b[0m\u001b[1;33m\u001b[0m\u001b[0m\n\u001b[1;32m-> 2895\u001b[1;33m                 \u001b[1;32mreturn\u001b[0m \u001b[0mself\u001b[0m\u001b[1;33m.\u001b[0m\u001b[0m_engine\u001b[0m\u001b[1;33m.\u001b[0m\u001b[0mget_loc\u001b[0m\u001b[1;33m(\u001b[0m\u001b[0mcasted_key\u001b[0m\u001b[1;33m)\u001b[0m\u001b[1;33m\u001b[0m\u001b[1;33m\u001b[0m\u001b[0m\n\u001b[0m\u001b[0;32m   2896\u001b[0m             \u001b[1;32mexcept\u001b[0m \u001b[0mKeyError\u001b[0m \u001b[1;32mas\u001b[0m \u001b[0merr\u001b[0m\u001b[1;33m:\u001b[0m\u001b[1;33m\u001b[0m\u001b[1;33m\u001b[0m\u001b[0m\n",
      "\u001b[1;32mpandas\\_libs\\index.pyx\u001b[0m in \u001b[0;36mpandas._libs.index.IndexEngine.get_loc\u001b[1;34m()\u001b[0m\n",
      "\u001b[1;32mpandas\\_libs\\index.pyx\u001b[0m in \u001b[0;36mpandas._libs.index.IndexEngine.get_loc\u001b[1;34m()\u001b[0m\n",
      "\u001b[1;32mpandas\\_libs\\hashtable_class_helper.pxi\u001b[0m in \u001b[0;36mpandas._libs.hashtable.PyObjectHashTable.get_item\u001b[1;34m()\u001b[0m\n",
      "\u001b[1;32mpandas\\_libs\\hashtable_class_helper.pxi\u001b[0m in \u001b[0;36mpandas._libs.hashtable.PyObjectHashTable.get_item\u001b[1;34m()\u001b[0m\n",
      "\u001b[1;31mKeyError\u001b[0m: 'veer'",
      "\nThe above exception was the direct cause of the following exception:\n",
      "\u001b[1;31mKeyError\u001b[0m                                  Traceback (most recent call last)",
      "\u001b[1;32m<ipython-input-15-ebc459697ef9>\u001b[0m in \u001b[0;36m<module>\u001b[1;34m\u001b[0m\n\u001b[1;32m----> 1\u001b[1;33m \u001b[0msimilar_movies\u001b[0m \u001b[1;33m=\u001b[0m \u001b[0mgenres\u001b[0m\u001b[1;33m.\u001b[0m\u001b[0mcorrwith\u001b[0m\u001b[1;33m(\u001b[0m\u001b[0mgenres\u001b[0m\u001b[1;33m[\u001b[0m\u001b[1;34m\"veer\"\u001b[0m\u001b[1;33m]\u001b[0m\u001b[1;33m)\u001b[0m\u001b[1;33m\u001b[0m\u001b[1;33m\u001b[0m\u001b[0m\n\u001b[0m\u001b[0;32m      2\u001b[0m \u001b[0msimilar_movies\u001b[0m \u001b[1;33m=\u001b[0m \u001b[0msimilar_movies\u001b[0m\u001b[1;33m.\u001b[0m\u001b[0msort_values\u001b[0m\u001b[1;33m(\u001b[0m\u001b[0mascending\u001b[0m\u001b[1;33m=\u001b[0m\u001b[1;32mFalse\u001b[0m\u001b[1;33m)\u001b[0m\u001b[1;33m\u001b[0m\u001b[1;33m\u001b[0m\u001b[0m\n\u001b[0;32m      3\u001b[0m \u001b[0msimilar_movies\u001b[0m \u001b[1;33m=\u001b[0m \u001b[0msimilar_movies\u001b[0m\u001b[1;33m.\u001b[0m\u001b[0miloc\u001b[0m\u001b[1;33m[\u001b[0m\u001b[1;36m1\u001b[0m\u001b[1;33m:\u001b[0m\u001b[1;33m]\u001b[0m\u001b[1;33m\u001b[0m\u001b[1;33m\u001b[0m\u001b[0m\n\u001b[0;32m      4\u001b[0m \u001b[0msimilar_movies\u001b[0m\u001b[1;33m.\u001b[0m\u001b[0mhead\u001b[0m\u001b[1;33m(\u001b[0m\u001b[1;36m20\u001b[0m\u001b[1;33m)\u001b[0m\u001b[1;33m\u001b[0m\u001b[1;33m\u001b[0m\u001b[0m\n",
      "\u001b[1;32mD:\\ProgramData\\Anaconda3\\lib\\site-packages\\pandas\\core\\frame.py\u001b[0m in \u001b[0;36m__getitem__\u001b[1;34m(self, key)\u001b[0m\n\u001b[0;32m   2900\u001b[0m             \u001b[1;32mif\u001b[0m \u001b[0mself\u001b[0m\u001b[1;33m.\u001b[0m\u001b[0mcolumns\u001b[0m\u001b[1;33m.\u001b[0m\u001b[0mnlevels\u001b[0m \u001b[1;33m>\u001b[0m \u001b[1;36m1\u001b[0m\u001b[1;33m:\u001b[0m\u001b[1;33m\u001b[0m\u001b[1;33m\u001b[0m\u001b[0m\n\u001b[0;32m   2901\u001b[0m                 \u001b[1;32mreturn\u001b[0m \u001b[0mself\u001b[0m\u001b[1;33m.\u001b[0m\u001b[0m_getitem_multilevel\u001b[0m\u001b[1;33m(\u001b[0m\u001b[0mkey\u001b[0m\u001b[1;33m)\u001b[0m\u001b[1;33m\u001b[0m\u001b[1;33m\u001b[0m\u001b[0m\n\u001b[1;32m-> 2902\u001b[1;33m             \u001b[0mindexer\u001b[0m \u001b[1;33m=\u001b[0m \u001b[0mself\u001b[0m\u001b[1;33m.\u001b[0m\u001b[0mcolumns\u001b[0m\u001b[1;33m.\u001b[0m\u001b[0mget_loc\u001b[0m\u001b[1;33m(\u001b[0m\u001b[0mkey\u001b[0m\u001b[1;33m)\u001b[0m\u001b[1;33m\u001b[0m\u001b[1;33m\u001b[0m\u001b[0m\n\u001b[0m\u001b[0;32m   2903\u001b[0m             \u001b[1;32mif\u001b[0m \u001b[0mis_integer\u001b[0m\u001b[1;33m(\u001b[0m\u001b[0mindexer\u001b[0m\u001b[1;33m)\u001b[0m\u001b[1;33m:\u001b[0m\u001b[1;33m\u001b[0m\u001b[1;33m\u001b[0m\u001b[0m\n\u001b[0;32m   2904\u001b[0m                 \u001b[0mindexer\u001b[0m \u001b[1;33m=\u001b[0m \u001b[1;33m[\u001b[0m\u001b[0mindexer\u001b[0m\u001b[1;33m]\u001b[0m\u001b[1;33m\u001b[0m\u001b[1;33m\u001b[0m\u001b[0m\n",
      "\u001b[1;32mD:\\ProgramData\\Anaconda3\\lib\\site-packages\\pandas\\core\\indexes\\base.py\u001b[0m in \u001b[0;36mget_loc\u001b[1;34m(self, key, method, tolerance)\u001b[0m\n\u001b[0;32m   2895\u001b[0m                 \u001b[1;32mreturn\u001b[0m \u001b[0mself\u001b[0m\u001b[1;33m.\u001b[0m\u001b[0m_engine\u001b[0m\u001b[1;33m.\u001b[0m\u001b[0mget_loc\u001b[0m\u001b[1;33m(\u001b[0m\u001b[0mcasted_key\u001b[0m\u001b[1;33m)\u001b[0m\u001b[1;33m\u001b[0m\u001b[1;33m\u001b[0m\u001b[0m\n\u001b[0;32m   2896\u001b[0m             \u001b[1;32mexcept\u001b[0m \u001b[0mKeyError\u001b[0m \u001b[1;32mas\u001b[0m \u001b[0merr\u001b[0m\u001b[1;33m:\u001b[0m\u001b[1;33m\u001b[0m\u001b[1;33m\u001b[0m\u001b[0m\n\u001b[1;32m-> 2897\u001b[1;33m                 \u001b[1;32mraise\u001b[0m \u001b[0mKeyError\u001b[0m\u001b[1;33m(\u001b[0m\u001b[0mkey\u001b[0m\u001b[1;33m)\u001b[0m \u001b[1;32mfrom\u001b[0m \u001b[0merr\u001b[0m\u001b[1;33m\u001b[0m\u001b[1;33m\u001b[0m\u001b[0m\n\u001b[0m\u001b[0;32m   2898\u001b[0m \u001b[1;33m\u001b[0m\u001b[0m\n\u001b[0;32m   2899\u001b[0m         \u001b[1;32mif\u001b[0m \u001b[0mtolerance\u001b[0m \u001b[1;32mis\u001b[0m \u001b[1;32mnot\u001b[0m \u001b[1;32mNone\u001b[0m\u001b[1;33m:\u001b[0m\u001b[1;33m\u001b[0m\u001b[1;33m\u001b[0m\u001b[0m\n",
      "\u001b[1;31mKeyError\u001b[0m: 'veer'"
     ]
    }
   ],
   "source": [
    "similar_movies = genres.corrwith(genres[\"veer\"])\n",
    "similar_movies = similar_movies.sort_values(ascending=False)\n",
    "similar_movies = similar_movies.iloc[1:]\n",
    "similar_movies.head(20)"
   ]
  },
  {
   "cell_type": "code",
   "execution_count": 17,
   "metadata": {},
   "outputs": [],
   "source": [
    "from ipywidgets import interact"
   ]
  },
  {
   "cell_type": "code",
   "execution_count": 19,
   "metadata": {},
   "outputs": [
    {
     "output_type": "display_data",
     "data": {
      "text/plain": "interactive(children=(Dropdown(description='movie', options=('Movie Name', ' Action', 'Action', 'Action ', 'Ac…",
      "application/vnd.jupyter.widget-view+json": {
       "version_major": 2,
       "version_minor": 0,
       "model_id": "28f1f24cf2e74780908c2b2e7a66b162"
      }
     },
     "metadata": {}
    }
   ],
   "source": [
    "@interact\n",
    "def recommendation_movie(movie = list(genres.columns)):    \n",
    "    similar_movies = genres.corrwith(genres[movie])\n",
    "    similar_movies = similar_movies.sort_values(ascending=False)\n",
    "    similar_movies = similar_movies.iloc[:]\n",
    "    return similar_movies.head(20)"
   ]
  },
  {
   "cell_type": "code",
   "execution_count": null,
   "metadata": {},
   "outputs": [],
   "source": []
  },
  {
   "cell_type": "code",
   "execution_count": null,
   "metadata": {},
   "outputs": [],
   "source": []
  },
  {
   "cell_type": "code",
   "execution_count": null,
   "metadata": {},
   "outputs": [],
   "source": []
  }
 ]
}