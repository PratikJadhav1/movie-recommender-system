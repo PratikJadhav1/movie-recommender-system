{
 "cells": [
  {
   "cell_type": "code",
   "execution_count": 1,
   "metadata": {},
   "outputs": [],
   "source": [
    "# For Basic Operations\n",
    "import numpy as np\n",
    "import pandas as pd\n",
    "\n",
    "# for Datetime Manipulation\n",
    "import datetime\n",
    "\n",
    "# For Data Visualizations\n",
    "import seaborn as sns\n",
    "import matplotlib.pyplot as plt\n",
    "\n",
    "# for Interactive Analysis\n",
    "from ipywidgets import interact"
   ]
  },
  {
   "cell_type": "code",
   "execution_count": 2,
   "metadata": {},
   "outputs": [
    {
     "output_type": "execute_result",
     "data": {
      "text/plain": [
       "(9125, 3)"
      ]
     },
     "metadata": {},
     "execution_count": 2
    }
   ],
   "source": [
    "# lets import the Dataset\n",
    "data = pd.read_csv('movies.csv')\n",
    "\n",
    "# lets check the shape of the dataset\n",
    "data.shape"
   ]
  },
  {
   "cell_type": "code",
   "execution_count": 3,
   "metadata": {},
   "outputs": [
    {
     "output_type": "execute_result",
     "data": {
      "text/plain": [
       "   movieId                               title  \\\n",
       "0        1                    Toy Story (1995)   \n",
       "1        2                      Jumanji (1995)   \n",
       "2        3             Grumpier Old Men (1995)   \n",
       "3        4            Waiting to Exhale (1995)   \n",
       "4        5  Father of the Bride Part II (1995)   \n",
       "\n",
       "                                        genres  \n",
       "0  Adventure|Animation|Children|Comedy|Fantasy  \n",
       "1                   Adventure|Children|Fantasy  \n",
       "2                               Comedy|Romance  \n",
       "3                         Comedy|Drama|Romance  \n",
       "4                                       Comedy  "
      ],
      "text/html": "<div>\n<style scoped>\n    .dataframe tbody tr th:only-of-type {\n        vertical-align: middle;\n    }\n\n    .dataframe tbody tr th {\n        vertical-align: top;\n    }\n\n    .dataframe thead th {\n        text-align: right;\n    }\n</style>\n<table border=\"1\" class=\"dataframe\">\n  <thead>\n    <tr style=\"text-align: right;\">\n      <th></th>\n      <th>movieId</th>\n      <th>title</th>\n      <th>genres</th>\n    </tr>\n  </thead>\n  <tbody>\n    <tr>\n      <th>0</th>\n      <td>1</td>\n      <td>Toy Story (1995)</td>\n      <td>Adventure|Animation|Children|Comedy|Fantasy</td>\n    </tr>\n    <tr>\n      <th>1</th>\n      <td>2</td>\n      <td>Jumanji (1995)</td>\n      <td>Adventure|Children|Fantasy</td>\n    </tr>\n    <tr>\n      <th>2</th>\n      <td>3</td>\n      <td>Grumpier Old Men (1995)</td>\n      <td>Comedy|Romance</td>\n    </tr>\n    <tr>\n      <th>3</th>\n      <td>4</td>\n      <td>Waiting to Exhale (1995)</td>\n      <td>Comedy|Drama|Romance</td>\n    </tr>\n    <tr>\n      <th>4</th>\n      <td>5</td>\n      <td>Father of the Bride Part II (1995)</td>\n      <td>Comedy</td>\n    </tr>\n  </tbody>\n</table>\n</div>"
     },
     "metadata": {},
     "execution_count": 3
    }
   ],
   "source": [
    "# lets check the head of the dataset\n",
    "data.head()"
   ]
  },
  {
   "cell_type": "code",
   "execution_count": 4,
   "metadata": {},
   "outputs": [
    {
     "output_type": "execute_result",
     "data": {
      "text/plain": [
       "(100836, 4)"
      ]
     },
     "metadata": {},
     "execution_count": 4
    }
   ],
   "source": [
    "# lets also check the ratings dataset\n",
    "rating = pd.read_csv('ratings.csv')\n",
    "\n",
    "# lets check the shape also\n",
    "rating.shape"
   ]
  },
  {
   "cell_type": "code",
   "execution_count": 5,
   "metadata": {},
   "outputs": [
    {
     "output_type": "execute_result",
     "data": {
      "text/plain": [
       "   userId  movieId  rating  timestamp\n",
       "0       1        1     4.0  964982703\n",
       "1       1        3     4.0  964981247\n",
       "2       1        6     4.0  964982224\n",
       "3       1       47     5.0  964983815\n",
       "4       1       50     5.0  964982931"
      ],
      "text/html": "<div>\n<style scoped>\n    .dataframe tbody tr th:only-of-type {\n        vertical-align: middle;\n    }\n\n    .dataframe tbody tr th {\n        vertical-align: top;\n    }\n\n    .dataframe thead th {\n        text-align: right;\n    }\n</style>\n<table border=\"1\" class=\"dataframe\">\n  <thead>\n    <tr style=\"text-align: right;\">\n      <th></th>\n      <th>userId</th>\n      <th>movieId</th>\n      <th>rating</th>\n      <th>timestamp</th>\n    </tr>\n  </thead>\n  <tbody>\n    <tr>\n      <th>0</th>\n      <td>1</td>\n      <td>1</td>\n      <td>4.0</td>\n      <td>964982703</td>\n    </tr>\n    <tr>\n      <th>1</th>\n      <td>1</td>\n      <td>3</td>\n      <td>4.0</td>\n      <td>964981247</td>\n    </tr>\n    <tr>\n      <th>2</th>\n      <td>1</td>\n      <td>6</td>\n      <td>4.0</td>\n      <td>964982224</td>\n    </tr>\n    <tr>\n      <th>3</th>\n      <td>1</td>\n      <td>47</td>\n      <td>5.0</td>\n      <td>964983815</td>\n    </tr>\n    <tr>\n      <th>4</th>\n      <td>1</td>\n      <td>50</td>\n      <td>5.0</td>\n      <td>964982931</td>\n    </tr>\n  </tbody>\n</table>\n</div>"
     },
     "metadata": {},
     "execution_count": 5
    }
   ],
   "source": [
    "# lets check the head of the rating data\n",
    "rating.head()"
   ]
  },
  {
   "cell_type": "code",
   "execution_count": 6,
   "metadata": {},
   "outputs": [
    {
     "output_type": "execute_result",
     "data": {
      "text/plain": [
       "(96811, 6)"
      ]
     },
     "metadata": {},
     "execution_count": 6
    }
   ],
   "source": [
    "# As we are going to Perform the Content Based Filtering\n",
    "# lets merge the rating data with the movie data\n",
    "data = pd.merge(data, rating, on = 'movieId', how = 'inner')\n",
    "\n",
    "# lets check the shape of the Merged Dataset\n",
    "data.shape"
   ]
  },
  {
   "cell_type": "code",
   "execution_count": 7,
   "metadata": {},
   "outputs": [
    {
     "output_type": "execute_result",
     "data": {
      "text/plain": [
       "   movieId             title                                       genres  \\\n",
       "0        1  Toy Story (1995)  Adventure|Animation|Children|Comedy|Fantasy   \n",
       "1        1  Toy Story (1995)  Adventure|Animation|Children|Comedy|Fantasy   \n",
       "2        1  Toy Story (1995)  Adventure|Animation|Children|Comedy|Fantasy   \n",
       "3        1  Toy Story (1995)  Adventure|Animation|Children|Comedy|Fantasy   \n",
       "4        1  Toy Story (1995)  Adventure|Animation|Children|Comedy|Fantasy   \n",
       "\n",
       "   userId  rating   timestamp  \n",
       "0       1     4.0   964982703  \n",
       "1       5     4.0   847434962  \n",
       "2       7     4.5  1106635946  \n",
       "3      15     2.5  1510577970  \n",
       "4      17     4.5  1305696483  "
      ],
      "text/html": "<div>\n<style scoped>\n    .dataframe tbody tr th:only-of-type {\n        vertical-align: middle;\n    }\n\n    .dataframe tbody tr th {\n        vertical-align: top;\n    }\n\n    .dataframe thead th {\n        text-align: right;\n    }\n</style>\n<table border=\"1\" class=\"dataframe\">\n  <thead>\n    <tr style=\"text-align: right;\">\n      <th></th>\n      <th>movieId</th>\n      <th>title</th>\n      <th>genres</th>\n      <th>userId</th>\n      <th>rating</th>\n      <th>timestamp</th>\n    </tr>\n  </thead>\n  <tbody>\n    <tr>\n      <th>0</th>\n      <td>1</td>\n      <td>Toy Story (1995)</td>\n      <td>Adventure|Animation|Children|Comedy|Fantasy</td>\n      <td>1</td>\n      <td>4.0</td>\n      <td>964982703</td>\n    </tr>\n    <tr>\n      <th>1</th>\n      <td>1</td>\n      <td>Toy Story (1995)</td>\n      <td>Adventure|Animation|Children|Comedy|Fantasy</td>\n      <td>5</td>\n      <td>4.0</td>\n      <td>847434962</td>\n    </tr>\n    <tr>\n      <th>2</th>\n      <td>1</td>\n      <td>Toy Story (1995)</td>\n      <td>Adventure|Animation|Children|Comedy|Fantasy</td>\n      <td>7</td>\n      <td>4.5</td>\n      <td>1106635946</td>\n    </tr>\n    <tr>\n      <th>3</th>\n      <td>1</td>\n      <td>Toy Story (1995)</td>\n      <td>Adventure|Animation|Children|Comedy|Fantasy</td>\n      <td>15</td>\n      <td>2.5</td>\n      <td>1510577970</td>\n    </tr>\n    <tr>\n      <th>4</th>\n      <td>1</td>\n      <td>Toy Story (1995)</td>\n      <td>Adventure|Animation|Children|Comedy|Fantasy</td>\n      <td>17</td>\n      <td>4.5</td>\n      <td>1305696483</td>\n    </tr>\n  </tbody>\n</table>\n</div>"
     },
     "metadata": {},
     "execution_count": 7
    }
   ],
   "source": [
    "# Lets check the Head of the Merged Dataset\n",
    "data.head()"
   ]
  },
  {
   "cell_type": "code",
   "execution_count": 8,
   "metadata": {},
   "outputs": [
    {
     "output_type": "execute_result",
     "data": {
      "text/plain": [
       "              title                                       genres  rating\n",
       "0  Toy Story (1995)  Adventure|Animation|Children|Comedy|Fantasy     4.0\n",
       "1  Toy Story (1995)  Adventure|Animation|Children|Comedy|Fantasy     4.0\n",
       "2  Toy Story (1995)  Adventure|Animation|Children|Comedy|Fantasy     4.5\n",
       "3  Toy Story (1995)  Adventure|Animation|Children|Comedy|Fantasy     2.5\n",
       "4  Toy Story (1995)  Adventure|Animation|Children|Comedy|Fantasy     4.5"
      ],
      "text/html": "<div>\n<style scoped>\n    .dataframe tbody tr th:only-of-type {\n        vertical-align: middle;\n    }\n\n    .dataframe tbody tr th {\n        vertical-align: top;\n    }\n\n    .dataframe thead th {\n        text-align: right;\n    }\n</style>\n<table border=\"1\" class=\"dataframe\">\n  <thead>\n    <tr style=\"text-align: right;\">\n      <th></th>\n      <th>title</th>\n      <th>genres</th>\n      <th>rating</th>\n    </tr>\n  </thead>\n  <tbody>\n    <tr>\n      <th>0</th>\n      <td>Toy Story (1995)</td>\n      <td>Adventure|Animation|Children|Comedy|Fantasy</td>\n      <td>4.0</td>\n    </tr>\n    <tr>\n      <th>1</th>\n      <td>Toy Story (1995)</td>\n      <td>Adventure|Animation|Children|Comedy|Fantasy</td>\n      <td>4.0</td>\n    </tr>\n    <tr>\n      <th>2</th>\n      <td>Toy Story (1995)</td>\n      <td>Adventure|Animation|Children|Comedy|Fantasy</td>\n      <td>4.5</td>\n    </tr>\n    <tr>\n      <th>3</th>\n      <td>Toy Story (1995)</td>\n      <td>Adventure|Animation|Children|Comedy|Fantasy</td>\n      <td>2.5</td>\n    </tr>\n    <tr>\n      <th>4</th>\n      <td>Toy Story (1995)</td>\n      <td>Adventure|Animation|Children|Comedy|Fantasy</td>\n      <td>4.5</td>\n    </tr>\n  </tbody>\n</table>\n</div>"
     },
     "metadata": {},
     "execution_count": 8
    }
   ],
   "source": [
    "# As we do not Require the MovieId, UserId and Timestamp lets remove them\n",
    "data = data.drop(['movieId', 'userId', 'timestamp'], axis = 1)\n",
    "\n",
    "# lets check the head of the Final Dataset\n",
    "data.head()"
   ]
  },
  {
   "cell_type": "code",
   "execution_count": 9,
   "metadata": {},
   "outputs": [
    {
     "output_type": "execute_result",
     "data": {
      "text/plain": [
       "                                     title  \\\n",
       "0  'Hellboy': The Seeds of Creation (2004)   \n",
       "1                   'Round Midnight (1986)   \n",
       "2                      'Salem's Lot (2004)   \n",
       "3                'Til There Was You (1997)   \n",
       "4                       'burbs, The (1989)   \n",
       "\n",
       "                                        genres    rating  \n",
       "0  Action|Adventure|Comedy|Documentary|Fantasy  4.000000  \n",
       "1                                Drama|Musical  3.500000  \n",
       "2                Drama|Horror|Mystery|Thriller  5.000000  \n",
       "3                                Drama|Romance  4.000000  \n",
       "4                                       Comedy  3.176471  "
      ],
      "text/html": "<div>\n<style scoped>\n    .dataframe tbody tr th:only-of-type {\n        vertical-align: middle;\n    }\n\n    .dataframe tbody tr th {\n        vertical-align: top;\n    }\n\n    .dataframe thead th {\n        text-align: right;\n    }\n</style>\n<table border=\"1\" class=\"dataframe\">\n  <thead>\n    <tr style=\"text-align: right;\">\n      <th></th>\n      <th>title</th>\n      <th>genres</th>\n      <th>rating</th>\n    </tr>\n  </thead>\n  <tbody>\n    <tr>\n      <th>0</th>\n      <td>'Hellboy': The Seeds of Creation (2004)</td>\n      <td>Action|Adventure|Comedy|Documentary|Fantasy</td>\n      <td>4.000000</td>\n    </tr>\n    <tr>\n      <th>1</th>\n      <td>'Round Midnight (1986)</td>\n      <td>Drama|Musical</td>\n      <td>3.500000</td>\n    </tr>\n    <tr>\n      <th>2</th>\n      <td>'Salem's Lot (2004)</td>\n      <td>Drama|Horror|Mystery|Thriller</td>\n      <td>5.000000</td>\n    </tr>\n    <tr>\n      <th>3</th>\n      <td>'Til There Was You (1997)</td>\n      <td>Drama|Romance</td>\n      <td>4.000000</td>\n    </tr>\n    <tr>\n      <th>4</th>\n      <td>'burbs, The (1989)</td>\n      <td>Comedy</td>\n      <td>3.176471</td>\n    </tr>\n  </tbody>\n</table>\n</div>"
     },
     "metadata": {},
     "execution_count": 9
    }
   ],
   "source": [
    "# Now, We Have to Groupby the Dataset Based on the Movie Title\n",
    "\n",
    "data = pd.pivot_table(data, index = ['title','genres'], aggfunc = 'mean')\n",
    "data.reset_index(level=['title','genres'], inplace = True)\n",
    "data.head()"
   ]
  },
  {
   "cell_type": "code",
   "execution_count": 10,
   "metadata": {},
   "outputs": [
    {
     "output_type": "stream",
     "name": "stderr",
     "text": [
      "D:\\ProgramData\\Anaconda3\\lib\\site-packages\\seaborn\\distributions.py:2551: FutureWarning: `distplot` is a deprecated function and will be removed in a future version. Please adapt your code to use either `displot` (a figure-level function with similar flexibility) or `histplot` (an axes-level function for histograms).\n  warnings.warn(msg, FutureWarning)\n"
     ]
    },
    {
     "output_type": "display_data",
     "data": {
      "text/plain": "<Figure size 576x216 with 1 Axes>",
      "image/svg+xml": "<?xml version=\"1.0\" encoding=\"utf-8\" standalone=\"no\"?>\r\n<!DOCTYPE svg PUBLIC \"-//W3C//DTD SVG 1.1//EN\"\r\n  \"http://www.w3.org/Graphics/SVG/1.1/DTD/svg11.dtd\">\r\n<!-- Created with matplotlib (https://matplotlib.org/) -->\r\n<svg height=\"247.987075pt\" version=\"1.1\" viewBox=\"0 0 561.543625 247.987075\" width=\"561.543625pt\" xmlns=\"http://www.w3.org/2000/svg\" xmlns:xlink=\"http://www.w3.org/1999/xlink\">\r\n <metadata>\r\n  <rdf:RDF xmlns:cc=\"http://creativecommons.org/ns#\" xmlns:dc=\"http://purl.org/dc/elements/1.1/\" xmlns:rdf=\"http://www.w3.org/1999/02/22-rdf-syntax-ns#\">\r\n   <cc:Work>\r\n    <dc:type rdf:resource=\"http://purl.org/dc/dcmitype/StillImage\"/>\r\n    <dc:date>2021-07-01T06:14:18.239800</dc:date>\r\n    <dc:format>image/svg+xml</dc:format>\r\n    <dc:creator>\r\n     <cc:Agent>\r\n      <dc:title>Matplotlib v3.3.2, https://matplotlib.org/</dc:title>\r\n     </cc:Agent>\r\n    </dc:creator>\r\n   </cc:Work>\r\n  </rdf:RDF>\r\n </metadata>\r\n <defs>\r\n  <style type=\"text/css\">*{stroke-linecap:butt;stroke-linejoin:round;}</style>\r\n </defs>\r\n <g id=\"figure_1\">\r\n  <g id=\"patch_1\">\r\n   <path d=\"M 0 247.987075 \r\nL 561.543625 247.987075 \r\nL 561.543625 0 \r\nL 0 0 \r\nz\r\n\" style=\"fill:#f0f0f0;\"/>\r\n  </g>\r\n  <g id=\"axes_1\">\r\n   <g id=\"patch_2\">\r\n    <path d=\"M 53.223625 203.47845 \r\nL 554.343625 203.47845 \r\nL 554.343625 28.51845 \r\nL 53.223625 28.51845 \r\nz\r\n\" style=\"fill:#f0f0f0;\"/>\r\n   </g>\r\n   <g id=\"matplotlib.axis_1\">\r\n    <g id=\"xtick_1\">\r\n     <g id=\"line2d_1\">\r\n      <path clip-path=\"url(#p9bf5e41ae2)\" d=\"M 67.265405 203.47845 \r\nL 67.265405 28.51845 \r\n\" style=\"fill:none;stroke:#cbcbcb;\"/>\r\n     </g>\r\n     <g id=\"line2d_2\"/>\r\n     <g id=\"text_1\">\r\n      <!-- 0 -->\r\n      <g transform=\"translate(62.811655 217.616263)scale(0.14 -0.14)\">\r\n       <defs>\r\n        <path d=\"M 31.78125 66.40625 \r\nQ 24.171875 66.40625 20.328125 58.90625 \r\nQ 16.5 51.421875 16.5 36.375 \r\nQ 16.5 21.390625 20.328125 13.890625 \r\nQ 24.171875 6.390625 31.78125 6.390625 \r\nQ 39.453125 6.390625 43.28125 13.890625 \r\nQ 47.125 21.390625 47.125 36.375 \r\nQ 47.125 51.421875 43.28125 58.90625 \r\nQ 39.453125 66.40625 31.78125 66.40625 \r\nz\r\nM 31.78125 74.21875 \r\nQ 44.046875 74.21875 50.515625 64.515625 \r\nQ 56.984375 54.828125 56.984375 36.375 \r\nQ 56.984375 17.96875 50.515625 8.265625 \r\nQ 44.046875 -1.421875 31.78125 -1.421875 \r\nQ 19.53125 -1.421875 13.0625 8.265625 \r\nQ 6.59375 17.96875 6.59375 36.375 \r\nQ 6.59375 54.828125 13.0625 64.515625 \r\nQ 19.53125 74.21875 31.78125 74.21875 \r\nz\r\n\" id=\"DejaVuSans-48\"/>\r\n       </defs>\r\n       <use xlink:href=\"#DejaVuSans-48\"/>\r\n      </g>\r\n     </g>\r\n    </g>\r\n    <g id=\"xtick_2\">\r\n     <g id=\"line2d_3\">\r\n      <path clip-path=\"url(#p9bf5e41ae2)\" d=\"M 153.27203 203.47845 \r\nL 153.27203 28.51845 \r\n\" style=\"fill:none;stroke:#cbcbcb;\"/>\r\n     </g>\r\n     <g id=\"line2d_4\"/>\r\n     <g id=\"text_2\">\r\n      <!-- 1 -->\r\n      <g transform=\"translate(148.81828 217.616263)scale(0.14 -0.14)\">\r\n       <defs>\r\n        <path d=\"M 12.40625 8.296875 \r\nL 28.515625 8.296875 \r\nL 28.515625 63.921875 \r\nL 10.984375 60.40625 \r\nL 10.984375 69.390625 \r\nL 28.421875 72.90625 \r\nL 38.28125 72.90625 \r\nL 38.28125 8.296875 \r\nL 54.390625 8.296875 \r\nL 54.390625 0 \r\nL 12.40625 0 \r\nz\r\n\" id=\"DejaVuSans-49\"/>\r\n       </defs>\r\n       <use xlink:href=\"#DejaVuSans-49\"/>\r\n      </g>\r\n     </g>\r\n    </g>\r\n    <g id=\"xtick_3\">\r\n     <g id=\"line2d_5\">\r\n      <path clip-path=\"url(#p9bf5e41ae2)\" d=\"M 239.278656 203.47845 \r\nL 239.278656 28.51845 \r\n\" style=\"fill:none;stroke:#cbcbcb;\"/>\r\n     </g>\r\n     <g id=\"line2d_6\"/>\r\n     <g id=\"text_3\">\r\n      <!-- 2 -->\r\n      <g transform=\"translate(234.824906 217.616263)scale(0.14 -0.14)\">\r\n       <defs>\r\n        <path d=\"M 19.1875 8.296875 \r\nL 53.609375 8.296875 \r\nL 53.609375 0 \r\nL 7.328125 0 \r\nL 7.328125 8.296875 \r\nQ 12.9375 14.109375 22.625 23.890625 \r\nQ 32.328125 33.6875 34.8125 36.53125 \r\nQ 39.546875 41.84375 41.421875 45.53125 \r\nQ 43.3125 49.21875 43.3125 52.78125 \r\nQ 43.3125 58.59375 39.234375 62.25 \r\nQ 35.15625 65.921875 28.609375 65.921875 \r\nQ 23.96875 65.921875 18.8125 64.3125 \r\nQ 13.671875 62.703125 7.8125 59.421875 \r\nL 7.8125 69.390625 \r\nQ 13.765625 71.78125 18.9375 73 \r\nQ 24.125 74.21875 28.421875 74.21875 \r\nQ 39.75 74.21875 46.484375 68.546875 \r\nQ 53.21875 62.890625 53.21875 53.421875 \r\nQ 53.21875 48.921875 51.53125 44.890625 \r\nQ 49.859375 40.875 45.40625 35.40625 \r\nQ 44.1875 33.984375 37.640625 27.21875 \r\nQ 31.109375 20.453125 19.1875 8.296875 \r\nz\r\n\" id=\"DejaVuSans-50\"/>\r\n       </defs>\r\n       <use xlink:href=\"#DejaVuSans-50\"/>\r\n      </g>\r\n     </g>\r\n    </g>\r\n    <g id=\"xtick_4\">\r\n     <g id=\"line2d_7\">\r\n      <path clip-path=\"url(#p9bf5e41ae2)\" d=\"M 325.285281 203.47845 \r\nL 325.285281 28.51845 \r\n\" style=\"fill:none;stroke:#cbcbcb;\"/>\r\n     </g>\r\n     <g id=\"line2d_8\"/>\r\n     <g id=\"text_4\">\r\n      <!-- 3 -->\r\n      <g transform=\"translate(320.831531 217.616263)scale(0.14 -0.14)\">\r\n       <defs>\r\n        <path d=\"M 40.578125 39.3125 \r\nQ 47.65625 37.796875 51.625 33 \r\nQ 55.609375 28.21875 55.609375 21.1875 \r\nQ 55.609375 10.40625 48.1875 4.484375 \r\nQ 40.765625 -1.421875 27.09375 -1.421875 \r\nQ 22.515625 -1.421875 17.65625 -0.515625 \r\nQ 12.796875 0.390625 7.625 2.203125 \r\nL 7.625 11.71875 \r\nQ 11.71875 9.328125 16.59375 8.109375 \r\nQ 21.484375 6.890625 26.8125 6.890625 \r\nQ 36.078125 6.890625 40.9375 10.546875 \r\nQ 45.796875 14.203125 45.796875 21.1875 \r\nQ 45.796875 27.640625 41.28125 31.265625 \r\nQ 36.765625 34.90625 28.71875 34.90625 \r\nL 20.21875 34.90625 \r\nL 20.21875 43.015625 \r\nL 29.109375 43.015625 \r\nQ 36.375 43.015625 40.234375 45.921875 \r\nQ 44.09375 48.828125 44.09375 54.296875 \r\nQ 44.09375 59.90625 40.109375 62.90625 \r\nQ 36.140625 65.921875 28.71875 65.921875 \r\nQ 24.65625 65.921875 20.015625 65.03125 \r\nQ 15.375 64.15625 9.8125 62.3125 \r\nL 9.8125 71.09375 \r\nQ 15.4375 72.65625 20.34375 73.4375 \r\nQ 25.25 74.21875 29.59375 74.21875 \r\nQ 40.828125 74.21875 47.359375 69.109375 \r\nQ 53.90625 64.015625 53.90625 55.328125 \r\nQ 53.90625 49.265625 50.4375 45.09375 \r\nQ 46.96875 40.921875 40.578125 39.3125 \r\nz\r\n\" id=\"DejaVuSans-51\"/>\r\n       </defs>\r\n       <use xlink:href=\"#DejaVuSans-51\"/>\r\n      </g>\r\n     </g>\r\n    </g>\r\n    <g id=\"xtick_5\">\r\n     <g id=\"line2d_9\">\r\n      <path clip-path=\"url(#p9bf5e41ae2)\" d=\"M 411.291907 203.47845 \r\nL 411.291907 28.51845 \r\n\" style=\"fill:none;stroke:#cbcbcb;\"/>\r\n     </g>\r\n     <g id=\"line2d_10\"/>\r\n     <g id=\"text_5\">\r\n      <!-- 4 -->\r\n      <g transform=\"translate(406.838157 217.616263)scale(0.14 -0.14)\">\r\n       <defs>\r\n        <path d=\"M 37.796875 64.3125 \r\nL 12.890625 25.390625 \r\nL 37.796875 25.390625 \r\nz\r\nM 35.203125 72.90625 \r\nL 47.609375 72.90625 \r\nL 47.609375 25.390625 \r\nL 58.015625 25.390625 \r\nL 58.015625 17.1875 \r\nL 47.609375 17.1875 \r\nL 47.609375 0 \r\nL 37.796875 0 \r\nL 37.796875 17.1875 \r\nL 4.890625 17.1875 \r\nL 4.890625 26.703125 \r\nz\r\n\" id=\"DejaVuSans-52\"/>\r\n       </defs>\r\n       <use xlink:href=\"#DejaVuSans-52\"/>\r\n      </g>\r\n     </g>\r\n    </g>\r\n    <g id=\"xtick_6\">\r\n     <g id=\"line2d_11\">\r\n      <path clip-path=\"url(#p9bf5e41ae2)\" d=\"M 497.298533 203.47845 \r\nL 497.298533 28.51845 \r\n\" style=\"fill:none;stroke:#cbcbcb;\"/>\r\n     </g>\r\n     <g id=\"line2d_12\"/>\r\n     <g id=\"text_6\">\r\n      <!-- 5 -->\r\n      <g transform=\"translate(492.844783 217.616263)scale(0.14 -0.14)\">\r\n       <defs>\r\n        <path d=\"M 10.796875 72.90625 \r\nL 49.515625 72.90625 \r\nL 49.515625 64.59375 \r\nL 19.828125 64.59375 \r\nL 19.828125 46.734375 \r\nQ 21.96875 47.46875 24.109375 47.828125 \r\nQ 26.265625 48.1875 28.421875 48.1875 \r\nQ 40.625 48.1875 47.75 41.5 \r\nQ 54.890625 34.8125 54.890625 23.390625 \r\nQ 54.890625 11.625 47.5625 5.09375 \r\nQ 40.234375 -1.421875 26.90625 -1.421875 \r\nQ 22.3125 -1.421875 17.546875 -0.640625 \r\nQ 12.796875 0.140625 7.71875 1.703125 \r\nL 7.71875 11.625 \r\nQ 12.109375 9.234375 16.796875 8.0625 \r\nQ 21.484375 6.890625 26.703125 6.890625 \r\nQ 35.15625 6.890625 40.078125 11.328125 \r\nQ 45.015625 15.765625 45.015625 23.390625 \r\nQ 45.015625 31 40.078125 35.4375 \r\nQ 35.15625 39.890625 26.703125 39.890625 \r\nQ 22.75 39.890625 18.8125 39.015625 \r\nQ 14.890625 38.140625 10.796875 36.28125 \r\nz\r\n\" id=\"DejaVuSans-53\"/>\r\n       </defs>\r\n       <use xlink:href=\"#DejaVuSans-53\"/>\r\n      </g>\r\n     </g>\r\n    </g>\r\n    <g id=\"text_7\">\r\n     <!-- rating -->\r\n     <g transform=\"translate(278.899937 237.2932)scale(0.168 -0.168)\">\r\n      <defs>\r\n       <path d=\"M 41.109375 46.296875 \r\nQ 39.59375 47.171875 37.8125 47.578125 \r\nQ 36.03125 48 33.890625 48 \r\nQ 26.265625 48 22.1875 43.046875 \r\nQ 18.109375 38.09375 18.109375 28.8125 \r\nL 18.109375 0 \r\nL 9.078125 0 \r\nL 9.078125 54.6875 \r\nL 18.109375 54.6875 \r\nL 18.109375 46.1875 \r\nQ 20.953125 51.171875 25.484375 53.578125 \r\nQ 30.03125 56 36.53125 56 \r\nQ 37.453125 56 38.578125 55.875 \r\nQ 39.703125 55.765625 41.0625 55.515625 \r\nz\r\n\" id=\"DejaVuSans-114\"/>\r\n       <path d=\"M 34.28125 27.484375 \r\nQ 23.390625 27.484375 19.1875 25 \r\nQ 14.984375 22.515625 14.984375 16.5 \r\nQ 14.984375 11.71875 18.140625 8.90625 \r\nQ 21.296875 6.109375 26.703125 6.109375 \r\nQ 34.1875 6.109375 38.703125 11.40625 \r\nQ 43.21875 16.703125 43.21875 25.484375 \r\nL 43.21875 27.484375 \r\nz\r\nM 52.203125 31.203125 \r\nL 52.203125 0 \r\nL 43.21875 0 \r\nL 43.21875 8.296875 \r\nQ 40.140625 3.328125 35.546875 0.953125 \r\nQ 30.953125 -1.421875 24.3125 -1.421875 \r\nQ 15.921875 -1.421875 10.953125 3.296875 \r\nQ 6 8.015625 6 15.921875 \r\nQ 6 25.140625 12.171875 29.828125 \r\nQ 18.359375 34.515625 30.609375 34.515625 \r\nL 43.21875 34.515625 \r\nL 43.21875 35.40625 \r\nQ 43.21875 41.609375 39.140625 45 \r\nQ 35.0625 48.390625 27.6875 48.390625 \r\nQ 23 48.390625 18.546875 47.265625 \r\nQ 14.109375 46.140625 10.015625 43.890625 \r\nL 10.015625 52.203125 \r\nQ 14.9375 54.109375 19.578125 55.046875 \r\nQ 24.21875 56 28.609375 56 \r\nQ 40.484375 56 46.34375 49.84375 \r\nQ 52.203125 43.703125 52.203125 31.203125 \r\nz\r\n\" id=\"DejaVuSans-97\"/>\r\n       <path d=\"M 18.3125 70.21875 \r\nL 18.3125 54.6875 \r\nL 36.8125 54.6875 \r\nL 36.8125 47.703125 \r\nL 18.3125 47.703125 \r\nL 18.3125 18.015625 \r\nQ 18.3125 11.328125 20.140625 9.421875 \r\nQ 21.96875 7.515625 27.59375 7.515625 \r\nL 36.8125 7.515625 \r\nL 36.8125 0 \r\nL 27.59375 0 \r\nQ 17.1875 0 13.234375 3.875 \r\nQ 9.28125 7.765625 9.28125 18.015625 \r\nL 9.28125 47.703125 \r\nL 2.6875 47.703125 \r\nL 2.6875 54.6875 \r\nL 9.28125 54.6875 \r\nL 9.28125 70.21875 \r\nz\r\n\" id=\"DejaVuSans-116\"/>\r\n       <path d=\"M 9.421875 54.6875 \r\nL 18.40625 54.6875 \r\nL 18.40625 0 \r\nL 9.421875 0 \r\nz\r\nM 9.421875 75.984375 \r\nL 18.40625 75.984375 \r\nL 18.40625 64.59375 \r\nL 9.421875 64.59375 \r\nz\r\n\" id=\"DejaVuSans-105\"/>\r\n       <path d=\"M 54.890625 33.015625 \r\nL 54.890625 0 \r\nL 45.90625 0 \r\nL 45.90625 32.71875 \r\nQ 45.90625 40.484375 42.875 44.328125 \r\nQ 39.84375 48.1875 33.796875 48.1875 \r\nQ 26.515625 48.1875 22.3125 43.546875 \r\nQ 18.109375 38.921875 18.109375 30.90625 \r\nL 18.109375 0 \r\nL 9.078125 0 \r\nL 9.078125 54.6875 \r\nL 18.109375 54.6875 \r\nL 18.109375 46.1875 \r\nQ 21.34375 51.125 25.703125 53.5625 \r\nQ 30.078125 56 35.796875 56 \r\nQ 45.21875 56 50.046875 50.171875 \r\nQ 54.890625 44.34375 54.890625 33.015625 \r\nz\r\n\" id=\"DejaVuSans-110\"/>\r\n       <path d=\"M 45.40625 27.984375 \r\nQ 45.40625 37.75 41.375 43.109375 \r\nQ 37.359375 48.484375 30.078125 48.484375 \r\nQ 22.859375 48.484375 18.828125 43.109375 \r\nQ 14.796875 37.75 14.796875 27.984375 \r\nQ 14.796875 18.265625 18.828125 12.890625 \r\nQ 22.859375 7.515625 30.078125 7.515625 \r\nQ 37.359375 7.515625 41.375 12.890625 \r\nQ 45.40625 18.265625 45.40625 27.984375 \r\nz\r\nM 54.390625 6.78125 \r\nQ 54.390625 -7.171875 48.1875 -13.984375 \r\nQ 42 -20.796875 29.203125 -20.796875 \r\nQ 24.46875 -20.796875 20.265625 -20.09375 \r\nQ 16.0625 -19.390625 12.109375 -17.921875 \r\nL 12.109375 -9.1875 \r\nQ 16.0625 -11.328125 19.921875 -12.34375 \r\nQ 23.78125 -13.375 27.78125 -13.375 \r\nQ 36.625 -13.375 41.015625 -8.765625 \r\nQ 45.40625 -4.15625 45.40625 5.171875 \r\nL 45.40625 9.625 \r\nQ 42.625 4.78125 38.28125 2.390625 \r\nQ 33.9375 0 27.875 0 \r\nQ 17.828125 0 11.671875 7.65625 \r\nQ 5.515625 15.328125 5.515625 27.984375 \r\nQ 5.515625 40.671875 11.671875 48.328125 \r\nQ 17.828125 56 27.875 56 \r\nQ 33.9375 56 38.28125 53.609375 \r\nQ 42.625 51.21875 45.40625 46.390625 \r\nL 45.40625 54.6875 \r\nL 54.390625 54.6875 \r\nz\r\n\" id=\"DejaVuSans-103\"/>\r\n      </defs>\r\n      <use xlink:href=\"#DejaVuSans-114\"/>\r\n      <use x=\"41.113281\" xlink:href=\"#DejaVuSans-97\"/>\r\n      <use x=\"102.392578\" xlink:href=\"#DejaVuSans-116\"/>\r\n      <use x=\"141.601562\" xlink:href=\"#DejaVuSans-105\"/>\r\n      <use x=\"169.384766\" xlink:href=\"#DejaVuSans-110\"/>\r\n      <use x=\"232.763672\" xlink:href=\"#DejaVuSans-103\"/>\r\n     </g>\r\n    </g>\r\n   </g>\r\n   <g id=\"matplotlib.axis_2\">\r\n    <g id=\"ytick_1\">\r\n     <g id=\"line2d_13\">\r\n      <path clip-path=\"url(#p9bf5e41ae2)\" d=\"M 53.223625 203.47845 \r\nL 554.343625 203.47845 \r\n\" style=\"fill:none;stroke:#cbcbcb;\"/>\r\n     </g>\r\n     <g id=\"line2d_14\"/>\r\n     <g id=\"text_8\">\r\n      <!-- 0.0 -->\r\n      <g transform=\"translate(27.45925 208.797356)scale(0.14 -0.14)\">\r\n       <defs>\r\n        <path d=\"M 10.6875 12.40625 \r\nL 21 12.40625 \r\nL 21 0 \r\nL 10.6875 0 \r\nz\r\n\" id=\"DejaVuSans-46\"/>\r\n       </defs>\r\n       <use xlink:href=\"#DejaVuSans-48\"/>\r\n       <use x=\"63.623047\" xlink:href=\"#DejaVuSans-46\"/>\r\n       <use x=\"95.410156\" xlink:href=\"#DejaVuSans-48\"/>\r\n      </g>\r\n     </g>\r\n    </g>\r\n    <g id=\"ytick_2\">\r\n     <g id=\"line2d_15\">\r\n      <path clip-path=\"url(#p9bf5e41ae2)\" d=\"M 53.223625 169.908004 \r\nL 554.343625 169.908004 \r\n\" style=\"fill:none;stroke:#cbcbcb;\"/>\r\n     </g>\r\n     <g id=\"line2d_16\"/>\r\n     <g id=\"text_9\">\r\n      <!-- 0.2 -->\r\n      <g transform=\"translate(27.45925 175.22691)scale(0.14 -0.14)\">\r\n       <use xlink:href=\"#DejaVuSans-48\"/>\r\n       <use x=\"63.623047\" xlink:href=\"#DejaVuSans-46\"/>\r\n       <use x=\"95.410156\" xlink:href=\"#DejaVuSans-50\"/>\r\n      </g>\r\n     </g>\r\n    </g>\r\n    <g id=\"ytick_3\">\r\n     <g id=\"line2d_17\">\r\n      <path clip-path=\"url(#p9bf5e41ae2)\" d=\"M 53.223625 136.337558 \r\nL 554.343625 136.337558 \r\n\" style=\"fill:none;stroke:#cbcbcb;\"/>\r\n     </g>\r\n     <g id=\"line2d_18\"/>\r\n     <g id=\"text_10\">\r\n      <!-- 0.4 -->\r\n      <g transform=\"translate(27.45925 141.656464)scale(0.14 -0.14)\">\r\n       <use xlink:href=\"#DejaVuSans-48\"/>\r\n       <use x=\"63.623047\" xlink:href=\"#DejaVuSans-46\"/>\r\n       <use x=\"95.410156\" xlink:href=\"#DejaVuSans-52\"/>\r\n      </g>\r\n     </g>\r\n    </g>\r\n    <g id=\"ytick_4\">\r\n     <g id=\"line2d_19\">\r\n      <path clip-path=\"url(#p9bf5e41ae2)\" d=\"M 53.223625 102.767112 \r\nL 554.343625 102.767112 \r\n\" style=\"fill:none;stroke:#cbcbcb;\"/>\r\n     </g>\r\n     <g id=\"line2d_20\"/>\r\n     <g id=\"text_11\">\r\n      <!-- 0.6 -->\r\n      <g transform=\"translate(27.45925 108.086018)scale(0.14 -0.14)\">\r\n       <defs>\r\n        <path d=\"M 33.015625 40.375 \r\nQ 26.375 40.375 22.484375 35.828125 \r\nQ 18.609375 31.296875 18.609375 23.390625 \r\nQ 18.609375 15.53125 22.484375 10.953125 \r\nQ 26.375 6.390625 33.015625 6.390625 \r\nQ 39.65625 6.390625 43.53125 10.953125 \r\nQ 47.40625 15.53125 47.40625 23.390625 \r\nQ 47.40625 31.296875 43.53125 35.828125 \r\nQ 39.65625 40.375 33.015625 40.375 \r\nz\r\nM 52.59375 71.296875 \r\nL 52.59375 62.3125 \r\nQ 48.875 64.0625 45.09375 64.984375 \r\nQ 41.3125 65.921875 37.59375 65.921875 \r\nQ 27.828125 65.921875 22.671875 59.328125 \r\nQ 17.53125 52.734375 16.796875 39.40625 \r\nQ 19.671875 43.65625 24.015625 45.921875 \r\nQ 28.375 48.1875 33.59375 48.1875 \r\nQ 44.578125 48.1875 50.953125 41.515625 \r\nQ 57.328125 34.859375 57.328125 23.390625 \r\nQ 57.328125 12.15625 50.6875 5.359375 \r\nQ 44.046875 -1.421875 33.015625 -1.421875 \r\nQ 20.359375 -1.421875 13.671875 8.265625 \r\nQ 6.984375 17.96875 6.984375 36.375 \r\nQ 6.984375 53.65625 15.1875 63.9375 \r\nQ 23.390625 74.21875 37.203125 74.21875 \r\nQ 40.921875 74.21875 44.703125 73.484375 \r\nQ 48.484375 72.75 52.59375 71.296875 \r\nz\r\n\" id=\"DejaVuSans-54\"/>\r\n       </defs>\r\n       <use xlink:href=\"#DejaVuSans-48\"/>\r\n       <use x=\"63.623047\" xlink:href=\"#DejaVuSans-46\"/>\r\n       <use x=\"95.410156\" xlink:href=\"#DejaVuSans-54\"/>\r\n      </g>\r\n     </g>\r\n    </g>\r\n    <g id=\"ytick_5\">\r\n     <g id=\"line2d_21\">\r\n      <path clip-path=\"url(#p9bf5e41ae2)\" d=\"M 53.223625 69.196666 \r\nL 554.343625 69.196666 \r\n\" style=\"fill:none;stroke:#cbcbcb;\"/>\r\n     </g>\r\n     <g id=\"line2d_22\"/>\r\n     <g id=\"text_12\">\r\n      <!-- 0.8 -->\r\n      <g transform=\"translate(27.45925 74.515572)scale(0.14 -0.14)\">\r\n       <defs>\r\n        <path d=\"M 31.78125 34.625 \r\nQ 24.75 34.625 20.71875 30.859375 \r\nQ 16.703125 27.09375 16.703125 20.515625 \r\nQ 16.703125 13.921875 20.71875 10.15625 \r\nQ 24.75 6.390625 31.78125 6.390625 \r\nQ 38.8125 6.390625 42.859375 10.171875 \r\nQ 46.921875 13.96875 46.921875 20.515625 \r\nQ 46.921875 27.09375 42.890625 30.859375 \r\nQ 38.875 34.625 31.78125 34.625 \r\nz\r\nM 21.921875 38.8125 \r\nQ 15.578125 40.375 12.03125 44.71875 \r\nQ 8.5 49.078125 8.5 55.328125 \r\nQ 8.5 64.0625 14.71875 69.140625 \r\nQ 20.953125 74.21875 31.78125 74.21875 \r\nQ 42.671875 74.21875 48.875 69.140625 \r\nQ 55.078125 64.0625 55.078125 55.328125 \r\nQ 55.078125 49.078125 51.53125 44.71875 \r\nQ 48 40.375 41.703125 38.8125 \r\nQ 48.828125 37.15625 52.796875 32.3125 \r\nQ 56.78125 27.484375 56.78125 20.515625 \r\nQ 56.78125 9.90625 50.3125 4.234375 \r\nQ 43.84375 -1.421875 31.78125 -1.421875 \r\nQ 19.734375 -1.421875 13.25 4.234375 \r\nQ 6.78125 9.90625 6.78125 20.515625 \r\nQ 6.78125 27.484375 10.78125 32.3125 \r\nQ 14.796875 37.15625 21.921875 38.8125 \r\nz\r\nM 18.3125 54.390625 \r\nQ 18.3125 48.734375 21.84375 45.5625 \r\nQ 25.390625 42.390625 31.78125 42.390625 \r\nQ 38.140625 42.390625 41.71875 45.5625 \r\nQ 45.3125 48.734375 45.3125 54.390625 \r\nQ 45.3125 60.0625 41.71875 63.234375 \r\nQ 38.140625 66.40625 31.78125 66.40625 \r\nQ 25.390625 66.40625 21.84375 63.234375 \r\nQ 18.3125 60.0625 18.3125 54.390625 \r\nz\r\n\" id=\"DejaVuSans-56\"/>\r\n       </defs>\r\n       <use xlink:href=\"#DejaVuSans-48\"/>\r\n       <use x=\"63.623047\" xlink:href=\"#DejaVuSans-46\"/>\r\n       <use x=\"95.410156\" xlink:href=\"#DejaVuSans-56\"/>\r\n      </g>\r\n     </g>\r\n    </g>\r\n    <g id=\"ytick_6\">\r\n     <g id=\"line2d_23\">\r\n      <path clip-path=\"url(#p9bf5e41ae2)\" d=\"M 53.223625 35.62622 \r\nL 554.343625 35.62622 \r\n\" style=\"fill:none;stroke:#cbcbcb;\"/>\r\n     </g>\r\n     <g id=\"line2d_24\"/>\r\n     <g id=\"text_13\">\r\n      <!-- 1.0 -->\r\n      <g transform=\"translate(27.45925 40.945126)scale(0.14 -0.14)\">\r\n       <use xlink:href=\"#DejaVuSans-49\"/>\r\n       <use x=\"63.623047\" xlink:href=\"#DejaVuSans-46\"/>\r\n       <use x=\"95.410156\" xlink:href=\"#DejaVuSans-48\"/>\r\n      </g>\r\n     </g>\r\n    </g>\r\n    <g id=\"text_14\">\r\n     <!-- Density -->\r\n     <g transform=\"translate(19.965375 147.932888)rotate(-90)scale(0.168 -0.168)\">\r\n      <defs>\r\n       <path d=\"M 19.671875 64.796875 \r\nL 19.671875 8.109375 \r\nL 31.59375 8.109375 \r\nQ 46.6875 8.109375 53.6875 14.9375 \r\nQ 60.6875 21.78125 60.6875 36.53125 \r\nQ 60.6875 51.171875 53.6875 57.984375 \r\nQ 46.6875 64.796875 31.59375 64.796875 \r\nz\r\nM 9.8125 72.90625 \r\nL 30.078125 72.90625 \r\nQ 51.265625 72.90625 61.171875 64.09375 \r\nQ 71.09375 55.28125 71.09375 36.53125 \r\nQ 71.09375 17.671875 61.125 8.828125 \r\nQ 51.171875 0 30.078125 0 \r\nL 9.8125 0 \r\nz\r\n\" id=\"DejaVuSans-68\"/>\r\n       <path d=\"M 56.203125 29.59375 \r\nL 56.203125 25.203125 \r\nL 14.890625 25.203125 \r\nQ 15.484375 15.921875 20.484375 11.0625 \r\nQ 25.484375 6.203125 34.421875 6.203125 \r\nQ 39.59375 6.203125 44.453125 7.46875 \r\nQ 49.3125 8.734375 54.109375 11.28125 \r\nL 54.109375 2.78125 \r\nQ 49.265625 0.734375 44.1875 -0.34375 \r\nQ 39.109375 -1.421875 33.890625 -1.421875 \r\nQ 20.796875 -1.421875 13.15625 6.1875 \r\nQ 5.515625 13.8125 5.515625 26.8125 \r\nQ 5.515625 40.234375 12.765625 48.109375 \r\nQ 20.015625 56 32.328125 56 \r\nQ 43.359375 56 49.78125 48.890625 \r\nQ 56.203125 41.796875 56.203125 29.59375 \r\nz\r\nM 47.21875 32.234375 \r\nQ 47.125 39.59375 43.09375 43.984375 \r\nQ 39.0625 48.390625 32.421875 48.390625 \r\nQ 24.90625 48.390625 20.390625 44.140625 \r\nQ 15.875 39.890625 15.1875 32.171875 \r\nz\r\n\" id=\"DejaVuSans-101\"/>\r\n       <path d=\"M 44.28125 53.078125 \r\nL 44.28125 44.578125 \r\nQ 40.484375 46.53125 36.375 47.5 \r\nQ 32.28125 48.484375 27.875 48.484375 \r\nQ 21.1875 48.484375 17.84375 46.4375 \r\nQ 14.5 44.390625 14.5 40.28125 \r\nQ 14.5 37.15625 16.890625 35.375 \r\nQ 19.28125 33.59375 26.515625 31.984375 \r\nL 29.59375 31.296875 \r\nQ 39.15625 29.25 43.1875 25.515625 \r\nQ 47.21875 21.78125 47.21875 15.09375 \r\nQ 47.21875 7.46875 41.1875 3.015625 \r\nQ 35.15625 -1.421875 24.609375 -1.421875 \r\nQ 20.21875 -1.421875 15.453125 -0.5625 \r\nQ 10.6875 0.296875 5.421875 2 \r\nL 5.421875 11.28125 \r\nQ 10.40625 8.6875 15.234375 7.390625 \r\nQ 20.0625 6.109375 24.8125 6.109375 \r\nQ 31.15625 6.109375 34.5625 8.28125 \r\nQ 37.984375 10.453125 37.984375 14.40625 \r\nQ 37.984375 18.0625 35.515625 20.015625 \r\nQ 33.0625 21.96875 24.703125 23.78125 \r\nL 21.578125 24.515625 \r\nQ 13.234375 26.265625 9.515625 29.90625 \r\nQ 5.8125 33.546875 5.8125 39.890625 \r\nQ 5.8125 47.609375 11.28125 51.796875 \r\nQ 16.75 56 26.8125 56 \r\nQ 31.78125 56 36.171875 55.265625 \r\nQ 40.578125 54.546875 44.28125 53.078125 \r\nz\r\n\" id=\"DejaVuSans-115\"/>\r\n       <path d=\"M 32.171875 -5.078125 \r\nQ 28.375 -14.84375 24.75 -17.8125 \r\nQ 21.140625 -20.796875 15.09375 -20.796875 \r\nL 7.90625 -20.796875 \r\nL 7.90625 -13.28125 \r\nL 13.1875 -13.28125 \r\nQ 16.890625 -13.28125 18.9375 -11.515625 \r\nQ 21 -9.765625 23.484375 -3.21875 \r\nL 25.09375 0.875 \r\nL 2.984375 54.6875 \r\nL 12.5 54.6875 \r\nL 29.59375 11.921875 \r\nL 46.6875 54.6875 \r\nL 56.203125 54.6875 \r\nz\r\n\" id=\"DejaVuSans-121\"/>\r\n      </defs>\r\n      <use xlink:href=\"#DejaVuSans-68\"/>\r\n      <use x=\"77.001953\" xlink:href=\"#DejaVuSans-101\"/>\r\n      <use x=\"138.525391\" xlink:href=\"#DejaVuSans-110\"/>\r\n      <use x=\"201.904297\" xlink:href=\"#DejaVuSans-115\"/>\r\n      <use x=\"254.003906\" xlink:href=\"#DejaVuSans-105\"/>\r\n      <use x=\"281.787109\" xlink:href=\"#DejaVuSans-116\"/>\r\n      <use x=\"320.996094\" xlink:href=\"#DejaVuSans-121\"/>\r\n     </g>\r\n    </g>\r\n   </g>\r\n   <g id=\"patch_3\">\r\n    <path clip-path=\"url(#p9bf5e41ae2)\" d=\"M 110.268717 203.47845 \r\nL 119.06485 203.47845 \r\nL 119.06485 195.587961 \r\nL 110.268717 195.587961 \r\nz\r\n\" style=\"opacity:0.4;\"/>\r\n   </g>\r\n   <g id=\"patch_4\">\r\n    <path clip-path=\"url(#p9bf5e41ae2)\" d=\"M 119.06485 203.47845 \r\nL 127.860982 203.47845 \r\nL 127.860982 203.47845 \r\nL 119.06485 203.47845 \r\nz\r\n\" style=\"opacity:0.4;\"/>\r\n   </g>\r\n   <g id=\"patch_5\">\r\n    <path clip-path=\"url(#p9bf5e41ae2)\" d=\"M 127.860982 203.47845 \r\nL 136.657114 203.47845 \r\nL 136.657114 202.318084 \r\nL 127.860982 202.318084 \r\nz\r\n\" style=\"opacity:0.4;\"/>\r\n   </g>\r\n   <g id=\"patch_6\">\r\n    <path clip-path=\"url(#p9bf5e41ae2)\" d=\"M 136.657114 203.47845 \r\nL 145.453246 203.47845 \r\nL 145.453246 202.78223 \r\nL 136.657114 202.78223 \r\nz\r\n\" style=\"opacity:0.4;\"/>\r\n   </g>\r\n   <g id=\"patch_7\">\r\n    <path clip-path=\"url(#p9bf5e41ae2)\" d=\"M 145.453246 203.47845 \r\nL 154.249378 203.47845 \r\nL 154.249378 186.537105 \r\nL 145.453246 186.537105 \r\nz\r\n\" style=\"opacity:0.4;\"/>\r\n   </g>\r\n   <g id=\"patch_8\">\r\n    <path clip-path=\"url(#p9bf5e41ae2)\" d=\"M 154.249378 203.47845 \r\nL 163.04551 203.47845 \r\nL 163.04551 203.47845 \r\nL 154.249378 203.47845 \r\nz\r\n\" style=\"opacity:0.4;\"/>\r\n   </g>\r\n   <g id=\"patch_9\">\r\n    <path clip-path=\"url(#p9bf5e41ae2)\" d=\"M 163.04551 203.47845 \r\nL 171.841643 203.47845 \r\nL 171.841643 201.389791 \r\nL 163.04551 201.389791 \r\nz\r\n\" style=\"opacity:0.4;\"/>\r\n   </g>\r\n   <g id=\"patch_10\">\r\n    <path clip-path=\"url(#p9bf5e41ae2)\" d=\"M 171.841643 203.47845 \r\nL 180.637775 203.47845 \r\nL 180.637775 200.925645 \r\nL 171.841643 200.925645 \r\nz\r\n\" style=\"opacity:0.4;\"/>\r\n   </g>\r\n   <g id=\"patch_11\">\r\n    <path clip-path=\"url(#p9bf5e41ae2)\" d=\"M 180.637775 203.47845 \r\nL 189.433907 203.47845 \r\nL 189.433907 201.389791 \r\nL 180.637775 201.389791 \r\nz\r\n\" style=\"opacity:0.4;\"/>\r\n   </g>\r\n   <g id=\"patch_12\">\r\n    <path clip-path=\"url(#p9bf5e41ae2)\" d=\"M 189.433907 203.47845 \r\nL 198.230039 203.47845 \r\nL 198.230039 174.469298 \r\nL 189.433907 174.469298 \r\nz\r\n\" style=\"opacity:0.4;\"/>\r\n   </g>\r\n   <g id=\"patch_13\">\r\n    <path clip-path=\"url(#p9bf5e41ae2)\" d=\"M 198.230039 203.47845 \r\nL 207.026171 203.47845 \r\nL 207.026171 201.621864 \r\nL 198.230039 201.621864 \r\nz\r\n\" style=\"opacity:0.4;\"/>\r\n   </g>\r\n   <g id=\"patch_14\">\r\n    <path clip-path=\"url(#p9bf5e41ae2)\" d=\"M 207.026171 203.47845 \r\nL 215.822303 203.47845 \r\nL 215.822303 199.301132 \r\nL 207.026171 199.301132 \r\nz\r\n\" style=\"opacity:0.4;\"/>\r\n   </g>\r\n   <g id=\"patch_15\">\r\n    <path clip-path=\"url(#p9bf5e41ae2)\" d=\"M 215.822303 203.47845 \r\nL 224.618436 203.47845 \r\nL 224.618436 195.587961 \r\nL 215.822303 195.587961 \r\nz\r\n\" style=\"opacity:0.4;\"/>\r\n   </g>\r\n   <g id=\"patch_16\">\r\n    <path clip-path=\"url(#p9bf5e41ae2)\" d=\"M 224.618436 203.47845 \r\nL 233.414568 203.47845 \r\nL 233.414568 192.571009 \r\nL 224.618436 192.571009 \r\nz\r\n\" style=\"opacity:0.4;\"/>\r\n   </g>\r\n   <g id=\"patch_17\">\r\n    <path clip-path=\"url(#p9bf5e41ae2)\" d=\"M 233.414568 203.47845 \r\nL 242.2107 203.47845 \r\nL 242.2107 145.460145 \r\nL 233.414568 145.460145 \r\nz\r\n\" style=\"opacity:0.4;\"/>\r\n   </g>\r\n   <g id=\"patch_18\">\r\n    <path clip-path=\"url(#p9bf5e41ae2)\" d=\"M 242.2107 203.47845 \r\nL 251.006832 203.47845 \r\nL 251.006832 192.803082 \r\nL 242.2107 192.803082 \r\nz\r\n\" style=\"opacity:0.4;\"/>\r\n   </g>\r\n   <g id=\"patch_19\">\r\n    <path clip-path=\"url(#p9bf5e41ae2)\" d=\"M 251.006832 203.47845 \r\nL 259.802964 203.47845 \r\nL 259.802964 189.08991 \r\nL 251.006832 189.08991 \r\nz\r\n\" style=\"opacity:0.4;\"/>\r\n   </g>\r\n   <g id=\"patch_20\">\r\n    <path clip-path=\"url(#p9bf5e41ae2)\" d=\"M 259.802964 203.47845 \r\nL 268.599096 203.47845 \r\nL 268.599096 168.435394 \r\nL 259.802964 168.435394 \r\nz\r\n\" style=\"opacity:0.4;\"/>\r\n   </g>\r\n   <g id=\"patch_21\">\r\n    <path clip-path=\"url(#p9bf5e41ae2)\" d=\"M 268.599096 203.47845 \r\nL 277.395229 203.47845 \r\nL 277.395229 183.752226 \r\nL 268.599096 183.752226 \r\nz\r\n\" style=\"opacity:0.4;\"/>\r\n   </g>\r\n   <g id=\"patch_22\">\r\n    <path clip-path=\"url(#p9bf5e41ae2)\" d=\"M 277.395229 203.47845 \r\nL 286.191361 203.47845 \r\nL 286.191361 130.375386 \r\nL 277.395229 130.375386 \r\nz\r\n\" style=\"opacity:0.4;\"/>\r\n   </g>\r\n   <g id=\"patch_23\">\r\n    <path clip-path=\"url(#p9bf5e41ae2)\" d=\"M 286.191361 203.47845 \r\nL 294.987493 203.47845 \r\nL 294.987493 180.039055 \r\nL 286.191361 180.039055 \r\nz\r\n\" style=\"opacity:0.4;\"/>\r\n   </g>\r\n   <g id=\"patch_24\">\r\n    <path clip-path=\"url(#p9bf5e41ae2)\" d=\"M 294.987493 203.47845 \r\nL 303.783625 203.47845 \r\nL 303.783625 170.524053 \r\nL 294.987493 170.524053 \r\nz\r\n\" style=\"opacity:0.4;\"/>\r\n   </g>\r\n   <g id=\"patch_25\">\r\n    <path clip-path=\"url(#p9bf5e41ae2)\" d=\"M 303.783625 203.47845 \r\nL 312.579757 203.47845 \r\nL 312.579757 144.067706 \r\nL 303.783625 144.067706 \r\nz\r\n\" style=\"opacity:0.4;\"/>\r\n   </g>\r\n   <g id=\"patch_26\">\r\n    <path clip-path=\"url(#p9bf5e41ae2)\" d=\"M 312.579757 203.47845 \r\nL 321.375889 203.47845 \r\nL 321.375889 164.258076 \r\nL 312.579757 164.258076 \r\nz\r\n\" style=\"opacity:0.4;\"/>\r\n   </g>\r\n   <g id=\"patch_27\">\r\n    <path clip-path=\"url(#p9bf5e41ae2)\" d=\"M 321.375889 203.47845 \r\nL 330.172021 203.47845 \r\nL 330.172021 60.0572 \r\nL 321.375889 60.0572 \r\nz\r\n\" style=\"opacity:0.4;\"/>\r\n   </g>\r\n   <g id=\"patch_28\">\r\n    <path clip-path=\"url(#p9bf5e41ae2)\" d=\"M 330.172021 203.47845 \r\nL 338.968154 203.47845 \r\nL 338.968154 149.869536 \r\nL 330.172021 149.869536 \r\nz\r\n\" style=\"opacity:0.4;\"/>\r\n   </g>\r\n   <g id=\"patch_29\">\r\n    <path clip-path=\"url(#p9bf5e41ae2)\" d=\"M 338.968154 203.47845 \r\nL 347.764286 203.47845 \r\nL 347.764286 118.539652 \r\nL 338.968154 118.539652 \r\nz\r\n\" style=\"opacity:0.4;\"/>\r\n   </g>\r\n   <g id=\"patch_30\">\r\n    <path clip-path=\"url(#p9bf5e41ae2)\" d=\"M 347.764286 203.47845 \r\nL 356.560418 203.47845 \r\nL 356.560418 139.426241 \r\nL 347.764286 139.426241 \r\nz\r\n\" style=\"opacity:0.4;\"/>\r\n   </g>\r\n   <g id=\"patch_31\">\r\n    <path clip-path=\"url(#p9bf5e41ae2)\" d=\"M 356.560418 203.47845 \r\nL 365.35655 203.47845 \r\nL 365.35655 135.71307 \r\nL 356.560418 135.71307 \r\nz\r\n\" style=\"opacity:0.4;\"/>\r\n   </g>\r\n   <g id=\"patch_32\">\r\n    <path clip-path=\"url(#p9bf5e41ae2)\" d=\"M 365.35655 203.47845 \r\nL 374.152682 203.47845 \r\nL 374.152682 36.849879 \r\nL 365.35655 36.849879 \r\nz\r\n\" style=\"opacity:0.4;\"/>\r\n   </g>\r\n   <g id=\"patch_33\">\r\n    <path clip-path=\"url(#p9bf5e41ae2)\" d=\"M 374.152682 203.47845 \r\nL 382.948814 203.47845 \r\nL 382.948814 126.662214 \r\nL 374.152682 126.662214 \r\nz\r\n\" style=\"opacity:0.4;\"/>\r\n   </g>\r\n   <g id=\"patch_34\">\r\n    <path clip-path=\"url(#p9bf5e41ae2)\" d=\"M 382.948814 203.47845 \r\nL 391.744947 203.47845 \r\nL 391.744947 119.700018 \r\nL 382.948814 119.700018 \r\nz\r\n\" style=\"opacity:0.4;\"/>\r\n   </g>\r\n   <g id=\"patch_35\">\r\n    <path clip-path=\"url(#p9bf5e41ae2)\" d=\"M 391.744947 203.47845 \r\nL 400.541079 203.47845 \r\nL 400.541079 132.464045 \r\nL 391.744947 132.464045 \r\nz\r\n\" style=\"opacity:0.4;\"/>\r\n   </g>\r\n   <g id=\"patch_36\">\r\n    <path clip-path=\"url(#p9bf5e41ae2)\" d=\"M 400.541079 203.47845 \r\nL 409.337211 203.47845 \r\nL 409.337211 146.156365 \r\nL 400.541079 146.156365 \r\nz\r\n\" style=\"opacity:0.4;\"/>\r\n   </g>\r\n   <g id=\"patch_37\">\r\n    <path clip-path=\"url(#p9bf5e41ae2)\" d=\"M 409.337211 203.47845 \r\nL 418.133343 203.47845 \r\nL 418.133343 45.436588 \r\nL 409.337211 45.436588 \r\nz\r\n\" style=\"opacity:0.4;\"/>\r\n   </g>\r\n   <g id=\"patch_38\">\r\n    <path clip-path=\"url(#p9bf5e41ae2)\" d=\"M 418.133343 203.47845 \r\nL 426.929475 203.47845 \r\nL 426.929475 165.418442 \r\nL 418.133343 165.418442 \r\nz\r\n\" style=\"opacity:0.4;\"/>\r\n   </g>\r\n   <g id=\"patch_39\">\r\n    <path clip-path=\"url(#p9bf5e41ae2)\" d=\"M 426.929475 203.47845 \r\nL 435.725607 203.47845 \r\nL 435.725607 167.971247 \r\nL 426.929475 167.971247 \r\nz\r\n\" style=\"opacity:0.4;\"/>\r\n   </g>\r\n   <g id=\"patch_40\">\r\n    <path clip-path=\"url(#p9bf5e41ae2)\" d=\"M 435.725607 203.47845 \r\nL 444.52174 203.47845 \r\nL 444.52174 187.929544 \r\nL 435.725607 187.929544 \r\nz\r\n\" style=\"opacity:0.4;\"/>\r\n   </g>\r\n   <g id=\"patch_41\">\r\n    <path clip-path=\"url(#p9bf5e41ae2)\" d=\"M 444.52174 203.47845 \r\nL 453.317872 203.47845 \r\nL 453.317872 200.461498 \r\nL 444.52174 200.461498 \r\nz\r\n\" style=\"opacity:0.4;\"/>\r\n   </g>\r\n   <g id=\"patch_42\">\r\n    <path clip-path=\"url(#p9bf5e41ae2)\" d=\"M 453.317872 203.47845 \r\nL 462.114004 203.47845 \r\nL 462.114004 168.203321 \r\nL 453.317872 168.203321 \r\nz\r\n\" style=\"opacity:0.4;\"/>\r\n   </g>\r\n   <g id=\"patch_43\">\r\n    <path clip-path=\"url(#p9bf5e41ae2)\" d=\"M 462.114004 203.47845 \r\nL 470.910136 203.47845 \r\nL 470.910136 200.693571 \r\nL 462.114004 200.693571 \r\nz\r\n\" style=\"opacity:0.4;\"/>\r\n   </g>\r\n   <g id=\"patch_44\">\r\n    <path clip-path=\"url(#p9bf5e41ae2)\" d=\"M 470.910136 203.47845 \r\nL 479.706268 203.47845 \r\nL 479.706268 198.836986 \r\nL 470.910136 198.836986 \r\nz\r\n\" style=\"opacity:0.4;\"/>\r\n   </g>\r\n   <g id=\"patch_45\">\r\n    <path clip-path=\"url(#p9bf5e41ae2)\" d=\"M 479.706268 203.47845 \r\nL 488.5024 203.47845 \r\nL 488.5024 203.014304 \r\nL 479.706268 203.014304 \r\nz\r\n\" style=\"opacity:0.4;\"/>\r\n   </g>\r\n   <g id=\"patch_46\">\r\n    <path clip-path=\"url(#p9bf5e41ae2)\" d=\"M 488.5024 203.47845 \r\nL 497.298533 203.47845 \r\nL 497.298533 178.182469 \r\nL 488.5024 178.182469 \r\nz\r\n\" style=\"opacity:0.4;\"/>\r\n   </g>\r\n   <g id=\"line2d_25\">\r\n    <path clip-path=\"url(#p9bf5e41ae2)\" d=\"M 76.001807 203.451519 \r\nL 85.158865 203.26202 \r\nL 89.737394 202.996173 \r\nL 94.315923 202.562844 \r\nL 105.762245 201.208332 \r\nL 110.340774 200.985906 \r\nL 114.919303 201.096238 \r\nL 126.365626 201.832293 \r\nL 130.944155 201.713431 \r\nL 133.233419 201.486192 \r\nL 137.811948 200.694055 \r\nL 149.258271 198.015807 \r\nL 151.547535 197.717777 \r\nL 153.8368 197.587645 \r\nL 156.126064 197.630545 \r\nL 158.415329 197.82869 \r\nL 162.993858 198.522871 \r\nL 167.572387 199.230321 \r\nL 169.861651 199.442825 \r\nL 172.150916 199.497477 \r\nL 174.440181 199.361497 \r\nL 176.729445 199.016911 \r\nL 179.01871 198.462963 \r\nL 181.307974 197.718667 \r\nL 185.886503 195.842332 \r\nL 190.465032 193.935034 \r\nL 192.754297 193.178863 \r\nL 195.043561 192.646209 \r\nL 197.332826 192.371498 \r\nL 199.62209 192.351847 \r\nL 201.911355 192.546369 \r\nL 208.779148 193.593706 \r\nL 211.068413 193.769369 \r\nL 213.357677 193.7075 \r\nL 215.646942 193.342582 \r\nL 217.936206 192.632137 \r\nL 220.225471 191.559811 \r\nL 222.514735 190.138855 \r\nL 224.804 188.415751 \r\nL 229.382529 184.423051 \r\nL 231.671793 182.407041 \r\nL 233.961058 180.571011 \r\nL 236.250322 179.048148 \r\nL 238.539587 177.935376 \r\nL 240.828851 177.275203 \r\nL 243.118116 177.047066 \r\nL 245.40738 177.170752 \r\nL 254.564438 178.472553 \r\nL 256.853703 178.344157 \r\nL 259.142967 177.86657 \r\nL 261.432232 177.017857 \r\nL 263.721496 175.808052 \r\nL 266.010761 174.275575 \r\nL 268.300025 172.485027 \r\nL 277.457083 164.77065 \r\nL 279.746348 163.27383 \r\nL 282.035612 162.11962 \r\nL 284.324877 161.320065 \r\nL 286.614141 160.83308 \r\nL 291.19267 160.403015 \r\nL 293.481935 160.197058 \r\nL 295.771199 159.812732 \r\nL 298.060464 159.124994 \r\nL 300.349728 158.027903 \r\nL 302.638993 156.43744 \r\nL 304.928257 154.294974 \r\nL 307.217522 151.574852 \r\nL 309.506786 148.296834 \r\nL 311.796051 144.540372 \r\nL 318.663844 132.213592 \r\nL 320.953109 128.60852 \r\nL 323.242373 125.694029 \r\nL 325.531638 123.64684 \r\nL 327.820902 122.533228 \r\nL 330.110167 122.295471 \r\nL 332.399431 122.762674 \r\nL 334.688696 123.682383 \r\nL 336.97796 124.763836 \r\nL 339.267225 125.721587 \r\nL 341.556489 126.310169 \r\nL 343.845754 126.345228 \r\nL 346.135018 125.712063 \r\nL 348.424283 124.366334 \r\nL 350.713547 122.332471 \r\nL 353.002812 119.703031 \r\nL 355.292076 116.638279 \r\nL 359.870605 110.145847 \r\nL 362.15987 107.285391 \r\nL 364.449134 105.058049 \r\nL 366.738399 103.680707 \r\nL 369.027663 103.270894 \r\nL 371.316928 103.824518 \r\nL 373.606192 105.216726 \r\nL 375.895457 107.226189 \r\nL 382.76325 114.186173 \r\nL 385.052515 115.996203 \r\nL 387.341779 117.283621 \r\nL 389.631044 117.988621 \r\nL 391.920308 118.112931 \r\nL 394.209573 117.715813 \r\nL 396.498837 116.914818 \r\nL 401.077366 114.876973 \r\nL 403.366631 114.165876 \r\nL 405.655895 114.061287 \r\nL 407.94516 114.845524 \r\nL 410.234424 116.729142 \r\nL 412.523689 119.809179 \r\nL 414.812953 124.046237 \r\nL 417.102218 129.267907 \r\nL 419.391482 135.198379 \r\nL 426.259276 153.964325 \r\nL 428.54854 159.607047 \r\nL 430.837805 164.650454 \r\nL 433.127069 169.032731 \r\nL 435.416334 172.749767 \r\nL 437.705599 175.837394 \r\nL 439.994863 178.357791 \r\nL 442.284128 180.3917 \r\nL 444.573392 182.034639 \r\nL 446.862657 183.39352 \r\nL 458.308979 189.410001 \r\nL 467.466037 195.033409 \r\nL 469.755302 196.178554 \r\nL 472.044566 197.095035 \r\nL 474.333831 197.748044 \r\nL 476.623095 198.12272 \r\nL 478.91236 198.223645 \r\nL 481.201624 198.074384 \r\nL 483.490889 197.717499 \r\nL 488.069418 196.642175 \r\nL 492.647947 195.647094 \r\nL 494.937211 195.393285 \r\nL 497.226476 195.384992 \r\nL 499.51574 195.646792 \r\nL 501.805005 196.167532 \r\nL 504.094269 196.903312 \r\nL 508.672798 198.738498 \r\nL 513.251327 200.556941 \r\nL 515.540592 201.31714 \r\nL 517.829856 201.941944 \r\nL 520.119121 202.428867 \r\nL 524.69765 203.044073 \r\nL 529.276179 203.325299 \r\nL 531.565443 203.392821 \r\nL 531.565443 203.392821 \r\n\" style=\"fill:none;stroke:#000000;stroke-width:4;\"/>\r\n   </g>\r\n   <g id=\"patch_47\">\r\n    <path d=\"M 53.223625 203.47845 \r\nL 53.223625 28.51845 \r\n\" style=\"fill:none;stroke:#f0f0f0;stroke-linecap:square;stroke-linejoin:miter;stroke-width:3;\"/>\r\n   </g>\r\n   <g id=\"patch_48\">\r\n    <path d=\"M 554.343625 203.47845 \r\nL 554.343625 28.51845 \r\n\" style=\"fill:none;stroke:#f0f0f0;stroke-linecap:square;stroke-linejoin:miter;stroke-width:3;\"/>\r\n   </g>\r\n   <g id=\"patch_49\">\r\n    <path d=\"M 53.223625 203.47845 \r\nL 554.343625 203.47845 \r\n\" style=\"fill:none;stroke:#f0f0f0;stroke-linecap:square;stroke-linejoin:miter;stroke-width:3;\"/>\r\n   </g>\r\n   <g id=\"patch_50\">\r\n    <path d=\"M 53.223625 28.51845 \r\nL 554.343625 28.51845 \r\n\" style=\"fill:none;stroke:#f0f0f0;stroke-linecap:square;stroke-linejoin:miter;stroke-width:3;\"/>\r\n   </g>\r\n   <g id=\"text_15\">\r\n    <!-- Distribution of Ratings -->\r\n    <g transform=\"translate(191.111275 22.51845)scale(0.2016 -0.2016)\">\r\n     <defs>\r\n      <path d=\"M 48.6875 27.296875 \r\nQ 48.6875 37.203125 44.609375 42.84375 \r\nQ 40.53125 48.484375 33.40625 48.484375 \r\nQ 26.265625 48.484375 22.1875 42.84375 \r\nQ 18.109375 37.203125 18.109375 27.296875 \r\nQ 18.109375 17.390625 22.1875 11.75 \r\nQ 26.265625 6.109375 33.40625 6.109375 \r\nQ 40.53125 6.109375 44.609375 11.75 \r\nQ 48.6875 17.390625 48.6875 27.296875 \r\nz\r\nM 18.109375 46.390625 \r\nQ 20.953125 51.265625 25.265625 53.625 \r\nQ 29.59375 56 35.59375 56 \r\nQ 45.5625 56 51.78125 48.09375 \r\nQ 58.015625 40.1875 58.015625 27.296875 \r\nQ 58.015625 14.40625 51.78125 6.484375 \r\nQ 45.5625 -1.421875 35.59375 -1.421875 \r\nQ 29.59375 -1.421875 25.265625 0.953125 \r\nQ 20.953125 3.328125 18.109375 8.203125 \r\nL 18.109375 0 \r\nL 9.078125 0 \r\nL 9.078125 75.984375 \r\nL 18.109375 75.984375 \r\nz\r\n\" id=\"DejaVuSans-98\"/>\r\n      <path d=\"M 8.5 21.578125 \r\nL 8.5 54.6875 \r\nL 17.484375 54.6875 \r\nL 17.484375 21.921875 \r\nQ 17.484375 14.15625 20.5 10.265625 \r\nQ 23.53125 6.390625 29.59375 6.390625 \r\nQ 36.859375 6.390625 41.078125 11.03125 \r\nQ 45.3125 15.671875 45.3125 23.6875 \r\nL 45.3125 54.6875 \r\nL 54.296875 54.6875 \r\nL 54.296875 0 \r\nL 45.3125 0 \r\nL 45.3125 8.40625 \r\nQ 42.046875 3.421875 37.71875 1 \r\nQ 33.40625 -1.421875 27.6875 -1.421875 \r\nQ 18.265625 -1.421875 13.375 4.4375 \r\nQ 8.5 10.296875 8.5 21.578125 \r\nz\r\nM 31.109375 56 \r\nz\r\n\" id=\"DejaVuSans-117\"/>\r\n      <path d=\"M 30.609375 48.390625 \r\nQ 23.390625 48.390625 19.1875 42.75 \r\nQ 14.984375 37.109375 14.984375 27.296875 \r\nQ 14.984375 17.484375 19.15625 11.84375 \r\nQ 23.34375 6.203125 30.609375 6.203125 \r\nQ 37.796875 6.203125 41.984375 11.859375 \r\nQ 46.1875 17.53125 46.1875 27.296875 \r\nQ 46.1875 37.015625 41.984375 42.703125 \r\nQ 37.796875 48.390625 30.609375 48.390625 \r\nz\r\nM 30.609375 56 \r\nQ 42.328125 56 49.015625 48.375 \r\nQ 55.71875 40.765625 55.71875 27.296875 \r\nQ 55.71875 13.875 49.015625 6.21875 \r\nQ 42.328125 -1.421875 30.609375 -1.421875 \r\nQ 18.84375 -1.421875 12.171875 6.21875 \r\nQ 5.515625 13.875 5.515625 27.296875 \r\nQ 5.515625 40.765625 12.171875 48.375 \r\nQ 18.84375 56 30.609375 56 \r\nz\r\n\" id=\"DejaVuSans-111\"/>\r\n      <path id=\"DejaVuSans-32\"/>\r\n      <path d=\"M 37.109375 75.984375 \r\nL 37.109375 68.5 \r\nL 28.515625 68.5 \r\nQ 23.6875 68.5 21.796875 66.546875 \r\nQ 19.921875 64.59375 19.921875 59.515625 \r\nL 19.921875 54.6875 \r\nL 34.71875 54.6875 \r\nL 34.71875 47.703125 \r\nL 19.921875 47.703125 \r\nL 19.921875 0 \r\nL 10.890625 0 \r\nL 10.890625 47.703125 \r\nL 2.296875 47.703125 \r\nL 2.296875 54.6875 \r\nL 10.890625 54.6875 \r\nL 10.890625 58.5 \r\nQ 10.890625 67.625 15.140625 71.796875 \r\nQ 19.390625 75.984375 28.609375 75.984375 \r\nz\r\n\" id=\"DejaVuSans-102\"/>\r\n      <path d=\"M 44.390625 34.1875 \r\nQ 47.5625 33.109375 50.5625 29.59375 \r\nQ 53.5625 26.078125 56.59375 19.921875 \r\nL 66.609375 0 \r\nL 56 0 \r\nL 46.6875 18.703125 \r\nQ 43.0625 26.03125 39.671875 28.421875 \r\nQ 36.28125 30.8125 30.421875 30.8125 \r\nL 19.671875 30.8125 \r\nL 19.671875 0 \r\nL 9.8125 0 \r\nL 9.8125 72.90625 \r\nL 32.078125 72.90625 \r\nQ 44.578125 72.90625 50.734375 67.671875 \r\nQ 56.890625 62.453125 56.890625 51.90625 \r\nQ 56.890625 45.015625 53.6875 40.46875 \r\nQ 50.484375 35.9375 44.390625 34.1875 \r\nz\r\nM 19.671875 64.796875 \r\nL 19.671875 38.921875 \r\nL 32.078125 38.921875 \r\nQ 39.203125 38.921875 42.84375 42.21875 \r\nQ 46.484375 45.515625 46.484375 51.90625 \r\nQ 46.484375 58.296875 42.84375 61.546875 \r\nQ 39.203125 64.796875 32.078125 64.796875 \r\nz\r\n\" id=\"DejaVuSans-82\"/>\r\n     </defs>\r\n     <use xlink:href=\"#DejaVuSans-68\"/>\r\n     <use x=\"77.001953\" xlink:href=\"#DejaVuSans-105\"/>\r\n     <use x=\"104.785156\" xlink:href=\"#DejaVuSans-115\"/>\r\n     <use x=\"156.884766\" xlink:href=\"#DejaVuSans-116\"/>\r\n     <use x=\"196.09375\" xlink:href=\"#DejaVuSans-114\"/>\r\n     <use x=\"237.207031\" xlink:href=\"#DejaVuSans-105\"/>\r\n     <use x=\"264.990234\" xlink:href=\"#DejaVuSans-98\"/>\r\n     <use x=\"328.466797\" xlink:href=\"#DejaVuSans-117\"/>\r\n     <use x=\"391.845703\" xlink:href=\"#DejaVuSans-116\"/>\r\n     <use x=\"431.054688\" xlink:href=\"#DejaVuSans-105\"/>\r\n     <use x=\"458.837891\" xlink:href=\"#DejaVuSans-111\"/>\r\n     <use x=\"520.019531\" xlink:href=\"#DejaVuSans-110\"/>\r\n     <use x=\"583.398438\" xlink:href=\"#DejaVuSans-32\"/>\r\n     <use x=\"615.185547\" xlink:href=\"#DejaVuSans-111\"/>\r\n     <use x=\"676.367188\" xlink:href=\"#DejaVuSans-102\"/>\r\n     <use x=\"711.572266\" xlink:href=\"#DejaVuSans-32\"/>\r\n     <use x=\"743.359375\" xlink:href=\"#DejaVuSans-82\"/>\r\n     <use x=\"810.591797\" xlink:href=\"#DejaVuSans-97\"/>\r\n     <use x=\"871.871094\" xlink:href=\"#DejaVuSans-116\"/>\r\n     <use x=\"911.080078\" xlink:href=\"#DejaVuSans-105\"/>\r\n     <use x=\"938.863281\" xlink:href=\"#DejaVuSans-110\"/>\r\n     <use x=\"1002.242188\" xlink:href=\"#DejaVuSans-103\"/>\r\n     <use x=\"1065.71875\" xlink:href=\"#DejaVuSans-115\"/>\r\n    </g>\r\n   </g>\r\n  </g>\r\n </g>\r\n <defs>\r\n  <clipPath id=\"p9bf5e41ae2\">\r\n   <rect height=\"174.96\" width=\"501.12\" x=\"53.223625\" y=\"28.51845\"/>\r\n  </clipPath>\r\n </defs>\r\n</svg>\r\n",
      "image/png": "[encoded data removed]"
     },
     "metadata": {}
    }
   ],
   "source": [
    "# lets check the Distribution of Ratings across the Movies\n",
    "\n",
    "plt.rcParams['figure.figsize'] = (8, 3)\n",
    "plt.style.use('fivethirtyeight')\n",
    "sns.distplot(data['rating'], color = 'black')\n",
    "plt.title('Distribution of Ratings')\n",
    "plt.show()"
   ]
  },
  {
   "cell_type": "code",
   "execution_count": 11,
   "metadata": {},
   "outputs": [
    {
     "output_type": "execute_result",
     "data": {
      "text/plain": [
       "2002    244\n",
       "1996    240\n",
       "1995    228\n",
       "2001    227\n",
       "1998    225\n",
       "2000    225\n",
       "1999    221\n",
       "1997    217\n",
       "2004    206\n",
       "2006    204\n",
       "1994    198\n",
       "2003    197\n",
       "2007    195\n",
       "2005    195\n",
       "2009    190\n",
       "2008    189\n",
       "2011    180\n",
       "2010    179\n",
       "2014    170\n",
       "1993    166\n",
       "2013    166\n",
       "2012    160\n",
       "2015    148\n",
       "1988    133\n",
       "1992    127\n",
       "1987    123\n",
       "1990    117\n",
       "1986    115\n",
       "1989    115\n",
       "1991    111\n",
       "1985    105\n",
       "1984     77\n",
       "1982     71\n",
       "1983     67\n",
       "1981     64\n",
       "1980     63\n",
       "2016     52\n",
       "1979     48\n",
       "1977     47\n",
       "1978     46\n",
       "1973     41\n",
       "1974     39\n",
       "1971     33\n",
       "1975     32\n",
       "1962     32\n",
       "1965     32\n",
       "1959     32\n",
       "1955     32\n",
       "1976     31\n",
       "1964     31\n",
       "1960     30\n",
       "1966     30\n",
       "1972     30\n",
       "1963     29\n",
       "1968     28\n",
       "1967     28\n",
       "1953     26\n",
       "1957     26\n",
       "1961     25\n",
       "1958     24\n",
       "1970     23\n",
       "1956     22\n",
       "1969     22\n",
       "1942     20\n",
       "1939     20\n",
       "1954     20\n",
       "1947     17\n",
       "1940     17\n",
       "1950     16\n",
       "1946     16\n",
       "1948     16\n",
       "1951     16\n",
       "1949     15\n",
       "1941     15\n",
       "1937     14\n",
       "1952     13\n",
       "1945     13\n",
       "1944     12\n",
       "1936     11\n",
       "1938     10\n",
       "1931      9\n",
       "1933      8\n",
       "1932      8\n",
       "1934      7\n",
       "1935      6\n",
       "1943      6\n",
       "1927      4\n",
       "1925      4\n",
       "1928      4\n",
       "1924      4\n",
       "1929      4\n",
       "1926      3\n",
       "1930      3\n",
       "1923      2\n",
       "1916      2\n",
       "1915      1\n",
       "1917      1\n",
       "1920      1\n",
       "Road      1\n",
       "1902      1\n",
       "1922      1\n",
       "1921      1\n",
       "          1\n",
       "Name: year, dtype: int64"
      ]
     },
     "metadata": {},
     "execution_count": 11
    }
   ],
   "source": [
    "# Lets Extract Year of Release from the Movie Title\n",
    "data['y'] = data['title'].str.split(' ')\n",
    "data['year'] = data['y'].apply(lambda x: x[-1])\n",
    "\n",
    "# lets drop the unnecessary 'y' column from the dataset\n",
    "data = data.drop(['y'], axis = 1)\n",
    "\n",
    "# lets remove the Opening and Closing Brackets from the String\n",
    "data['year'] = data['year'].str.strip(')')\n",
    "data['year'] = data['year'].str.strip('(')\n",
    "\n",
    "# lets check the Values After Extraction\n",
    "pd.set_option('max_rows', 110)\n",
    "data['year'].value_counts()"
   ]
  },
  {
   "cell_type": "code",
   "execution_count": 12,
   "metadata": {},
   "outputs": [
    {
     "output_type": "execute_result",
     "data": {
      "text/plain": [
       "                                     title  \\\n",
       "0  'Hellboy': The Seeds of Creation (2004)   \n",
       "1                   'Round Midnight (1986)   \n",
       "2                      'Salem's Lot (2004)   \n",
       "3                'Til There Was You (1997)   \n",
       "4                       'burbs, The (1989)   \n",
       "\n",
       "                                        genres    rating  year  \n",
       "0  Action|Adventure|Comedy|Documentary|Fantasy  4.000000  2004  \n",
       "1                                Drama|Musical  3.500000  1986  \n",
       "2                Drama|Horror|Mystery|Thriller  5.000000  2004  \n",
       "3                                Drama|Romance  4.000000  1997  \n",
       "4                                       Comedy  3.176471  1989  "
      ],
      "text/html": "<div>\n<style scoped>\n    .dataframe tbody tr th:only-of-type {\n        vertical-align: middle;\n    }\n\n    .dataframe tbody tr th {\n        vertical-align: top;\n    }\n\n    .dataframe thead th {\n        text-align: right;\n    }\n</style>\n<table border=\"1\" class=\"dataframe\">\n  <thead>\n    <tr style=\"text-align: right;\">\n      <th></th>\n      <th>title</th>\n      <th>genres</th>\n      <th>rating</th>\n      <th>year</th>\n    </tr>\n  </thead>\n  <tbody>\n    <tr>\n      <th>0</th>\n      <td>'Hellboy': The Seeds of Creation (2004)</td>\n      <td>Action|Adventure|Comedy|Documentary|Fantasy</td>\n      <td>4.000000</td>\n      <td>2004</td>\n    </tr>\n    <tr>\n      <th>1</th>\n      <td>'Round Midnight (1986)</td>\n      <td>Drama|Musical</td>\n      <td>3.500000</td>\n      <td>1986</td>\n    </tr>\n    <tr>\n      <th>2</th>\n      <td>'Salem's Lot (2004)</td>\n      <td>Drama|Horror|Mystery|Thriller</td>\n      <td>5.000000</td>\n      <td>2004</td>\n    </tr>\n    <tr>\n      <th>3</th>\n      <td>'Til There Was You (1997)</td>\n      <td>Drama|Romance</td>\n      <td>4.000000</td>\n      <td>1997</td>\n    </tr>\n    <tr>\n      <th>4</th>\n      <td>'burbs, The (1989)</td>\n      <td>Comedy</td>\n      <td>3.176471</td>\n      <td>1989</td>\n    </tr>\n  </tbody>\n</table>\n</div>"
     },
     "metadata": {},
     "execution_count": 12
    }
   ],
   "source": [
    "# There are some Dirty Values, Let's Clean them\n",
    "data['year'] = data['year'].replace(('2007-','Despot','Things', '1975-1979','Road', ''),\n",
    "                                   ('2007','2016','2016','1979','2002','1996'))\n",
    "\n",
    "# lets convert the year column into Integer data type\n",
    "data['year'] = data['year'].astype(int)\n",
    "\n",
    "# lets check the head of the dataset again\n",
    "data.head()"
   ]
  },
  {
   "cell_type": "code",
   "execution_count": 13,
   "metadata": {},
   "outputs": [
    {
     "output_type": "execute_result",
     "data": {
      "text/plain": [
       "                              title  \\\n",
       "0  'Hellboy': The Seeds of Creation   \n",
       "1                   'Round Midnight   \n",
       "2                      'Salem's Lot   \n",
       "3                'Til There Was You   \n",
       "4                       'burbs, The   \n",
       "\n",
       "                                        genres    rating  year  \n",
       "0  Action|Adventure|Comedy|Documentary|Fantasy  4.000000  2004  \n",
       "1                                Drama|Musical  3.500000  1986  \n",
       "2                Drama|Horror|Mystery|Thriller  5.000000  2004  \n",
       "3                                Drama|Romance  4.000000  1997  \n",
       "4                                       Comedy  3.176471  1989  "
      ],
      "text/html": "<div>\n<style scoped>\n    .dataframe tbody tr th:only-of-type {\n        vertical-align: middle;\n    }\n\n    .dataframe tbody tr th {\n        vertical-align: top;\n    }\n\n    .dataframe thead th {\n        text-align: right;\n    }\n</style>\n<table border=\"1\" class=\"dataframe\">\n  <thead>\n    <tr style=\"text-align: right;\">\n      <th></th>\n      <th>title</th>\n      <th>genres</th>\n      <th>rating</th>\n      <th>year</th>\n    </tr>\n  </thead>\n  <tbody>\n    <tr>\n      <th>0</th>\n      <td>'Hellboy': The Seeds of Creation</td>\n      <td>Action|Adventure|Comedy|Documentary|Fantasy</td>\n      <td>4.000000</td>\n      <td>2004</td>\n    </tr>\n    <tr>\n      <th>1</th>\n      <td>'Round Midnight</td>\n      <td>Drama|Musical</td>\n      <td>3.500000</td>\n      <td>1986</td>\n    </tr>\n    <tr>\n      <th>2</th>\n      <td>'Salem's Lot</td>\n      <td>Drama|Horror|Mystery|Thriller</td>\n      <td>5.000000</td>\n      <td>2004</td>\n    </tr>\n    <tr>\n      <th>3</th>\n      <td>'Til There Was You</td>\n      <td>Drama|Romance</td>\n      <td>4.000000</td>\n      <td>1997</td>\n    </tr>\n    <tr>\n      <th>4</th>\n      <td>'burbs, The</td>\n      <td>Comedy</td>\n      <td>3.176471</td>\n      <td>1989</td>\n    </tr>\n  </tbody>\n</table>\n</div>"
     },
     "metadata": {},
     "execution_count": 13
    }
   ],
   "source": [
    "# lets remove the Year from the Movie Titles\n",
    "data['title'] = data['title'].str.split(' ')\n",
    "data['title'] = data['title'].apply(lambda x: ' '.join(x[:-1]))\n",
    "\n",
    "\n",
    "# lets check the head of the dataset again\n",
    "data.head()"
   ]
  },
  {
   "cell_type": "code",
   "execution_count": 14,
   "metadata": {},
   "outputs": [
    {
     "output_type": "execute_result",
     "data": {
      "text/plain": [
       "<pandas.io.formats.style.Styler at 0x2170645db50>"
      ],
      "text/html": "<style  type=\"text/css\" >\n#T_79980c1b_da05_11eb_89be_089798724221row0_col1{\n            background-color:  #fc7f00;\n            color:  #000000;\n        }#T_79980c1b_da05_11eb_89be_089798724221row1_col1,#T_79980c1b_da05_11eb_89be_089798724221row2_col1{\n            background-color:  #ffaf00;\n            color:  #000000;\n        }#T_79980c1b_da05_11eb_89be_089798724221row3_col1{\n            background-color:  #fee91d;\n            color:  #000000;\n        }#T_79980c1b_da05_11eb_89be_089798724221row4_col1{\n            background-color:  #f5f03c;\n            color:  #000000;\n        }#T_79980c1b_da05_11eb_89be_089798724221row5_col1{\n            background-color:  #f2f348;\n            color:  #000000;\n        }#T_79980c1b_da05_11eb_89be_089798724221row6_col1,#T_79980c1b_da05_11eb_89be_089798724221row7_col1,#T_79980c1b_da05_11eb_89be_089798724221row8_col1{\n            background-color:  #f0f54e;\n            color:  #000000;\n        }#T_79980c1b_da05_11eb_89be_089798724221row9_col1{\n            background-color:  #e4ff7a;\n            color:  #000000;\n        }</style><table id=\"T_79980c1b_da05_11eb_89be_089798724221\" ><thead>    <tr>        <th class=\"blank level0\" ></th>        <th class=\"col_heading level0 col0\" >title</th>        <th class=\"col_heading level0 col1\" >rating</th>    </tr></thead><tbody>\n                <tr>\n                        <th id=\"T_79980c1b_da05_11eb_89be_089798724221level0_row0\" class=\"row_heading level0 row0\" >0</th>\n                        <td id=\"T_79980c1b_da05_11eb_89be_089798724221row0_col0\" class=\"data row0 col0\" >Ice Age: The Great Egg-Scapade</td>\n                        <td id=\"T_79980c1b_da05_11eb_89be_089798724221row0_col1\" class=\"data row0 col1\" >5.000000</td>\n            </tr>\n            <tr>\n                        <th id=\"T_79980c1b_da05_11eb_89be_089798724221level0_row1\" class=\"row_heading level0 row1\" >1</th>\n                        <td id=\"T_79980c1b_da05_11eb_89be_089798724221row1_col0\" class=\"data row1 col0\" >Piper</td>\n                        <td id=\"T_79980c1b_da05_11eb_89be_089798724221row1_col1\" class=\"data row1 col1\" >4.500000</td>\n            </tr>\n            <tr>\n                        <th id=\"T_79980c1b_da05_11eb_89be_089798724221level0_row2\" class=\"row_heading level0 row2\" >2</th>\n                        <td id=\"T_79980c1b_da05_11eb_89be_089798724221row2_col0\" class=\"data row2 col0\" >Pride and Prejudice and Zombies</td>\n                        <td id=\"T_79980c1b_da05_11eb_89be_089798724221row2_col1\" class=\"data row2 col1\" >4.500000</td>\n            </tr>\n            <tr>\n                        <th id=\"T_79980c1b_da05_11eb_89be_089798724221level0_row3\" class=\"row_heading level0 row3\" >3</th>\n                        <td id=\"T_79980c1b_da05_11eb_89be_089798724221row3_col0\" class=\"data row3 col0\" >Shin Godzilla</td>\n                        <td id=\"T_79980c1b_da05_11eb_89be_089798724221row3_col1\" class=\"data row3 col1\" >4.000000</td>\n            </tr>\n            <tr>\n                        <th id=\"T_79980c1b_da05_11eb_89be_089798724221level0_row4\" class=\"row_heading level0 row4\" >4</th>\n                        <td id=\"T_79980c1b_da05_11eb_89be_089798724221row4_col0\" class=\"data row4 col0\" >Zootopia</td>\n                        <td id=\"T_79980c1b_da05_11eb_89be_089798724221row4_col1\" class=\"data row4 col1\" >3.890625</td>\n            </tr>\n            <tr>\n                        <th id=\"T_79980c1b_da05_11eb_89be_089798724221level0_row5\" class=\"row_heading level0 row5\" >5</th>\n                        <td id=\"T_79980c1b_da05_11eb_89be_089798724221row5_col0\" class=\"data row5 col0\" >Sherlock: The Abominable Bride</td>\n                        <td id=\"T_79980c1b_da05_11eb_89be_089798724221row5_col1\" class=\"data row5 col1\" >3.850000</td>\n            </tr>\n            <tr>\n                        <th id=\"T_79980c1b_da05_11eb_89be_089798724221level0_row6\" class=\"row_heading level0 row6\" >6</th>\n                        <td id=\"T_79980c1b_da05_11eb_89be_089798724221row6_col0\" class=\"data row6 col0\" >Deadpool</td>\n                        <td id=\"T_79980c1b_da05_11eb_89be_089798724221row6_col1\" class=\"data row6 col1\" >3.833333</td>\n            </tr>\n            <tr>\n                        <th id=\"T_79980c1b_da05_11eb_89be_089798724221level0_row7\" class=\"row_heading level0 row7\" >7</th>\n                        <td id=\"T_79980c1b_da05_11eb_89be_089798724221row7_col0\" class=\"data row7 col0\" >The Nice Guys</td>\n                        <td id=\"T_79980c1b_da05_11eb_89be_089798724221row7_col1\" class=\"data row7 col1\" >3.833333</td>\n            </tr>\n            <tr>\n                        <th id=\"T_79980c1b_da05_11eb_89be_089798724221level0_row8\" class=\"row_heading level0 row8\" >8</th>\n                        <td id=\"T_79980c1b_da05_11eb_89be_089798724221row8_col0\" class=\"data row8 col0\" >Sing Street</td>\n                        <td id=\"T_79980c1b_da05_11eb_89be_089798724221row8_col1\" class=\"data row8 col1\" >3.833333</td>\n            </tr>\n            <tr>\n                        <th id=\"T_79980c1b_da05_11eb_89be_089798724221level0_row9\" class=\"row_heading level0 row9\" >9</th>\n                        <td id=\"T_79980c1b_da05_11eb_89be_089798724221row9_col0\" class=\"data row9 col0\" >10 Cloverfield Lane</td>\n                        <td id=\"T_79980c1b_da05_11eb_89be_089798724221row9_col1\" class=\"data row9 col1\" >3.678571</td>\n            </tr>\n    </tbody></table>"
     },
     "metadata": {},
     "execution_count": 14
    }
   ],
   "source": [
    "# Lets check the Latest Movies - the Last Year mentioned in the Dataset is 2016\n",
    "data[data['year'] == 2016][['title','rating']].sort_values(by = 'rating',\n",
    "                ascending = False).head(10).reset_index(drop = True).style.background_gradient(cmap = 'Wistia')"
   ]
  },
  {
   "cell_type": "code",
   "execution_count": 15,
   "metadata": {},
   "outputs": [
    {
     "output_type": "stream",
     "name": "stdout",
     "text": [
      "The Number of Movies that received 5 Star Reviews : 108\nPercentage of Movies Getting 5 Star Reviews : 0.02%\n\nThe Number of Movies that received less than 1 Star Reviews : 115\nThe Percentage of Movies Getting Less than 1 Star Reviews : 0.02%\n"
     ]
    }
   ],
   "source": [
    "# lets Check the Number of Movies that got 5 Star Reviews and Less than 1 Star Reviews\n",
    "\n",
    "print(\"The Number of Movies that received 5 Star Reviews :\", data[data['rating'] == 5]['title'].count())\n",
    "print(\"Percentage of Movies Getting 5 Star Reviews : {0:.2f}%\".format((data[data['rating'] == 5]['title'].count())/\n",
    "                                                                      (data.shape[0])))\n",
    "print(\"\\nThe Number of Movies that received less than 1 Star Reviews :\", data[data['rating'] <= 1]['title'].count())\n",
    "print(\"The Percentage of Movies Getting Less than 1 Star Reviews : {0:.2f}%\".format((\n",
    "    data[data['rating'] <= 1]['title'].count())/(data.shape[0])))"
   ]
  },
  {
   "cell_type": "code",
   "execution_count": 16,
   "metadata": {},
   "outputs": [
    {
     "output_type": "execute_result",
     "data": {
      "text/plain": [
       "                                   title    rating  year  \\\n",
       "0       'Hellboy': The Seeds of Creation  4.000000  2004   \n",
       "1                        'Round Midnight  3.500000  1986   \n",
       "2                           'Salem's Lot  5.000000  2004   \n",
       "3                     'Til There Was You  4.000000  1997   \n",
       "4                            'burbs, The  3.176471  1989   \n",
       "...                                  ...       ...   ...   \n",
       "7067                            eXistenZ  3.863636  1999   \n",
       "7068                                 xXx  2.770833  2002   \n",
       "7069             xXx: State of the Union  2.000000  2005   \n",
       "7070                      ¡Three Amigos!  3.134615  1986   \n",
       "7071  À nous la liberté (Freedom for Us)  1.000000  1931   \n",
       "\n",
       "                                                 genres  \n",
       "0     [Action, Adventure, Comedy, Documentary, Fantasy]  \n",
       "1                                      [Drama, Musical]  \n",
       "2                    [Drama, Horror, Mystery, Thriller]  \n",
       "3                                      [Drama, Romance]  \n",
       "4                                              [Comedy]  \n",
       "...                                                 ...  \n",
       "7067                         [Action, Sci-Fi, Thriller]  \n",
       "7068                          [Action, Crime, Thriller]  \n",
       "7069                          [Action, Crime, Thriller]  \n",
       "7070                                  [Comedy, Western]  \n",
       "7071                                  [Comedy, Musical]  \n",
       "\n",
       "[7072 rows x 4 columns]"
      ],
      "text/html": "<div>\n<style scoped>\n    .dataframe tbody tr th:only-of-type {\n        vertical-align: middle;\n    }\n\n    .dataframe tbody tr th {\n        vertical-align: top;\n    }\n\n    .dataframe thead th {\n        text-align: right;\n    }\n</style>\n<table border=\"1\" class=\"dataframe\">\n  <thead>\n    <tr style=\"text-align: right;\">\n      <th></th>\n      <th>title</th>\n      <th>rating</th>\n      <th>year</th>\n      <th>genres</th>\n    </tr>\n  </thead>\n  <tbody>\n    <tr>\n      <th>0</th>\n      <td>'Hellboy': The Seeds of Creation</td>\n      <td>4.000000</td>\n      <td>2004</td>\n      <td>[Action, Adventure, Comedy, Documentary, Fantasy]</td>\n    </tr>\n    <tr>\n      <th>1</th>\n      <td>'Round Midnight</td>\n      <td>3.500000</td>\n      <td>1986</td>\n      <td>[Drama, Musical]</td>\n    </tr>\n    <tr>\n      <th>2</th>\n      <td>'Salem's Lot</td>\n      <td>5.000000</td>\n      <td>2004</td>\n      <td>[Drama, Horror, Mystery, Thriller]</td>\n    </tr>\n    <tr>\n      <th>3</th>\n      <td>'Til There Was You</td>\n      <td>4.000000</td>\n      <td>1997</td>\n      <td>[Drama, Romance]</td>\n    </tr>\n    <tr>\n      <th>4</th>\n      <td>'burbs, The</td>\n      <td>3.176471</td>\n      <td>1989</td>\n      <td>[Comedy]</td>\n    </tr>\n    <tr>\n      <th>...</th>\n      <td>...</td>\n      <td>...</td>\n      <td>...</td>\n      <td>...</td>\n    </tr>\n    <tr>\n      <th>7067</th>\n      <td>eXistenZ</td>\n      <td>3.863636</td>\n      <td>1999</td>\n      <td>[Action, Sci-Fi, Thriller]</td>\n    </tr>\n    <tr>\n      <th>7068</th>\n      <td>xXx</td>\n      <td>2.770833</td>\n      <td>2002</td>\n      <td>[Action, Crime, Thriller]</td>\n    </tr>\n    <tr>\n      <th>7069</th>\n      <td>xXx: State of the Union</td>\n      <td>2.000000</td>\n      <td>2005</td>\n      <td>[Action, Crime, Thriller]</td>\n    </tr>\n    <tr>\n      <th>7070</th>\n      <td>¡Three Amigos!</td>\n      <td>3.134615</td>\n      <td>1986</td>\n      <td>[Comedy, Western]</td>\n    </tr>\n    <tr>\n      <th>7071</th>\n      <td>À nous la liberté (Freedom for Us)</td>\n      <td>1.000000</td>\n      <td>1931</td>\n      <td>[Comedy, Musical]</td>\n    </tr>\n  </tbody>\n</table>\n<p>7072 rows × 4 columns</p>\n</div>"
     },
     "metadata": {},
     "execution_count": 16
    }
   ],
   "source": [
    "x = data['genres'].str.split('|')\n",
    "d = data.drop(['genres'], axis = 1)\n",
    "pd.concat([d, x], axis = 1)"
   ]
  },
  {
   "cell_type": "code",
   "execution_count": 17,
   "metadata": {},
   "outputs": [
    {
     "output_type": "display_data",
     "data": {
      "text/plain": "interactive(children=(Dropdown(description='Genre', options=('Action', 'Adventure', 'Animation', 'Children', '…",
      "application/vnd.jupyter.widget-view+json": {
       "version_major": 2,
       "version_minor": 0,
       "model_id": "672eff8bbe1943708bdfd58900ff7759"
      }
     },
     "metadata": {}
    }
   ],
   "source": [
    "# lets create an Interactive Function to get the List of Best Movies from Each Genre\n",
    "\n",
    "@interact\n",
    "def genre(Genre = ['Action', 'Adventure', 'Animation','Children', 'Comedy', 'Crime', 'Documentary', 'Drama', 'Fantasy',\n",
    "       'Film-Noir', 'Horror', 'IMAX', 'Musical', 'Mystery', 'Romance','Sci-Fi', 'Thriller', 'War', 'Western'], year = 2000):\n",
    "    x = data['genres'].str.split('|')\n",
    "    d = data.drop(['genres'], axis = 1)\n",
    "    x = pd.concat([d, x], axis = 1)\n",
    "    x = x.explode('genres')\n",
    "    x= x[(x['genres'] == Genre) & (x['year'] >= year)][['title', 'rating', 'year']].sort_values(by = 'rating',\n",
    "                            ascending = False).reset_index(drop = True).head(10)\n",
    "    return x"
   ]
  },
  {
   "cell_type": "code",
   "execution_count": 19,
   "metadata": {},
   "outputs": [
    {
     "output_type": "execute_result",
     "data": {
      "text/plain": [
       "                                   title  \\\n",
       "0       'Hellboy': The Seeds of Creation   \n",
       "1                        'Round Midnight   \n",
       "2                           'Salem's Lot   \n",
       "3                     'Til There Was You   \n",
       "4                            'burbs, The   \n",
       "...                                  ...   \n",
       "7067                            eXistenZ   \n",
       "7068                                 xXx   \n",
       "7069             xXx: State of the Union   \n",
       "7070                      ¡Three Amigos!   \n",
       "7071  À nous la liberté (Freedom for Us)   \n",
       "\n",
       "                                           genres    rating  year  \n",
       "0     Action|Adventure|Comedy|Documentary|Fantasy  4.000000  2004  \n",
       "1                                   Drama|Musical  3.500000  1986  \n",
       "2                   Drama|Horror|Mystery|Thriller  5.000000  2004  \n",
       "3                                   Drama|Romance  4.000000  1997  \n",
       "4                                          Comedy  3.176471  1989  \n",
       "...                                           ...       ...   ...  \n",
       "7067                       Action|Sci-Fi|Thriller  3.863636  1999  \n",
       "7068                        Action|Crime|Thriller  2.770833  2002  \n",
       "7069                        Action|Crime|Thriller  2.000000  2005  \n",
       "7070                               Comedy|Western  3.134615  1986  \n",
       "7071                               Comedy|Musical  1.000000  1931  \n",
       "\n",
       "[7072 rows x 4 columns]"
      ],
      "text/html": "<div>\n<style scoped>\n    .dataframe tbody tr th:only-of-type {\n        vertical-align: middle;\n    }\n\n    .dataframe tbody tr th {\n        vertical-align: top;\n    }\n\n    .dataframe thead th {\n        text-align: right;\n    }\n</style>\n<table border=\"1\" class=\"dataframe\">\n  <thead>\n    <tr style=\"text-align: right;\">\n      <th></th>\n      <th>title</th>\n      <th>genres</th>\n      <th>rating</th>\n      <th>year</th>\n    </tr>\n  </thead>\n  <tbody>\n    <tr>\n      <th>0</th>\n      <td>'Hellboy': The Seeds of Creation</td>\n      <td>Action|Adventure|Comedy|Documentary|Fantasy</td>\n      <td>4.000000</td>\n      <td>2004</td>\n    </tr>\n    <tr>\n      <th>1</th>\n      <td>'Round Midnight</td>\n      <td>Drama|Musical</td>\n      <td>3.500000</td>\n      <td>1986</td>\n    </tr>\n    <tr>\n      <th>2</th>\n      <td>'Salem's Lot</td>\n      <td>Drama|Horror|Mystery|Thriller</td>\n      <td>5.000000</td>\n      <td>2004</td>\n    </tr>\n    <tr>\n      <th>3</th>\n      <td>'Til There Was You</td>\n      <td>Drama|Romance</td>\n      <td>4.000000</td>\n      <td>1997</td>\n    </tr>\n    <tr>\n      <th>4</th>\n      <td>'burbs, The</td>\n      <td>Comedy</td>\n      <td>3.176471</td>\n      <td>1989</td>\n    </tr>\n    <tr>\n      <th>...</th>\n      <td>...</td>\n      <td>...</td>\n      <td>...</td>\n      <td>...</td>\n    </tr>\n    <tr>\n      <th>7067</th>\n      <td>eXistenZ</td>\n      <td>Action|Sci-Fi|Thriller</td>\n      <td>3.863636</td>\n      <td>1999</td>\n    </tr>\n    <tr>\n      <th>7068</th>\n      <td>xXx</td>\n      <td>Action|Crime|Thriller</td>\n      <td>2.770833</td>\n      <td>2002</td>\n    </tr>\n    <tr>\n      <th>7069</th>\n      <td>xXx: State of the Union</td>\n      <td>Action|Crime|Thriller</td>\n      <td>2.000000</td>\n      <td>2005</td>\n    </tr>\n    <tr>\n      <th>7070</th>\n      <td>¡Three Amigos!</td>\n      <td>Comedy|Western</td>\n      <td>3.134615</td>\n      <td>1986</td>\n    </tr>\n    <tr>\n      <th>7071</th>\n      <td>À nous la liberté (Freedom for Us)</td>\n      <td>Comedy|Musical</td>\n      <td>1.000000</td>\n      <td>1931</td>\n    </tr>\n  </tbody>\n</table>\n<p>7072 rows × 4 columns</p>\n</div>"
     },
     "metadata": {},
     "execution_count": 19
    }
   ],
   "source": [
    "data"
   ]
  },
  {
   "cell_type": "code",
   "execution_count": 20,
   "metadata": {},
   "outputs": [
    {
     "output_type": "execute_result",
     "data": {
      "text/plain": [
       "   (no genres listed)  Action  Adventure  Animation  Children  Comedy  Crime  \\\n",
       "0               False    True       True      False     False    True  False   \n",
       "1               False   False      False      False     False   False  False   \n",
       "\n",
       "   Documentary  Drama  Fantasy  Film-Noir  Horror   IMAX  Musical  Mystery  \\\n",
       "0         True  False     True      False   False  False    False    False   \n",
       "1        False   True    False      False   False  False     True    False   \n",
       "\n",
       "   Romance  Sci-Fi  Thriller    War  Western  \n",
       "0    False   False     False  False    False  \n",
       "1    False   False     False  False    False  "
      ],
      "text/html": "<div>\n<style scoped>\n    .dataframe tbody tr th:only-of-type {\n        vertical-align: middle;\n    }\n\n    .dataframe tbody tr th {\n        vertical-align: top;\n    }\n\n    .dataframe thead th {\n        text-align: right;\n    }\n</style>\n<table border=\"1\" class=\"dataframe\">\n  <thead>\n    <tr style=\"text-align: right;\">\n      <th></th>\n      <th>(no genres listed)</th>\n      <th>Action</th>\n      <th>Adventure</th>\n      <th>Animation</th>\n      <th>Children</th>\n      <th>Comedy</th>\n      <th>Crime</th>\n      <th>Documentary</th>\n      <th>Drama</th>\n      <th>Fantasy</th>\n      <th>Film-Noir</th>\n      <th>Horror</th>\n      <th>IMAX</th>\n      <th>Musical</th>\n      <th>Mystery</th>\n      <th>Romance</th>\n      <th>Sci-Fi</th>\n      <th>Thriller</th>\n      <th>War</th>\n      <th>Western</th>\n    </tr>\n  </thead>\n  <tbody>\n    <tr>\n      <th>0</th>\n      <td>False</td>\n      <td>True</td>\n      <td>True</td>\n      <td>False</td>\n      <td>False</td>\n      <td>True</td>\n      <td>False</td>\n      <td>True</td>\n      <td>False</td>\n      <td>True</td>\n      <td>False</td>\n      <td>False</td>\n      <td>False</td>\n      <td>False</td>\n      <td>False</td>\n      <td>False</td>\n      <td>False</td>\n      <td>False</td>\n      <td>False</td>\n      <td>False</td>\n    </tr>\n    <tr>\n      <th>1</th>\n      <td>False</td>\n      <td>False</td>\n      <td>False</td>\n      <td>False</td>\n      <td>False</td>\n      <td>False</td>\n      <td>False</td>\n      <td>False</td>\n      <td>True</td>\n      <td>False</td>\n      <td>False</td>\n      <td>False</td>\n      <td>False</td>\n      <td>True</td>\n      <td>False</td>\n      <td>False</td>\n      <td>False</td>\n      <td>False</td>\n      <td>False</td>\n      <td>False</td>\n    </tr>\n  </tbody>\n</table>\n</div>"
     },
     "metadata": {},
     "execution_count": 20
    }
   ],
   "source": [
    "from mlxtend.preprocessing import TransactionEncoder\n",
    "\n",
    "# lets split all the Genres into Transactions\n",
    "genres = data['genres'].str.split('|')\n",
    "te = TransactionEncoder()\n",
    "genres = te.fit_transform(genres)\n",
    "genres = pd.DataFrame(genres, columns = te.columns_)\n",
    "\n",
    "genres.head(2)"
   ]
  },
  {
   "cell_type": "code",
   "execution_count": 21,
   "metadata": {},
   "outputs": [
    {
     "output_type": "execute_result",
     "data": {
      "text/plain": [
       "                              title  (no genres listed)  Action  Adventure  \\\n",
       "0  'Hellboy': The Seeds of Creation                   0       1          1   \n",
       "1                   'Round Midnight                   0       0          0   \n",
       "\n",
       "   Animation  Children  Comedy  Crime  Documentary  Drama  ...  Film-Noir  \\\n",
       "0          0         0       1      0            1      0  ...          0   \n",
       "1          0         0       0      0            0      1  ...          0   \n",
       "\n",
       "   Horror  IMAX  Musical  Mystery  Romance  Sci-Fi  Thriller  War  Western  \n",
       "0       0     0        0        0        0       0         0    0        0  \n",
       "1       0     0        1        0        0       0         0    0        0  \n",
       "\n",
       "[2 rows x 21 columns]"
      ],
      "text/html": "<div>\n<style scoped>\n    .dataframe tbody tr th:only-of-type {\n        vertical-align: middle;\n    }\n\n    .dataframe tbody tr th {\n        vertical-align: top;\n    }\n\n    .dataframe thead th {\n        text-align: right;\n    }\n</style>\n<table border=\"1\" class=\"dataframe\">\n  <thead>\n    <tr style=\"text-align: right;\">\n      <th></th>\n      <th>title</th>\n      <th>(no genres listed)</th>\n      <th>Action</th>\n      <th>Adventure</th>\n      <th>Animation</th>\n      <th>Children</th>\n      <th>Comedy</th>\n      <th>Crime</th>\n      <th>Documentary</th>\n      <th>Drama</th>\n      <th>...</th>\n      <th>Film-Noir</th>\n      <th>Horror</th>\n      <th>IMAX</th>\n      <th>Musical</th>\n      <th>Mystery</th>\n      <th>Romance</th>\n      <th>Sci-Fi</th>\n      <th>Thriller</th>\n      <th>War</th>\n      <th>Western</th>\n    </tr>\n  </thead>\n  <tbody>\n    <tr>\n      <th>0</th>\n      <td>'Hellboy': The Seeds of Creation</td>\n      <td>0</td>\n      <td>1</td>\n      <td>1</td>\n      <td>0</td>\n      <td>0</td>\n      <td>1</td>\n      <td>0</td>\n      <td>1</td>\n      <td>0</td>\n      <td>...</td>\n      <td>0</td>\n      <td>0</td>\n      <td>0</td>\n      <td>0</td>\n      <td>0</td>\n      <td>0</td>\n      <td>0</td>\n      <td>0</td>\n      <td>0</td>\n      <td>0</td>\n    </tr>\n    <tr>\n      <th>1</th>\n      <td>'Round Midnight</td>\n      <td>0</td>\n      <td>0</td>\n      <td>0</td>\n      <td>0</td>\n      <td>0</td>\n      <td>0</td>\n      <td>0</td>\n      <td>0</td>\n      <td>1</td>\n      <td>...</td>\n      <td>0</td>\n      <td>0</td>\n      <td>0</td>\n      <td>1</td>\n      <td>0</td>\n      <td>0</td>\n      <td>0</td>\n      <td>0</td>\n      <td>0</td>\n      <td>0</td>\n    </tr>\n  </tbody>\n</table>\n<p>2 rows × 21 columns</p>\n</div>"
     },
     "metadata": {},
     "execution_count": 21
    }
   ],
   "source": [
    "# lets convert this data into boolean so that we can perform calculations\n",
    "genres = genres.astype('int')\n",
    "genres.insert(0, 'title', data['title'])\n",
    "genres.head(2)"
   ]
  },
  {
   "cell_type": "code",
   "execution_count": 22,
   "metadata": {},
   "outputs": [
    {
     "output_type": "execute_result",
     "data": {
      "text/plain": [
       "                                   title  \\\n",
       "0       'Hellboy': The Seeds of Creation   \n",
       "1                        'Round Midnight   \n",
       "2                           'Salem's Lot   \n",
       "3                     'Til There Was You   \n",
       "4                            'burbs, The   \n",
       "...                                  ...   \n",
       "7067                            eXistenZ   \n",
       "7068                                 xXx   \n",
       "7069             xXx: State of the Union   \n",
       "7070                      ¡Three Amigos!   \n",
       "7071  À nous la liberté (Freedom for Us)   \n",
       "\n",
       "                                           genres    rating  year  \n",
       "0     Action|Adventure|Comedy|Documentary|Fantasy  4.000000  2004  \n",
       "1                                   Drama|Musical  3.500000  1986  \n",
       "2                   Drama|Horror|Mystery|Thriller  5.000000  2004  \n",
       "3                                   Drama|Romance  4.000000  1997  \n",
       "4                                          Comedy  3.176471  1989  \n",
       "...                                           ...       ...   ...  \n",
       "7067                       Action|Sci-Fi|Thriller  3.863636  1999  \n",
       "7068                        Action|Crime|Thriller  2.770833  2002  \n",
       "7069                        Action|Crime|Thriller  2.000000  2005  \n",
       "7070                               Comedy|Western  3.134615  1986  \n",
       "7071                               Comedy|Musical  1.000000  1931  \n",
       "\n",
       "[7072 rows x 4 columns]"
      ],
      "text/html": "<div>\n<style scoped>\n    .dataframe tbody tr th:only-of-type {\n        vertical-align: middle;\n    }\n\n    .dataframe tbody tr th {\n        vertical-align: top;\n    }\n\n    .dataframe thead th {\n        text-align: right;\n    }\n</style>\n<table border=\"1\" class=\"dataframe\">\n  <thead>\n    <tr style=\"text-align: right;\">\n      <th></th>\n      <th>title</th>\n      <th>genres</th>\n      <th>rating</th>\n      <th>year</th>\n    </tr>\n  </thead>\n  <tbody>\n    <tr>\n      <th>0</th>\n      <td>'Hellboy': The Seeds of Creation</td>\n      <td>Action|Adventure|Comedy|Documentary|Fantasy</td>\n      <td>4.000000</td>\n      <td>2004</td>\n    </tr>\n    <tr>\n      <th>1</th>\n      <td>'Round Midnight</td>\n      <td>Drama|Musical</td>\n      <td>3.500000</td>\n      <td>1986</td>\n    </tr>\n    <tr>\n      <th>2</th>\n      <td>'Salem's Lot</td>\n      <td>Drama|Horror|Mystery|Thriller</td>\n      <td>5.000000</td>\n      <td>2004</td>\n    </tr>\n    <tr>\n      <th>3</th>\n      <td>'Til There Was You</td>\n      <td>Drama|Romance</td>\n      <td>4.000000</td>\n      <td>1997</td>\n    </tr>\n    <tr>\n      <th>4</th>\n      <td>'burbs, The</td>\n      <td>Comedy</td>\n      <td>3.176471</td>\n      <td>1989</td>\n    </tr>\n    <tr>\n      <th>...</th>\n      <td>...</td>\n      <td>...</td>\n      <td>...</td>\n      <td>...</td>\n    </tr>\n    <tr>\n      <th>7067</th>\n      <td>eXistenZ</td>\n      <td>Action|Sci-Fi|Thriller</td>\n      <td>3.863636</td>\n      <td>1999</td>\n    </tr>\n    <tr>\n      <th>7068</th>\n      <td>xXx</td>\n      <td>Action|Crime|Thriller</td>\n      <td>2.770833</td>\n      <td>2002</td>\n    </tr>\n    <tr>\n      <th>7069</th>\n      <td>xXx: State of the Union</td>\n      <td>Action|Crime|Thriller</td>\n      <td>2.000000</td>\n      <td>2005</td>\n    </tr>\n    <tr>\n      <th>7070</th>\n      <td>¡Three Amigos!</td>\n      <td>Comedy|Western</td>\n      <td>3.134615</td>\n      <td>1986</td>\n    </tr>\n    <tr>\n      <th>7071</th>\n      <td>À nous la liberté (Freedom for Us)</td>\n      <td>Comedy|Musical</td>\n      <td>1.000000</td>\n      <td>1931</td>\n    </tr>\n  </tbody>\n</table>\n<p>7072 rows × 4 columns</p>\n</div>"
     },
     "metadata": {},
     "execution_count": 22
    }
   ],
   "source": [
    "data"
   ]
  },
  {
   "cell_type": "code",
   "execution_count": 23,
   "metadata": {},
   "outputs": [
    {
     "output_type": "execute_result",
     "data": {
      "text/plain": [
       "                    'Hellboy': The Seeds of Creation  'Round Midnight  \\\n",
       "(no genres listed)                                 0                0   \n",
       "Action                                             1                0   \n",
       "\n",
       "                    'Salem's Lot  'Til There Was You  'burbs, The  \\\n",
       "(no genres listed)             0                   0            0   \n",
       "Action                         0                   0            0   \n",
       "\n",
       "                    'night Mother  (500) Days of Summer  \\\n",
       "(no genres listed)              0                     0   \n",
       "Action                          0                     0   \n",
       "\n",
       "                    *batteries not included  ...And Justice for All  \\\n",
       "(no genres listed)                        0                       0   \n",
       "Action                                    0                       0   \n",
       "\n",
       "                    1-900 (06)  ...  Zoom  Zootopia  Zulu  Zulu  [REC]  \\\n",
       "(no genres listed)           0  ...     0         0     0     0      0   \n",
       "Action                       0  ...     0         1     1     0      0   \n",
       "\n",
       "                    eXistenZ  xXx  xXx: State of the Union  ¡Three Amigos!  \\\n",
       "(no genres listed)         0    0                        0               0   \n",
       "Action                     1    1                        1               0   \n",
       "\n",
       "                    À nous la liberté (Freedom for Us)  \n",
       "(no genres listed)                                   0  \n",
       "Action                                               0  \n",
       "\n",
       "[2 rows x 7072 columns]"
      ],
      "text/html": "<div>\n<style scoped>\n    .dataframe tbody tr th:only-of-type {\n        vertical-align: middle;\n    }\n\n    .dataframe tbody tr th {\n        vertical-align: top;\n    }\n\n    .dataframe thead th {\n        text-align: right;\n    }\n</style>\n<table border=\"1\" class=\"dataframe\">\n  <thead>\n    <tr style=\"text-align: right;\">\n      <th></th>\n      <th>'Hellboy': The Seeds of Creation</th>\n      <th>'Round Midnight</th>\n      <th>'Salem's Lot</th>\n      <th>'Til There Was You</th>\n      <th>'burbs, The</th>\n      <th>'night Mother</th>\n      <th>(500) Days of Summer</th>\n      <th>*batteries not included</th>\n      <th>...And Justice for All</th>\n      <th>1-900 (06)</th>\n      <th>...</th>\n      <th>Zoom</th>\n      <th>Zootopia</th>\n      <th>Zulu</th>\n      <th>Zulu</th>\n      <th>[REC]</th>\n      <th>eXistenZ</th>\n      <th>xXx</th>\n      <th>xXx: State of the Union</th>\n      <th>¡Three Amigos!</th>\n      <th>À nous la liberté (Freedom for Us)</th>\n    </tr>\n  </thead>\n  <tbody>\n    <tr>\n      <th>(no genres listed)</th>\n      <td>0</td>\n      <td>0</td>\n      <td>0</td>\n      <td>0</td>\n      <td>0</td>\n      <td>0</td>\n      <td>0</td>\n      <td>0</td>\n      <td>0</td>\n      <td>0</td>\n      <td>...</td>\n      <td>0</td>\n      <td>0</td>\n      <td>0</td>\n      <td>0</td>\n      <td>0</td>\n      <td>0</td>\n      <td>0</td>\n      <td>0</td>\n      <td>0</td>\n      <td>0</td>\n    </tr>\n    <tr>\n      <th>Action</th>\n      <td>1</td>\n      <td>0</td>\n      <td>0</td>\n      <td>0</td>\n      <td>0</td>\n      <td>0</td>\n      <td>0</td>\n      <td>0</td>\n      <td>0</td>\n      <td>0</td>\n      <td>...</td>\n      <td>0</td>\n      <td>1</td>\n      <td>1</td>\n      <td>0</td>\n      <td>0</td>\n      <td>1</td>\n      <td>1</td>\n      <td>1</td>\n      <td>0</td>\n      <td>0</td>\n    </tr>\n  </tbody>\n</table>\n<p>2 rows × 7072 columns</p>\n</div>"
     },
     "metadata": {},
     "execution_count": 23
    }
   ],
   "source": [
    "# lets Transpose the Dataset\n",
    "genres = genres.transpose()\n",
    "genres = genres.rename(columns = genres.iloc[0])\n",
    "genres = genres.drop(genres.index[0])\n",
    "genres = genres.astype(int)\n",
    "\n",
    "# lets check the head of genres\n",
    "genres.head(2)"
   ]
  },
  {
   "cell_type": "code",
   "execution_count": 24,
   "metadata": {
    "scrolled": true
   },
   "outputs": [
    {
     "output_type": "display_data",
     "data": {
      "text/plain": "interactive(children=(Dropdown(description='movie', options=(\"'Hellboy': The Seeds of Creation\", \"'Round Midni…",
      "application/vnd.jupyter.widget-view+json": {
       "version_major": 2,
       "version_minor": 0,
       "model_id": "bee9e5c06864470b92955f85edff353c"
      }
     },
     "metadata": {}
    }
   ],
   "source": [
    "# making a recommendation engine for getting similar movies\n",
    "\n",
    "@interact\n",
    "def recommendation_movie(movie = list(genres.columns)):    \n",
    "    similar_movies = genres.corrwith(genres[movie])\n",
    "    similar_movies = similar_movies.sort_values(ascending=False)\n",
    "    similar_movies = similar_movies.iloc[1:]\n",
    "    return similar_movies.head(20)"
   ]
  },
  {
   "cell_type": "code",
   "execution_count": 46,
   "metadata": {},
   "outputs": [
    {
     "output_type": "execute_result",
     "data": {
      "text/plain": [
       "Index([''Hellboy': The Seeds of Creation', ''Round Midnight', ''Salem's Lot',\n",
       "       ''Til There Was You', ''burbs, The', ''night Mother',\n",
       "       '(500) Days of Summer', '*batteries not included',\n",
       "       '...And Justice for All', '1-900 (06)',\n",
       "       ...\n",
       "       'Zoom', 'Zootopia', 'Zulu', 'Zulu', '[REC]', 'eXistenZ', 'xXx',\n",
       "       'xXx: State of the Union', '¡Three Amigos!',\n",
       "       'À nous la liberté (Freedom for Us)'],\n",
       "      dtype='object', length=7072)"
      ]
     },
     "metadata": {},
     "execution_count": 46
    }
   ],
   "source": [
    "genres.columns"
   ]
  },
  {
   "cell_type": "code",
   "execution_count": null,
   "metadata": {},
   "outputs": [],
   "source": []
  },
  {
   "cell_type": "code",
   "execution_count": null,
   "metadata": {},
   "outputs": [],
   "source": []
  },
  {
   "cell_type": "code",
   "execution_count": null,
   "metadata": {},
   "outputs": [],
   "source": []
  },
  {
   "cell_type": "code",
   "execution_count": null,
   "metadata": {},
   "outputs": [],
   "source": []
  }
 ],
 "metadata": {
  "kernelspec": {
   "name": "python3",
   "display_name": "Python 3.8.5 64-bit ('base': conda)"
  },
  "language_info": {
   "codemirror_mode": {
    "name": "ipython",
    "version": 3
   },
   "file_extension": ".py",
   "mimetype": "text/x-python",
   "name": "python",
   "nbconvert_exporter": "python",
   "pygments_lexer": "ipython3",
   "version": "3.8.5"
  },
  "interpreter": {
   "hash": "73e03da126b73bfff3642ec5261d56fa25c444ea595de51041687efaa60dda41"
  }
 },
 "nbformat": 4,
 "nbformat_minor": 4
}