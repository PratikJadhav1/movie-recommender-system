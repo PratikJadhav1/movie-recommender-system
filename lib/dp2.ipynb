{
 "metadata": {
  "language_info": {
   "codemirror_mode": {
    "name": "ipython",
    "version": 3
   },
   "file_extension": ".py",
   "mimetype": "text/x-python",
   "name": "python",
   "nbconvert_exporter": "python",
   "pygments_lexer": "ipython3",
   "version": "3.8.5"
  },
  "orig_nbformat": 4,
  "kernelspec": {
   "name": "python3",
   "display_name": "Python 3.8.5 64-bit ('torch': conda)"
  },
  "interpreter": {
   "hash": "0c0995c6b1f0c6aff0a6ec92f472ee82e92038222c855613d81708e1126a8f7a"
  }
 },
 "nbformat": 4,
 "nbformat_minor": 2,
 "cells": [
  {
   "cell_type": "code",
   "execution_count": 94,
   "metadata": {},
   "outputs": [],
   "source": [
    "import numpy as np\n",
    "import pandas as pd \n",
    "import datetime\n",
    "import seaborn as sn \n",
    "import matplotlib.pyplot as plt \n",
    "from ipywidgets import interact"
   ]
  },
  {
   "cell_type": "code",
   "execution_count": 95,
   "metadata": {},
   "outputs": [
    {
     "output_type": "execute_result",
     "data": {
      "text/plain": [
       "          Movie Name  Genere Language                      Actor  \\\n",
       "0              Radhe  Action    Hindi                Salman khan   \n",
       "1             Flight  Action    Hindi               Mohit Chadda   \n",
       "2         Mumbi Saga  Action    Hindi  John Abraham,Imran Hashmi   \n",
       "3   Vijay The Master  Action    Hindi     Vijay,Vijay Sethupathi   \n",
       "4  Chakra Ka Rakshak  Action    Hindi                     Vishal   \n",
       "\n",
       "            Actress  Rating Comments  \n",
       "0      Disha Patani     4.0     good  \n",
       "1               NaN     3.0     good  \n",
       "2               NaN     5.0     good  \n",
       "3          Malavika     4.0   better  \n",
       "4  Regina Casaandra     4.0   better  "
      ],
      "text/html": "<div>\n<style scoped>\n    .dataframe tbody tr th:only-of-type {\n        vertical-align: middle;\n    }\n\n    .dataframe tbody tr th {\n        vertical-align: top;\n    }\n\n    .dataframe thead th {\n        text-align: right;\n    }\n</style>\n<table border=\"1\" class=\"dataframe\">\n  <thead>\n    <tr style=\"text-align: right;\">\n      <th></th>\n      <th>Movie Name</th>\n      <th>Genere</th>\n      <th>Language</th>\n      <th>Actor</th>\n      <th>Actress</th>\n      <th>Rating</th>\n      <th>Comments</th>\n    </tr>\n  </thead>\n  <tbody>\n    <tr>\n      <th>0</th>\n      <td>Radhe</td>\n      <td>Action</td>\n      <td>Hindi</td>\n      <td>Salman khan</td>\n      <td>Disha Patani</td>\n      <td>4.0</td>\n      <td>good</td>\n    </tr>\n    <tr>\n      <th>1</th>\n      <td>Flight</td>\n      <td>Action</td>\n      <td>Hindi</td>\n      <td>Mohit Chadda</td>\n      <td>NaN</td>\n      <td>3.0</td>\n      <td>good</td>\n    </tr>\n    <tr>\n      <th>2</th>\n      <td>Mumbi Saga</td>\n      <td>Action</td>\n      <td>Hindi</td>\n      <td>John Abraham,Imran Hashmi</td>\n      <td>NaN</td>\n      <td>5.0</td>\n      <td>good</td>\n    </tr>\n    <tr>\n      <th>3</th>\n      <td>Vijay The Master</td>\n      <td>Action</td>\n      <td>Hindi</td>\n      <td>Vijay,Vijay Sethupathi</td>\n      <td>Malavika</td>\n      <td>4.0</td>\n      <td>better</td>\n    </tr>\n    <tr>\n      <th>4</th>\n      <td>Chakra Ka Rakshak</td>\n      <td>Action</td>\n      <td>Hindi</td>\n      <td>Vishal</td>\n      <td>Regina Casaandra</td>\n      <td>4.0</td>\n      <td>better</td>\n    </tr>\n  </tbody>\n</table>\n</div>"
     },
     "metadata": {},
     "execution_count": 95
    }
   ],
   "source": [
    "data = pd.read_csv(\"../data/uml/Movie csv.csv\")\n",
    "data.head()\n"
   ]
  },
  {
   "cell_type": "code",
   "execution_count": 96,
   "metadata": {},
   "outputs": [],
   "source": [
    "data[\"Genere\"] = data[\"Genere\"].replace((\" Action\", \"Actiom\", \"Action \", \"Actoin \", \"Darama\", \"Drama \", \"horoor\", \"Drama,Actiom\", \"Story,Darama\", \"Comedy,horoor\"), (\"Action\", \"Action\", \"Action\", \"Action\", \"Drama\", \"Drama\", \"Horoor\", \"Drama,Action\", \"Story,Drama\", \"Comedy,Horoor\"))"
   ]
  },
  {
   "cell_type": "code",
   "execution_count": 97,
   "metadata": {},
   "outputs": [
    {
     "output_type": "execute_result",
     "data": {
      "text/plain": [
       "(125, 7)"
      ]
     },
     "metadata": {},
     "execution_count": 97
    }
   ],
   "source": [
    "data.shape"
   ]
  },
  {
   "cell_type": "code",
   "execution_count": 98,
   "metadata": {},
   "outputs": [
    {
     "output_type": "execute_result",
     "data": {
      "text/plain": [
       "Index(['Movie Name', 'Genere', 'Language', 'Actor', 'Actress', 'Rating',\n",
       "       'Comments'],\n",
       "      dtype='object')"
      ]
     },
     "metadata": {},
     "execution_count": 98
    }
   ],
   "source": [
    "data.columns"
   ]
  },
  {
   "cell_type": "code",
   "execution_count": 99,
   "metadata": {},
   "outputs": [],
   "source": [
    "data = data.drop(['Language', 'Actor', 'Actress', 'Comments'], axis=1)"
   ]
  },
  {
   "cell_type": "code",
   "execution_count": 100,
   "metadata": {},
   "outputs": [
    {
     "output_type": "execute_result",
     "data": {
      "text/plain": [
       "          Movie Name  Genere  Rating\n",
       "0              Radhe  Action     4.0\n",
       "1             Flight  Action     3.0\n",
       "2         Mumbi Saga  Action     5.0\n",
       "3   Vijay The Master  Action     4.0\n",
       "4  Chakra Ka Rakshak  Action     4.0"
      ],
      "text/html": "<div>\n<style scoped>\n    .dataframe tbody tr th:only-of-type {\n        vertical-align: middle;\n    }\n\n    .dataframe tbody tr th {\n        vertical-align: top;\n    }\n\n    .dataframe thead th {\n        text-align: right;\n    }\n</style>\n<table border=\"1\" class=\"dataframe\">\n  <thead>\n    <tr style=\"text-align: right;\">\n      <th></th>\n      <th>Movie Name</th>\n      <th>Genere</th>\n      <th>Rating</th>\n    </tr>\n  </thead>\n  <tbody>\n    <tr>\n      <th>0</th>\n      <td>Radhe</td>\n      <td>Action</td>\n      <td>4.0</td>\n    </tr>\n    <tr>\n      <th>1</th>\n      <td>Flight</td>\n      <td>Action</td>\n      <td>3.0</td>\n    </tr>\n    <tr>\n      <th>2</th>\n      <td>Mumbi Saga</td>\n      <td>Action</td>\n      <td>5.0</td>\n    </tr>\n    <tr>\n      <th>3</th>\n      <td>Vijay The Master</td>\n      <td>Action</td>\n      <td>4.0</td>\n    </tr>\n    <tr>\n      <th>4</th>\n      <td>Chakra Ka Rakshak</td>\n      <td>Action</td>\n      <td>4.0</td>\n    </tr>\n  </tbody>\n</table>\n</div>"
     },
     "metadata": {},
     "execution_count": 100
    }
   ],
   "source": [
    "data.head()"
   ]
  },
  {
   "cell_type": "code",
   "execution_count": 101,
   "metadata": {},
   "outputs": [
    {
     "output_type": "execute_result",
     "data": {
      "text/plain": [
       "<pandas.io.formats.style.Styler at 0x10726566970>"
      ],
      "text/html": "<style  type=\"text/css\" >\n#T_b9ca7_row0_col1,#T_b9ca7_row1_col1,#T_b9ca7_row2_col1,#T_b9ca7_row3_col1{\n            background-color:  #fc7f00;\n            color:  #000000;\n        }#T_b9ca7_row4_col1,#T_b9ca7_row5_col1,#T_b9ca7_row6_col1,#T_b9ca7_row7_col1,#T_b9ca7_row8_col1,#T_b9ca7_row9_col1{\n            background-color:  #e4ff7a;\n            color:  #000000;\n        }</style><table id=\"T_b9ca7_\" ><thead>    <tr>        <th class=\"blank level0\" ></th>        <th class=\"col_heading level0 col0\" >Movie Name</th>        <th class=\"col_heading level0 col1\" >Rating</th>    </tr></thead><tbody>\n                <tr>\n                        <th id=\"T_b9ca7_level0_row0\" class=\"row_heading level0 row0\" >0</th>\n                        <td id=\"T_b9ca7_row0_col0\" class=\"data row0 col0\" >Mumbi Saga</td>\n                        <td id=\"T_b9ca7_row0_col1\" class=\"data row0 col1\" >5.000000</td>\n            </tr>\n            <tr>\n                        <th id=\"T_b9ca7_level0_row1\" class=\"row_heading level0 row1\" >1</th>\n                        <td id=\"T_b9ca7_row1_col0\" class=\"data row1 col0\" >The Power </td>\n                        <td id=\"T_b9ca7_row1_col1\" class=\"data row1 col1\" >5.000000</td>\n            </tr>\n            <tr>\n                        <th id=\"T_b9ca7_level0_row2\" class=\"row_heading level0 row2\" >2</th>\n                        <td id=\"T_b9ca7_row2_col0\" class=\"data row2 col0\" >Marjaavaan</td>\n                        <td id=\"T_b9ca7_row2_col1\" class=\"data row2 col1\" >5.000000</td>\n            </tr>\n            <tr>\n                        <th id=\"T_b9ca7_level0_row3\" class=\"row_heading level0 row3\" >3</th>\n                        <td id=\"T_b9ca7_row3_col0\" class=\"data row3 col0\" > Satyamev Jayte</td>\n                        <td id=\"T_b9ca7_row3_col1\" class=\"data row3 col1\" >5.000000</td>\n            </tr>\n            <tr>\n                        <th id=\"T_b9ca7_level0_row4\" class=\"row_heading level0 row4\" >4</th>\n                        <td id=\"T_b9ca7_row4_col0\" class=\"data row4 col0\" >Radhe</td>\n                        <td id=\"T_b9ca7_row4_col1\" class=\"data row4 col1\" >4.000000</td>\n            </tr>\n            <tr>\n                        <th id=\"T_b9ca7_level0_row5\" class=\"row_heading level0 row5\" >5</th>\n                        <td id=\"T_b9ca7_row5_col0\" class=\"data row5 col0\" >Raid</td>\n                        <td id=\"T_b9ca7_row5_col1\" class=\"data row5 col1\" >4.000000</td>\n            </tr>\n            <tr>\n                        <th id=\"T_b9ca7_level0_row6\" class=\"row_heading level0 row6\" >6</th>\n                        <td id=\"T_b9ca7_row6_col0\" class=\"data row6 col0\" >Bajrangi Baijaan</td>\n                        <td id=\"T_b9ca7_row6_col1\" class=\"data row6 col1\" >4.000000</td>\n            </tr>\n            <tr>\n                        <th id=\"T_b9ca7_level0_row7\" class=\"row_heading level0 row7\" >7</th>\n                        <td id=\"T_b9ca7_row7_col0\" class=\"data row7 col0\" >Coolie No1</td>\n                        <td id=\"T_b9ca7_row7_col1\" class=\"data row7 col1\" >4.000000</td>\n            </tr>\n            <tr>\n                        <th id=\"T_b9ca7_level0_row8\" class=\"row_heading level0 row8\" >8</th>\n                        <td id=\"T_b9ca7_row8_col0\" class=\"data row8 col0\" >Singham Returns</td>\n                        <td id=\"T_b9ca7_row8_col1\" class=\"data row8 col1\" >4.000000</td>\n            </tr>\n            <tr>\n                        <th id=\"T_b9ca7_level0_row9\" class=\"row_heading level0 row9\" >9</th>\n                        <td id=\"T_b9ca7_row9_col0\" class=\"data row9 col0\" >Singham Return</td>\n                        <td id=\"T_b9ca7_row9_col1\" class=\"data row9 col1\" >4.000000</td>\n            </tr>\n    </tbody></table>"
     },
     "metadata": {},
     "execution_count": 101
    }
   ],
   "source": [
    "data[data[\"Genere\"]==\"Action\"][[\"Movie Name\", \"Rating\"]].sort_values(by = 'Rating',\n",
    "                ascending = False).head(10).reset_index(drop = True).style.background_gradient(cmap = 'Wistia')"
   ]
  },
  {
   "cell_type": "code",
   "execution_count": 102,
   "metadata": {},
   "outputs": [
    {
     "output_type": "execute_result",
     "data": {
      "text/plain": [
       "            Movie Name  Rating             Genere\n",
       "0                Radhe     4.0           [Action]\n",
       "1               Flight     3.0           [Action]\n",
       "2           Mumbi Saga     5.0           [Action]\n",
       "3     Vijay The Master     4.0           [Action]\n",
       "4    Chakra Ka Rakshak     4.0           [Action]\n",
       "..                 ...     ...                ...\n",
       "120               Veer     4.0  [Action, History]\n",
       "121         Veer Zaara     4.0            [Drama]\n",
       "122     Mission Mangal     5.0   [Drama, Science]\n",
       "123    Half GirlFriend     4.0   [Drama, Romance]\n",
       "124       Jagga jasoos     4.0            [Drama]\n",
       "\n",
       "[125 rows x 3 columns]"
      ],
      "text/html": "<div>\n<style scoped>\n    .dataframe tbody tr th:only-of-type {\n        vertical-align: middle;\n    }\n\n    .dataframe tbody tr th {\n        vertical-align: top;\n    }\n\n    .dataframe thead th {\n        text-align: right;\n    }\n</style>\n<table border=\"1\" class=\"dataframe\">\n  <thead>\n    <tr style=\"text-align: right;\">\n      <th></th>\n      <th>Movie Name</th>\n      <th>Rating</th>\n      <th>Genere</th>\n    </tr>\n  </thead>\n  <tbody>\n    <tr>\n      <th>0</th>\n      <td>Radhe</td>\n      <td>4.0</td>\n      <td>[Action]</td>\n    </tr>\n    <tr>\n      <th>1</th>\n      <td>Flight</td>\n      <td>3.0</td>\n      <td>[Action]</td>\n    </tr>\n    <tr>\n      <th>2</th>\n      <td>Mumbi Saga</td>\n      <td>5.0</td>\n      <td>[Action]</td>\n    </tr>\n    <tr>\n      <th>3</th>\n      <td>Vijay The Master</td>\n      <td>4.0</td>\n      <td>[Action]</td>\n    </tr>\n    <tr>\n      <th>4</th>\n      <td>Chakra Ka Rakshak</td>\n      <td>4.0</td>\n      <td>[Action]</td>\n    </tr>\n    <tr>\n      <th>...</th>\n      <td>...</td>\n      <td>...</td>\n      <td>...</td>\n    </tr>\n    <tr>\n      <th>120</th>\n      <td>Veer</td>\n      <td>4.0</td>\n      <td>[Action, History]</td>\n    </tr>\n    <tr>\n      <th>121</th>\n      <td>Veer Zaara</td>\n      <td>4.0</td>\n      <td>[Drama]</td>\n    </tr>\n    <tr>\n      <th>122</th>\n      <td>Mission Mangal</td>\n      <td>5.0</td>\n      <td>[Drama, Science]</td>\n    </tr>\n    <tr>\n      <th>123</th>\n      <td>Half GirlFriend</td>\n      <td>4.0</td>\n      <td>[Drama, Romance]</td>\n    </tr>\n    <tr>\n      <th>124</th>\n      <td>Jagga jasoos</td>\n      <td>4.0</td>\n      <td>[Drama]</td>\n    </tr>\n  </tbody>\n</table>\n<p>125 rows × 3 columns</p>\n</div>"
     },
     "metadata": {},
     "execution_count": 102
    }
   ],
   "source": [
    "x = data[\"Genere\"].str.split(\",\")\n",
    "d = data.drop([\"Genere\"], axis=1)\n",
    "pd.concat([d, x], axis=1)"
   ]
  },
  {
   "cell_type": "code",
   "execution_count": 103,
   "metadata": {},
   "outputs": [
    {
     "output_type": "execute_result",
     "data": {
      "text/plain": [
       "0       Action\n",
       "1       Action\n",
       "2       Action\n",
       "3       Action\n",
       "4       Action\n",
       "        ...   \n",
       "122      Drama\n",
       "122    Science\n",
       "123      Drama\n",
       "123    Romance\n",
       "124      Drama\n",
       "Name: Genere, Length: 163, dtype: object"
      ]
     },
     "metadata": {},
     "execution_count": 103
    }
   ],
   "source": [
    "x.explode()"
   ]
  },
  {
   "cell_type": "code",
   "execution_count": 104,
   "metadata": {},
   "outputs": [
    {
     "output_type": "execute_result",
     "data": {
      "text/plain": [
       "            Movie Name          Genere  Rating\n",
       "0                Radhe          Action     4.0\n",
       "1               Flight          Action     3.0\n",
       "2           Mumbi Saga          Action     5.0\n",
       "3     Vijay The Master          Action     4.0\n",
       "4    Chakra Ka Rakshak          Action     4.0\n",
       "..                 ...             ...     ...\n",
       "120               Veer  Action,History     4.0\n",
       "121         Veer Zaara           Drama     4.0\n",
       "122     Mission Mangal   Drama,Science     5.0\n",
       "123    Half GirlFriend   Drama,Romance     4.0\n",
       "124       Jagga jasoos           Drama     4.0\n",
       "\n",
       "[125 rows x 3 columns]"
      ],
      "text/html": "<div>\n<style scoped>\n    .dataframe tbody tr th:only-of-type {\n        vertical-align: middle;\n    }\n\n    .dataframe tbody tr th {\n        vertical-align: top;\n    }\n\n    .dataframe thead th {\n        text-align: right;\n    }\n</style>\n<table border=\"1\" class=\"dataframe\">\n  <thead>\n    <tr style=\"text-align: right;\">\n      <th></th>\n      <th>Movie Name</th>\n      <th>Genere</th>\n      <th>Rating</th>\n    </tr>\n  </thead>\n  <tbody>\n    <tr>\n      <th>0</th>\n      <td>Radhe</td>\n      <td>Action</td>\n      <td>4.0</td>\n    </tr>\n    <tr>\n      <th>1</th>\n      <td>Flight</td>\n      <td>Action</td>\n      <td>3.0</td>\n    </tr>\n    <tr>\n      <th>2</th>\n      <td>Mumbi Saga</td>\n      <td>Action</td>\n      <td>5.0</td>\n    </tr>\n    <tr>\n      <th>3</th>\n      <td>Vijay The Master</td>\n      <td>Action</td>\n      <td>4.0</td>\n    </tr>\n    <tr>\n      <th>4</th>\n      <td>Chakra Ka Rakshak</td>\n      <td>Action</td>\n      <td>4.0</td>\n    </tr>\n    <tr>\n      <th>...</th>\n      <td>...</td>\n      <td>...</td>\n      <td>...</td>\n    </tr>\n    <tr>\n      <th>120</th>\n      <td>Veer</td>\n      <td>Action,History</td>\n      <td>4.0</td>\n    </tr>\n    <tr>\n      <th>121</th>\n      <td>Veer Zaara</td>\n      <td>Drama</td>\n      <td>4.0</td>\n    </tr>\n    <tr>\n      <th>122</th>\n      <td>Mission Mangal</td>\n      <td>Drama,Science</td>\n      <td>5.0</td>\n    </tr>\n    <tr>\n      <th>123</th>\n      <td>Half GirlFriend</td>\n      <td>Drama,Romance</td>\n      <td>4.0</td>\n    </tr>\n    <tr>\n      <th>124</th>\n      <td>Jagga jasoos</td>\n      <td>Drama</td>\n      <td>4.0</td>\n    </tr>\n  </tbody>\n</table>\n<p>125 rows × 3 columns</p>\n</div>"
     },
     "metadata": {},
     "execution_count": 104
    }
   ],
   "source": [
    "data"
   ]
  },
  {
   "cell_type": "code",
   "execution_count": 105,
   "metadata": {},
   "outputs": [],
   "source": [
    "from mlxtend.preprocessing import TransactionEncoder"
   ]
  },
  {
   "cell_type": "code",
   "execution_count": 106,
   "metadata": {},
   "outputs": [
    {
     "output_type": "execute_result",
     "data": {
      "text/plain": [
       "   Action  Biopic  Comedy  Crime  Critics  Drama  History  Horoor  Motivation  \\\n",
       "0    True   False   False  False    False  False    False   False       False   \n",
       "1    True   False   False  False    False  False    False   False       False   \n",
       "2    True   False   False  False    False  False    False   False       False   \n",
       "3    True   False   False  False    False  False    False   False       False   \n",
       "4    True   False   False  False    False  False    False   False       False   \n",
       "\n",
       "   Romance  Science  Sports  Story  Thriler  comedy  \n",
       "0    False    False   False  False    False   False  \n",
       "1    False    False   False  False    False   False  \n",
       "2    False    False   False  False    False   False  \n",
       "3    False    False   False  False    False   False  \n",
       "4    False    False   False  False    False   False  "
      ],
      "text/html": "<div>\n<style scoped>\n    .dataframe tbody tr th:only-of-type {\n        vertical-align: middle;\n    }\n\n    .dataframe tbody tr th {\n        vertical-align: top;\n    }\n\n    .dataframe thead th {\n        text-align: right;\n    }\n</style>\n<table border=\"1\" class=\"dataframe\">\n  <thead>\n    <tr style=\"text-align: right;\">\n      <th></th>\n      <th>Action</th>\n      <th>Biopic</th>\n      <th>Comedy</th>\n      <th>Crime</th>\n      <th>Critics</th>\n      <th>Drama</th>\n      <th>History</th>\n      <th>Horoor</th>\n      <th>Motivation</th>\n      <th>Romance</th>\n      <th>Science</th>\n      <th>Sports</th>\n      <th>Story</th>\n      <th>Thriler</th>\n      <th>comedy</th>\n    </tr>\n  </thead>\n  <tbody>\n    <tr>\n      <th>0</th>\n      <td>True</td>\n      <td>False</td>\n      <td>False</td>\n      <td>False</td>\n      <td>False</td>\n      <td>False</td>\n      <td>False</td>\n      <td>False</td>\n      <td>False</td>\n      <td>False</td>\n      <td>False</td>\n      <td>False</td>\n      <td>False</td>\n      <td>False</td>\n      <td>False</td>\n    </tr>\n    <tr>\n      <th>1</th>\n      <td>True</td>\n      <td>False</td>\n      <td>False</td>\n      <td>False</td>\n      <td>False</td>\n      <td>False</td>\n      <td>False</td>\n      <td>False</td>\n      <td>False</td>\n      <td>False</td>\n      <td>False</td>\n      <td>False</td>\n      <td>False</td>\n      <td>False</td>\n      <td>False</td>\n    </tr>\n    <tr>\n      <th>2</th>\n      <td>True</td>\n      <td>False</td>\n      <td>False</td>\n      <td>False</td>\n      <td>False</td>\n      <td>False</td>\n      <td>False</td>\n      <td>False</td>\n      <td>False</td>\n      <td>False</td>\n      <td>False</td>\n      <td>False</td>\n      <td>False</td>\n      <td>False</td>\n      <td>False</td>\n    </tr>\n    <tr>\n      <th>3</th>\n      <td>True</td>\n      <td>False</td>\n      <td>False</td>\n      <td>False</td>\n      <td>False</td>\n      <td>False</td>\n      <td>False</td>\n      <td>False</td>\n      <td>False</td>\n      <td>False</td>\n      <td>False</td>\n      <td>False</td>\n      <td>False</td>\n      <td>False</td>\n      <td>False</td>\n    </tr>\n    <tr>\n      <th>4</th>\n      <td>True</td>\n      <td>False</td>\n      <td>False</td>\n      <td>False</td>\n      <td>False</td>\n      <td>False</td>\n      <td>False</td>\n      <td>False</td>\n      <td>False</td>\n      <td>False</td>\n      <td>False</td>\n      <td>False</td>\n      <td>False</td>\n      <td>False</td>\n      <td>False</td>\n    </tr>\n  </tbody>\n</table>\n</div>"
     },
     "metadata": {},
     "execution_count": 106
    }
   ],
   "source": [
    "genres = data[\"Genere\"].str.split(\",\")\n",
    "te = TransactionEncoder()\n",
    "genres = te.fit_transform(genres)\n",
    "genres = pd.DataFrame(genres, columns=te.columns_)\n",
    "genres.head()"
   ]
  },
  {
   "cell_type": "code",
   "execution_count": 107,
   "metadata": {},
   "outputs": [
    {
     "output_type": "execute_result",
     "data": {
      "text/plain": [
       "            Movie Name  Action  Biopic  Comedy  Crime  Critics  Drama  \\\n",
       "0                Radhe       1       0       0      0        0      0   \n",
       "1               Flight       1       0       0      0        0      0   \n",
       "2           Mumbi Saga       1       0       0      0        0      0   \n",
       "3     Vijay The Master       1       0       0      0        0      0   \n",
       "4    Chakra Ka Rakshak       1       0       0      0        0      0   \n",
       "..                 ...     ...     ...     ...    ...      ...    ...   \n",
       "120               Veer       1       0       0      0        0      0   \n",
       "121         Veer Zaara       0       0       0      0        0      1   \n",
       "122     Mission Mangal       0       0       0      0        0      1   \n",
       "123    Half GirlFriend       0       0       0      0        0      1   \n",
       "124       Jagga jasoos       0       0       0      0        0      1   \n",
       "\n",
       "     History  Horoor  Motivation  Romance  Science  Sports  Story  Thriler  \\\n",
       "0          0       0           0        0        0       0      0        0   \n",
       "1          0       0           0        0        0       0      0        0   \n",
       "2          0       0           0        0        0       0      0        0   \n",
       "3          0       0           0        0        0       0      0        0   \n",
       "4          0       0           0        0        0       0      0        0   \n",
       "..       ...     ...         ...      ...      ...     ...    ...      ...   \n",
       "120        1       0           0        0        0       0      0        0   \n",
       "121        0       0           0        0        0       0      0        0   \n",
       "122        0       0           0        0        1       0      0        0   \n",
       "123        0       0           0        1        0       0      0        0   \n",
       "124        0       0           0        0        0       0      0        0   \n",
       "\n",
       "     comedy  \n",
       "0         0  \n",
       "1         0  \n",
       "2         0  \n",
       "3         0  \n",
       "4         0  \n",
       "..      ...  \n",
       "120       0  \n",
       "121       0  \n",
       "122       0  \n",
       "123       0  \n",
       "124       0  \n",
       "\n",
       "[125 rows x 16 columns]"
      ],
      "text/html": "<div>\n<style scoped>\n    .dataframe tbody tr th:only-of-type {\n        vertical-align: middle;\n    }\n\n    .dataframe tbody tr th {\n        vertical-align: top;\n    }\n\n    .dataframe thead th {\n        text-align: right;\n    }\n</style>\n<table border=\"1\" class=\"dataframe\">\n  <thead>\n    <tr style=\"text-align: right;\">\n      <th></th>\n      <th>Movie Name</th>\n      <th>Action</th>\n      <th>Biopic</th>\n      <th>Comedy</th>\n      <th>Crime</th>\n      <th>Critics</th>\n      <th>Drama</th>\n      <th>History</th>\n      <th>Horoor</th>\n      <th>Motivation</th>\n      <th>Romance</th>\n      <th>Science</th>\n      <th>Sports</th>\n      <th>Story</th>\n      <th>Thriler</th>\n      <th>comedy</th>\n    </tr>\n  </thead>\n  <tbody>\n    <tr>\n      <th>0</th>\n      <td>Radhe</td>\n      <td>1</td>\n      <td>0</td>\n      <td>0</td>\n      <td>0</td>\n      <td>0</td>\n      <td>0</td>\n      <td>0</td>\n      <td>0</td>\n      <td>0</td>\n      <td>0</td>\n      <td>0</td>\n      <td>0</td>\n      <td>0</td>\n      <td>0</td>\n      <td>0</td>\n    </tr>\n    <tr>\n      <th>1</th>\n      <td>Flight</td>\n      <td>1</td>\n      <td>0</td>\n      <td>0</td>\n      <td>0</td>\n      <td>0</td>\n      <td>0</td>\n      <td>0</td>\n      <td>0</td>\n      <td>0</td>\n      <td>0</td>\n      <td>0</td>\n      <td>0</td>\n      <td>0</td>\n      <td>0</td>\n      <td>0</td>\n    </tr>\n    <tr>\n      <th>2</th>\n      <td>Mumbi Saga</td>\n      <td>1</td>\n      <td>0</td>\n      <td>0</td>\n      <td>0</td>\n      <td>0</td>\n      <td>0</td>\n      <td>0</td>\n      <td>0</td>\n      <td>0</td>\n      <td>0</td>\n      <td>0</td>\n      <td>0</td>\n      <td>0</td>\n      <td>0</td>\n      <td>0</td>\n    </tr>\n    <tr>\n      <th>3</th>\n      <td>Vijay The Master</td>\n      <td>1</td>\n      <td>0</td>\n      <td>0</td>\n      <td>0</td>\n      <td>0</td>\n      <td>0</td>\n      <td>0</td>\n      <td>0</td>\n      <td>0</td>\n      <td>0</td>\n      <td>0</td>\n      <td>0</td>\n      <td>0</td>\n      <td>0</td>\n      <td>0</td>\n    </tr>\n    <tr>\n      <th>4</th>\n      <td>Chakra Ka Rakshak</td>\n      <td>1</td>\n      <td>0</td>\n      <td>0</td>\n      <td>0</td>\n      <td>0</td>\n      <td>0</td>\n      <td>0</td>\n      <td>0</td>\n      <td>0</td>\n      <td>0</td>\n      <td>0</td>\n      <td>0</td>\n      <td>0</td>\n      <td>0</td>\n      <td>0</td>\n    </tr>\n    <tr>\n      <th>...</th>\n      <td>...</td>\n      <td>...</td>\n      <td>...</td>\n      <td>...</td>\n      <td>...</td>\n      <td>...</td>\n      <td>...</td>\n      <td>...</td>\n      <td>...</td>\n      <td>...</td>\n      <td>...</td>\n      <td>...</td>\n      <td>...</td>\n      <td>...</td>\n      <td>...</td>\n      <td>...</td>\n    </tr>\n    <tr>\n      <th>120</th>\n      <td>Veer</td>\n      <td>1</td>\n      <td>0</td>\n      <td>0</td>\n      <td>0</td>\n      <td>0</td>\n      <td>0</td>\n      <td>1</td>\n      <td>0</td>\n      <td>0</td>\n      <td>0</td>\n      <td>0</td>\n      <td>0</td>\n      <td>0</td>\n      <td>0</td>\n      <td>0</td>\n    </tr>\n    <tr>\n      <th>121</th>\n      <td>Veer Zaara</td>\n      <td>0</td>\n      <td>0</td>\n      <td>0</td>\n      <td>0</td>\n      <td>0</td>\n      <td>1</td>\n      <td>0</td>\n      <td>0</td>\n      <td>0</td>\n      <td>0</td>\n      <td>0</td>\n      <td>0</td>\n      <td>0</td>\n      <td>0</td>\n      <td>0</td>\n    </tr>\n    <tr>\n      <th>122</th>\n      <td>Mission Mangal</td>\n      <td>0</td>\n      <td>0</td>\n      <td>0</td>\n      <td>0</td>\n      <td>0</td>\n      <td>1</td>\n      <td>0</td>\n      <td>0</td>\n      <td>0</td>\n      <td>0</td>\n      <td>1</td>\n      <td>0</td>\n      <td>0</td>\n      <td>0</td>\n      <td>0</td>\n    </tr>\n    <tr>\n      <th>123</th>\n      <td>Half GirlFriend</td>\n      <td>0</td>\n      <td>0</td>\n      <td>0</td>\n      <td>0</td>\n      <td>0</td>\n      <td>1</td>\n      <td>0</td>\n      <td>0</td>\n      <td>0</td>\n      <td>1</td>\n      <td>0</td>\n      <td>0</td>\n      <td>0</td>\n      <td>0</td>\n      <td>0</td>\n    </tr>\n    <tr>\n      <th>124</th>\n      <td>Jagga jasoos</td>\n      <td>0</td>\n      <td>0</td>\n      <td>0</td>\n      <td>0</td>\n      <td>0</td>\n      <td>1</td>\n      <td>0</td>\n      <td>0</td>\n      <td>0</td>\n      <td>0</td>\n      <td>0</td>\n      <td>0</td>\n      <td>0</td>\n      <td>0</td>\n      <td>0</td>\n    </tr>\n  </tbody>\n</table>\n<p>125 rows × 16 columns</p>\n</div>"
     },
     "metadata": {},
     "execution_count": 107
    }
   ],
   "source": [
    "genres = genres.astype(\"int\")\n",
    "genres.insert(0, \"Movie Name\", data[\"Movie Name\"])\n",
    "genres"
   ]
  },
  {
   "cell_type": "code",
   "execution_count": 108,
   "metadata": {},
   "outputs": [
    {
     "output_type": "execute_result",
     "data": {
      "text/plain": [
       "            Radhe  Flight  Mumbi Saga  Vijay The Master  Chakra Ka Rakshak  \\\n",
       "Action          1       1           1                 1                  1   \n",
       "Biopic          0       0           0                 0                  0   \n",
       "Comedy          0       0           0                 0                  0   \n",
       "Crime           0       0           0                 0                  0   \n",
       "Critics         0       0           0                 0                  0   \n",
       "Drama           0       0           0                 0                  0   \n",
       "History         0       0           0                 0                  0   \n",
       "Horoor          0       0           0                 0                  0   \n",
       "Motivation      0       0           0                 0                  0   \n",
       "Romance         0       0           0                 0                  0   \n",
       "Science         0       0           0                 0                  0   \n",
       "Sports          0       0           0                 0                  0   \n",
       "Story           0       0           0                 0                  0   \n",
       "Thriler         0       0           0                 0                  0   \n",
       "comedy          0       0           0                 0                  0   \n",
       "\n",
       "            The Power   Khuda Hafiz  Bagi 3  Malang  Dabang 3  ...  Toofaan  \\\n",
       "Action               1            1       1       1         1  ...        0   \n",
       "Biopic               0            0       0       0         0  ...        0   \n",
       "Comedy               0            0       0       0         0  ...        0   \n",
       "Crime                0            0       0       0         0  ...        0   \n",
       "Critics              0            0       0       0         0  ...        0   \n",
       "Drama                0            0       0       0         0  ...        0   \n",
       "History              0            0       0       0         0  ...        0   \n",
       "Horoor               0            0       0       0         0  ...        0   \n",
       "Motivation           0            0       0       0         0  ...        0   \n",
       "Romance              0            0       0       0         0  ...        0   \n",
       "Science              0            0       0       0         0  ...        0   \n",
       "Sports               0            0       0       0         0  ...        1   \n",
       "Story                0            0       0       0         0  ...        0   \n",
       "Thriler              0            0       0       0         0  ...        0   \n",
       "comedy               0            0       0       0         0  ...        0   \n",
       "\n",
       "            Jersey  Maidaan  Raone  Ghajni  Veer  Veer Zaara  Mission Mangal  \\\n",
       "Action           0        0      1       1     1           0               0   \n",
       "Biopic           0        0      0       0     0           0               0   \n",
       "Comedy           0        0      0       0     0           0               0   \n",
       "Crime            0        0      0       0     0           0               0   \n",
       "Critics          0        0      0       0     0           0               0   \n",
       "Drama            0        0      1       1     0           1               1   \n",
       "History          0        0      0       0     1           0               0   \n",
       "Horoor           0        0      0       0     0           0               0   \n",
       "Motivation       0        0      0       0     0           0               0   \n",
       "Romance          0        0      0       0     0           0               0   \n",
       "Science          0        0      0       0     0           0               1   \n",
       "Sports           1        1      0       0     0           0               0   \n",
       "Story            0        0      0       0     0           0               0   \n",
       "Thriler          0        0      0       0     0           0               0   \n",
       "comedy           0        0      0       0     0           0               0   \n",
       "\n",
       "            Half GirlFriend  Jagga jasoos  \n",
       "Action                    0             0  \n",
       "Biopic                    0             0  \n",
       "Comedy                    0             0  \n",
       "Crime                     0             0  \n",
       "Critics                   0             0  \n",
       "Drama                     1             1  \n",
       "History                   0             0  \n",
       "Horoor                    0             0  \n",
       "Motivation                0             0  \n",
       "Romance                   1             0  \n",
       "Science                   0             0  \n",
       "Sports                    0             0  \n",
       "Story                     0             0  \n",
       "Thriler                   0             0  \n",
       "comedy                    0             0  \n",
       "\n",
       "[15 rows x 125 columns]"
      ],
      "text/html": "<div>\n<style scoped>\n    .dataframe tbody tr th:only-of-type {\n        vertical-align: middle;\n    }\n\n    .dataframe tbody tr th {\n        vertical-align: top;\n    }\n\n    .dataframe thead th {\n        text-align: right;\n    }\n</style>\n<table border=\"1\" class=\"dataframe\">\n  <thead>\n    <tr style=\"text-align: right;\">\n      <th></th>\n      <th>Radhe</th>\n      <th>Flight</th>\n      <th>Mumbi Saga</th>\n      <th>Vijay The Master</th>\n      <th>Chakra Ka Rakshak</th>\n      <th>The Power</th>\n      <th>Khuda Hafiz</th>\n      <th>Bagi 3</th>\n      <th>Malang</th>\n      <th>Dabang 3</th>\n      <th>...</th>\n      <th>Toofaan</th>\n      <th>Jersey</th>\n      <th>Maidaan</th>\n      <th>Raone</th>\n      <th>Ghajni</th>\n      <th>Veer</th>\n      <th>Veer Zaara</th>\n      <th>Mission Mangal</th>\n      <th>Half GirlFriend</th>\n      <th>Jagga jasoos</th>\n    </tr>\n  </thead>\n  <tbody>\n    <tr>\n      <th>Action</th>\n      <td>1</td>\n      <td>1</td>\n      <td>1</td>\n      <td>1</td>\n      <td>1</td>\n      <td>1</td>\n      <td>1</td>\n      <td>1</td>\n      <td>1</td>\n      <td>1</td>\n      <td>...</td>\n      <td>0</td>\n      <td>0</td>\n      <td>0</td>\n      <td>1</td>\n      <td>1</td>\n      <td>1</td>\n      <td>0</td>\n      <td>0</td>\n      <td>0</td>\n      <td>0</td>\n    </tr>\n    <tr>\n      <th>Biopic</th>\n      <td>0</td>\n      <td>0</td>\n      <td>0</td>\n      <td>0</td>\n      <td>0</td>\n      <td>0</td>\n      <td>0</td>\n      <td>0</td>\n      <td>0</td>\n      <td>0</td>\n      <td>...</td>\n      <td>0</td>\n      <td>0</td>\n      <td>0</td>\n      <td>0</td>\n      <td>0</td>\n      <td>0</td>\n      <td>0</td>\n      <td>0</td>\n      <td>0</td>\n      <td>0</td>\n    </tr>\n    <tr>\n      <th>Comedy</th>\n      <td>0</td>\n      <td>0</td>\n      <td>0</td>\n      <td>0</td>\n      <td>0</td>\n      <td>0</td>\n      <td>0</td>\n      <td>0</td>\n      <td>0</td>\n      <td>0</td>\n      <td>...</td>\n      <td>0</td>\n      <td>0</td>\n      <td>0</td>\n      <td>0</td>\n      <td>0</td>\n      <td>0</td>\n      <td>0</td>\n      <td>0</td>\n      <td>0</td>\n      <td>0</td>\n    </tr>\n    <tr>\n      <th>Crime</th>\n      <td>0</td>\n      <td>0</td>\n      <td>0</td>\n      <td>0</td>\n      <td>0</td>\n      <td>0</td>\n      <td>0</td>\n      <td>0</td>\n      <td>0</td>\n      <td>0</td>\n      <td>...</td>\n      <td>0</td>\n      <td>0</td>\n      <td>0</td>\n      <td>0</td>\n      <td>0</td>\n      <td>0</td>\n      <td>0</td>\n      <td>0</td>\n      <td>0</td>\n      <td>0</td>\n    </tr>\n    <tr>\n      <th>Critics</th>\n      <td>0</td>\n      <td>0</td>\n      <td>0</td>\n      <td>0</td>\n      <td>0</td>\n      <td>0</td>\n      <td>0</td>\n      <td>0</td>\n      <td>0</td>\n      <td>0</td>\n      <td>...</td>\n      <td>0</td>\n      <td>0</td>\n      <td>0</td>\n      <td>0</td>\n      <td>0</td>\n      <td>0</td>\n      <td>0</td>\n      <td>0</td>\n      <td>0</td>\n      <td>0</td>\n    </tr>\n    <tr>\n      <th>Drama</th>\n      <td>0</td>\n      <td>0</td>\n      <td>0</td>\n      <td>0</td>\n      <td>0</td>\n      <td>0</td>\n      <td>0</td>\n      <td>0</td>\n      <td>0</td>\n      <td>0</td>\n      <td>...</td>\n      <td>0</td>\n      <td>0</td>\n      <td>0</td>\n      <td>1</td>\n      <td>1</td>\n      <td>0</td>\n      <td>1</td>\n      <td>1</td>\n      <td>1</td>\n      <td>1</td>\n    </tr>\n    <tr>\n      <th>History</th>\n      <td>0</td>\n      <td>0</td>\n      <td>0</td>\n      <td>0</td>\n      <td>0</td>\n      <td>0</td>\n      <td>0</td>\n      <td>0</td>\n      <td>0</td>\n      <td>0</td>\n      <td>...</td>\n      <td>0</td>\n      <td>0</td>\n      <td>0</td>\n      <td>0</td>\n      <td>0</td>\n      <td>1</td>\n      <td>0</td>\n      <td>0</td>\n      <td>0</td>\n      <td>0</td>\n    </tr>\n    <tr>\n      <th>Horoor</th>\n      <td>0</td>\n      <td>0</td>\n      <td>0</td>\n      <td>0</td>\n      <td>0</td>\n      <td>0</td>\n      <td>0</td>\n      <td>0</td>\n      <td>0</td>\n      <td>0</td>\n      <td>...</td>\n      <td>0</td>\n      <td>0</td>\n      <td>0</td>\n      <td>0</td>\n      <td>0</td>\n      <td>0</td>\n      <td>0</td>\n      <td>0</td>\n      <td>0</td>\n      <td>0</td>\n    </tr>\n    <tr>\n      <th>Motivation</th>\n      <td>0</td>\n      <td>0</td>\n      <td>0</td>\n      <td>0</td>\n      <td>0</td>\n      <td>0</td>\n      <td>0</td>\n      <td>0</td>\n      <td>0</td>\n      <td>0</td>\n      <td>...</td>\n      <td>0</td>\n      <td>0</td>\n      <td>0</td>\n      <td>0</td>\n      <td>0</td>\n      <td>0</td>\n      <td>0</td>\n      <td>0</td>\n      <td>0</td>\n      <td>0</td>\n    </tr>\n    <tr>\n      <th>Romance</th>\n      <td>0</td>\n      <td>0</td>\n      <td>0</td>\n      <td>0</td>\n      <td>0</td>\n      <td>0</td>\n      <td>0</td>\n      <td>0</td>\n      <td>0</td>\n      <td>0</td>\n      <td>...</td>\n      <td>0</td>\n      <td>0</td>\n      <td>0</td>\n      <td>0</td>\n      <td>0</td>\n      <td>0</td>\n      <td>0</td>\n      <td>0</td>\n      <td>1</td>\n      <td>0</td>\n    </tr>\n    <tr>\n      <th>Science</th>\n      <td>0</td>\n      <td>0</td>\n      <td>0</td>\n      <td>0</td>\n      <td>0</td>\n      <td>0</td>\n      <td>0</td>\n      <td>0</td>\n      <td>0</td>\n      <td>0</td>\n      <td>...</td>\n      <td>0</td>\n      <td>0</td>\n      <td>0</td>\n      <td>0</td>\n      <td>0</td>\n      <td>0</td>\n      <td>0</td>\n      <td>1</td>\n      <td>0</td>\n      <td>0</td>\n    </tr>\n    <tr>\n      <th>Sports</th>\n      <td>0</td>\n      <td>0</td>\n      <td>0</td>\n      <td>0</td>\n      <td>0</td>\n      <td>0</td>\n      <td>0</td>\n      <td>0</td>\n      <td>0</td>\n      <td>0</td>\n      <td>...</td>\n      <td>1</td>\n      <td>1</td>\n      <td>1</td>\n      <td>0</td>\n      <td>0</td>\n      <td>0</td>\n      <td>0</td>\n      <td>0</td>\n      <td>0</td>\n      <td>0</td>\n    </tr>\n    <tr>\n      <th>Story</th>\n      <td>0</td>\n      <td>0</td>\n      <td>0</td>\n      <td>0</td>\n      <td>0</td>\n      <td>0</td>\n      <td>0</td>\n      <td>0</td>\n      <td>0</td>\n      <td>0</td>\n      <td>...</td>\n      <td>0</td>\n      <td>0</td>\n      <td>0</td>\n      <td>0</td>\n      <td>0</td>\n      <td>0</td>\n      <td>0</td>\n      <td>0</td>\n      <td>0</td>\n      <td>0</td>\n    </tr>\n    <tr>\n      <th>Thriler</th>\n      <td>0</td>\n      <td>0</td>\n      <td>0</td>\n      <td>0</td>\n      <td>0</td>\n      <td>0</td>\n      <td>0</td>\n      <td>0</td>\n      <td>0</td>\n      <td>0</td>\n      <td>...</td>\n      <td>0</td>\n      <td>0</td>\n      <td>0</td>\n      <td>0</td>\n      <td>0</td>\n      <td>0</td>\n      <td>0</td>\n      <td>0</td>\n      <td>0</td>\n      <td>0</td>\n    </tr>\n    <tr>\n      <th>comedy</th>\n      <td>0</td>\n      <td>0</td>\n      <td>0</td>\n      <td>0</td>\n      <td>0</td>\n      <td>0</td>\n      <td>0</td>\n      <td>0</td>\n      <td>0</td>\n      <td>0</td>\n      <td>...</td>\n      <td>0</td>\n      <td>0</td>\n      <td>0</td>\n      <td>0</td>\n      <td>0</td>\n      <td>0</td>\n      <td>0</td>\n      <td>0</td>\n      <td>0</td>\n      <td>0</td>\n    </tr>\n  </tbody>\n</table>\n<p>15 rows × 125 columns</p>\n</div>"
     },
     "metadata": {},
     "execution_count": 108
    }
   ],
   "source": [
    "genres = genres.transpose()\n",
    "genres = genres.rename(columns=genres.iloc[0])\n",
    "genres = genres.drop(genres.index[0])\n",
    "genres = genres.astype(int)\n",
    "genres"
   ]
  },
  {
   "cell_type": "code",
   "execution_count": 109,
   "metadata": {},
   "outputs": [
    {
     "output_type": "display_data",
     "data": {
      "text/plain": "interactive(children=(Dropdown(description='movie', options=('Radhe', 'Flight', 'Mumbi Saga', 'Vijay The Maste…",
      "application/vnd.jupyter.widget-view+json": {
       "version_major": 2,
       "version_minor": 0,
       "model_id": "d5abd477e5614ba1baf629729ceeec5d"
      }
     },
     "metadata": {}
    }
   ],
   "source": [
    "@interact\n",
    "def recommendation_movie(movie = list(genres.columns)):    \n",
    "    similar_movies = genres.corrwith(genres[movie])\n",
    "    similar_movies = similar_movies.sort_values(ascending=False)\n",
    "    similar_movies = similar_movies.iloc[1:]\n",
    "    return similar_movies.head(20)"
   ]
  },
  {
   "cell_type": "code",
   "execution_count": 110,
   "metadata": {},
   "outputs": [
    {
     "output_type": "execute_result",
     "data": {
      "text/plain": [
       "Index(['Radhe', 'Flight', 'Mumbi Saga', 'Vijay The Master',\n",
       "       'Chakra Ka Rakshak', 'The Power ', 'Khuda Hafiz', 'Bagi 3', 'Malang',\n",
       "       'Dabang 3',\n",
       "       ...\n",
       "       'Toofaan', 'Jersey', 'Maidaan', 'Raone', 'Ghajni', 'Veer', 'Veer Zaara',\n",
       "       'Mission Mangal', 'Half GirlFriend', 'Jagga jasoos'],\n",
       "      dtype='object', length=125)"
      ]
     },
     "metadata": {},
     "execution_count": 110
    }
   ],
   "source": []
  },
  {
   "cell_type": "code",
   "execution_count": 111,
   "metadata": {},
   "outputs": [
    {
     "output_type": "execute_result",
     "data": {
      "text/plain": [
       "Pantoon             1.0\n",
       "Akira               1.0\n",
       "Article 15          1.0\n",
       "Kesari              1.0\n",
       "Parmanu             1.0\n",
       "Batla House         1.0\n",
       "Baghi2              1.0\n",
       "Tiger Jinda Hai     1.0\n",
       "Madras CafÃ©        1.0\n",
       "Razi                1.0\n",
       "Bajrangi Baijaan    1.0\n",
       "Bothers             1.0\n",
       "Flight              1.0\n",
       "Baby                1.0\n",
       "Coolie No1          1.0\n",
       "Baghi               1.0\n",
       "Jay ho              1.0\n",
       "Singham Returns     1.0\n",
       "Wazeer              1.0\n",
       "Raees               1.0\n",
       "dtype: float64"
      ]
     },
     "metadata": {},
     "execution_count": 111
    }
   ],
   "source": [
    "similar_movies = genres.corrwith(genres[\"Radhe\"])\n",
    "similar_movies = similar_movies.sort_values(ascending=False)\n",
    "similar_movies = similar_movies.iloc[1:]\n",
    "similar_movies.head(20)"
   ]
  },
  {
   "cell_type": "code",
   "execution_count": 112,
   "metadata": {},
   "outputs": [
    {
     "output_type": "execute_result",
     "data": {
      "text/plain": [
       "pandas.core.series.Series"
      ]
     },
     "metadata": {},
     "execution_count": 112
    }
   ],
   "source": [
    "type(similar_movies.head(20))"
   ]
  },
  {
   "cell_type": "code",
   "execution_count": 123,
   "metadata": {},
   "outputs": [],
   "source": [
    "x = similar_movies.head(5)"
   ]
  },
  {
   "cell_type": "code",
   "execution_count": 125,
   "metadata": {},
   "outputs": [
    {
     "output_type": "execute_result",
     "data": {
      "text/plain": [
       "dict_keys(['Pantoon', 'Akira', 'Article 15', 'Kesari', 'Parmanu', 'Batla House', 'Baghi2', 'Tiger Jinda Hai', 'Madras CafÃ©', 'Razi', 'Bajrangi Baijaan', 'Bothers ', 'Flight', 'Baby', 'Coolie No1', 'Baghi', 'Jay ho', 'Singham Returns', 'Wazeer ', 'Raees'])"
      ]
     },
     "metadata": {},
     "execution_count": 125
    }
   ],
   "source": [
    "dict(x).keys()"
   ]
  },
  {
   "cell_type": "code",
   "execution_count": null,
   "metadata": {},
   "outputs": [],
   "source": []
  }
 ]
}